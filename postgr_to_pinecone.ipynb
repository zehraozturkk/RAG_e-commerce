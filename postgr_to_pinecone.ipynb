{
 "cells": [
  {
   "cell_type": "code",
   "execution_count": 1,
   "metadata": {},
   "outputs": [
    {
     "name": "stderr",
     "output_type": "stream",
     "text": [
      "C:\\Users\\fzehr\\AppData\\Local\\Temp\\ipykernel_75284\\3565532808.py:2: LangChainDeprecationWarning: The class `HuggingFaceEmbeddings` was deprecated in LangChain 0.2.2 and will be removed in 1.0. An updated version of the class exists in the :class:`~langchain-huggingface package and should be used instead. To use it run `pip install -U :class:`~langchain-huggingface` and import as `from :class:`~langchain_huggingface import HuggingFaceEmbeddings``.\n",
      "  embeddings = SentenceTransformerEmbeddings(model_name=\"all-MiniLM-L12-v2\")\n",
      "d:\\RAG_e-commerce\\RAG_e-commerce\\venv\\Lib\\site-packages\\tqdm\\auto.py:21: TqdmWarning: IProgress not found. Please update jupyter and ipywidgets. See https://ipywidgets.readthedocs.io/en/stable/user_install.html\n",
      "  from .autonotebook import tqdm as notebook_tqdm\n"
     ]
    }
   ],
   "source": [
    "from langchain_community.embeddings import SentenceTransformerEmbeddings\n",
    "embeddings = SentenceTransformerEmbeddings(model_name=\"all-MiniLM-L12-v2\")"
   ]
  },
  {
   "cell_type": "code",
   "execution_count": 34,
   "metadata": {},
   "outputs": [
    {
     "name": "stdout",
     "output_type": "stream",
     "text": [
      "client=SentenceTransformer(\n",
      "  (0): Transformer({'max_seq_length': 128, 'do_lower_case': False}) with Transformer model: BertModel \n",
      "  (1): Pooling({'word_embedding_dimension': 384, 'pooling_mode_cls_token': False, 'pooling_mode_mean_tokens': True, 'pooling_mode_max_tokens': False, 'pooling_mode_mean_sqrt_len_tokens': False, 'pooling_mode_weightedmean_tokens': False, 'pooling_mode_lasttoken': False, 'include_prompt': True})\n",
      "  (2): Normalize()\n",
      ") model_name='all-MiniLM-L12-v2' cache_folder=None model_kwargs={} encode_kwargs={} multi_process=False show_progress=False\n"
     ]
    }
   ],
   "source": [
    "print(embeddings)"
   ]
  },
  {
   "cell_type": "code",
   "execution_count": 12,
   "metadata": {},
   "outputs": [],
   "source": [
    "from connect_db import create_connection\n",
    "from collections import defaultdict\n"
   ]
  },
  {
   "cell_type": "code",
   "execution_count": 36,
   "metadata": {},
   "outputs": [
    {
     "data": {
      "text/plain": [
       "384"
      ]
     },
     "execution_count": 36,
     "metadata": {},
     "output_type": "execute_result"
    }
   ],
   "source": [
    "query_result = embeddings.embed_query(\"heelo world\")\n",
    "len(query_result)"
   ]
  },
  {
   "cell_type": "code",
   "execution_count": 13,
   "metadata": {},
   "outputs": [],
   "source": [
    "from langchain_core.documents import Document\n"
   ]
  },
  {
   "cell_type": "code",
   "execution_count": 1,
   "metadata": {},
   "outputs": [
    {
     "name": "stderr",
     "output_type": "stream",
     "text": [
      "d:\\RAG_e-commerce\\RAG_e-commerce\\venv\\Lib\\site-packages\\pinecone\\data\\index.py:1: TqdmWarning: IProgress not found. Please update jupyter and ipywidgets. See https://ipywidgets.readthedocs.io/en/stable/user_install.html\n",
      "  from tqdm.autonotebook import tqdm\n"
     ]
    }
   ],
   "source": [
    "import os\n",
    "import time\n",
    "import dotenv\n",
    "import os\n",
    "\n",
    "from pinecone import Pinecone, ServerlessSpec\n",
    "apikey= os.getenv(\"PINECONE_API_KEY\")\n",
    "pc= Pinecone(api_key = apikey)\n",
    "\n",
    "\n"
   ]
  },
  {
   "cell_type": "code",
   "execution_count": 5,
   "metadata": {},
   "outputs": [],
   "source": [
    "index = pc.Index(\"ecommerce-2\")"
   ]
  },
  {
   "cell_type": "code",
   "execution_count": 3,
   "metadata": {},
   "outputs": [],
   "source": [
    "from langchain_huggingface import HuggingFaceEmbeddings\n",
    "\n",
    "embeddings = HuggingFaceEmbeddings(model_name=\"sentence-transformers/all-MiniLM-L12-v2\")"
   ]
  },
  {
   "cell_type": "code",
   "execution_count": 6,
   "metadata": {},
   "outputs": [],
   "source": [
    "from langchain_pinecone import PineconeVectorStore\n",
    "\n",
    "vector_store = PineconeVectorStore(index=index, embedding=embeddings)"
   ]
  },
  {
   "cell_type": "code",
   "execution_count": 14,
   "metadata": {},
   "outputs": [],
   "source": [
    "def fetch_data_from_postgres():\n",
    "    connection = create_connection()\n",
    "    cursor = connection.cursor()\n",
    "    query = \"\"\"\n",
    "        -- her sipariş kullanıcı ve ürün bilgileir ile birleşir\n",
    "SELECT\n",
    "    u.user_id,\n",
    "    u.user_name AS user_name,\n",
    "    o.order_id,\n",
    "    o.product_id,\n",
    "    o.order_date,\n",
    "    p.product_name AS product_name,\n",
    "    p.category AS product_category\n",
    "FROM\n",
    "    orders o\n",
    "JOIN\n",
    "    users u ON o.user_id = u.user_id\n",
    "JOIN\n",
    "    products p ON o.product_id = p.product_id\n",
    "ORDER BY \n",
    "    o.order_date DESC;\n",
    "        \"\"\"\n",
    "    cursor.execute(query)\n",
    "    data = cursor.fetchall()\n",
    "    print(\"veri alınıd\")\n",
    "    connection.close()\n",
    "    return data\n",
    "\n"
   ]
  },
  {
   "cell_type": "code",
   "execution_count": 26,
   "metadata": {},
   "outputs": [],
   "source": [
    "def prepare_docs(data):\n",
    "    documents = []\n",
    "\n",
    "    grouped_orders = defaultdict(list)\n",
    "    for row in data:\n",
    "        user_id, user_name, order_id, product_id, order_date, product_name, product_category = row\n",
    "\n",
    "        order_date_trimmed = order_date.replace(microsecond=0)\n",
    "\n",
    "        key = (user_id, order_date_trimmed)\n",
    "\n",
    "        if key not in grouped_orders:\n",
    "            grouped_orders[key] = {\n",
    "                'user_name': user_name,  # Kullanıcı adı ekleniyor\n",
    "                'products': []          # Ürünler için boş liste\n",
    "            }\n",
    "\n",
    "    # Ürün bilgisi ekleniyor\n",
    "        grouped_orders[key]['products'].append({\n",
    "            'product_name': product_name,\n",
    "            'category': product_category\n",
    "        })\n",
    "\n",
    "    print(f\"groped orders into {len(grouped_orders)} unique user_date combinations\")\n",
    "\n",
    "    for (user_id, order_date), details in grouped_orders.items():\n",
    "        user_name = details['user_name']\n",
    "        products = details['products']\n",
    "        \n",
    "        # Ürün bilgilerini birleştir, sadece dict olanları al\n",
    "        products_text = \" and \".join([\n",
    "            f\"{p['product_name']} ({p['category']})\"\n",
    "            for p in products if isinstance(p, dict)\n",
    "        ])\n",
    "\n",
    "    \n",
    "        text = f\"User {user_name} ordered {products_text} on {order_date}\"\n",
    "        #print(text)\n",
    "        # embedding = embeddings.embed_documents(text)\n",
    "        \n",
    "        # Metadata hazırla\n",
    "        metadata = {\n",
    "            \"user_id\": user_id,\n",
    "            \"user_name\": user_name,\n",
    "            \"order_date\": str(order_date),\n",
    "            \"products\": [p['product_name'] for p in products if isinstance(p, dict)],\n",
    "            \"categories\": [p['category'] for p in products if isinstance(p, dict)]\n",
    "        }\n",
    "        # print(metadata)\n",
    "\n",
    "        doc = Document(\n",
    "            page_content = text,\n",
    "            metadata=metadata\n",
    "        )\n",
    "        documents.append(doc)\n",
    "\n",
    "        # unique_id = f\"{user_id}_{order_date}\"\n",
    "        # embedding_list.append((unique_id, embedding, metadata))\n",
    "        \n",
    "        # embeddings.append((user_id, embedding, metadata))\n",
    "\n",
    "    return documents"
   ]
  },
  {
   "cell_type": "code",
   "execution_count": 27,
   "metadata": {},
   "outputs": [
    {
     "name": "stdout",
     "output_type": "stream",
     "text": [
      "connection succes\n",
      "veri alınıd\n",
      "groped orders into 140 unique user_date combinations\n"
     ]
    }
   ],
   "source": [
    "data = fetch_data_from_postgres()\n",
    "docs = prepare_docs(data)"
   ]
  },
  {
   "cell_type": "code",
   "execution_count": 31,
   "metadata": {},
   "outputs": [
    {
     "data": {
      "text/plain": [
       "Document(metadata={'user_id': 346, 'user_name': 'Jacob Fischer', 'order_date': '2025-01-01 14:16:55', 'products': ['Smartwatch (Pink)', 'Plus Size Coat (Green)'], 'categories': ['Electronics', 'Clothing']}, page_content='User Jacob Fischer ordered Smartwatch (Pink) (Electronics) and Plus Size Coat (Green) (Clothing) on 2025-01-01 14:16:55')"
      ]
     },
     "execution_count": 31,
     "metadata": {},
     "output_type": "execute_result"
    }
   ],
   "source": [
    "docs[1]"
   ]
  },
  {
   "cell_type": "code",
   "execution_count": 33,
   "metadata": {},
   "outputs": [],
   "source": [
    "from uuid import uuid4\n",
    "\n",
    "uuids = [str(uuid4()) for _ in range(len(docs))]\n"
   ]
  },
  {
   "cell_type": "code",
   "execution_count": 34,
   "metadata": {},
   "outputs": [
    {
     "data": {
      "text/plain": [
       "['f386a5c8-219b-41ee-b120-49a805375946',\n",
       " 'ccb54243-89d8-4862-a85a-bc3e63974c17',\n",
       " 'bb9243ac-09a8-482b-a5c2-cafbab09f5ef',\n",
       " '4db47027-bf41-485d-bb79-b7819a777e77',\n",
       " 'd0011354-9351-4298-9625-8f8b8eef44d3',\n",
       " 'ecf8a6b5-1d60-450a-99e9-28dd586f0a23',\n",
       " '49c170e0-e1b5-4f04-a1d9-b17e46cc0106',\n",
       " 'bdfbc029-9f15-43c5-ac0d-a86ffbfea663',\n",
       " '13e6a811-9fad-4eab-9afc-105e6b9088b2',\n",
       " 'c91bef84-3673-412c-ac57-200263c81d34',\n",
       " 'be4315b2-3603-4c3d-a239-14056de30f64',\n",
       " '18356b7e-e8ee-4796-931e-3d518be6bb4d',\n",
       " '27d06b6e-c10f-44e4-8bc5-6e7362dfeea7',\n",
       " 'fb9ec26b-c798-4468-9741-947730f6ddab',\n",
       " 'a4196655-ede5-4e7c-a7fa-38cdb2851e4f',\n",
       " '29ca8f0a-b7bc-4efe-b5fd-8e21e0128629',\n",
       " '99bb6198-be4c-4199-a9d6-c879fe73cfdb',\n",
       " 'a101f0f3-42fe-430d-b373-266adce1688c',\n",
       " '3186bf54-9bc2-4117-9a38-874f4961c201',\n",
       " '0318c63d-cb8c-4bb4-9800-811adbc8e6b9',\n",
       " 'b61121fd-d07f-477a-b542-4a05bd858013',\n",
       " 'e69f40f6-768e-4a63-8905-7fb927039175',\n",
       " 'c68b9c1a-f563-4326-a372-94dad2e2f0e0',\n",
       " 'da094ece-3807-4f40-aa1c-30d770f13f2d',\n",
       " '9bc0eb81-80eb-4932-9d7e-c83a53ca95b0',\n",
       " '4b041c7e-bfeb-4e53-b4fe-328a96d6028e',\n",
       " 'f84bd2c0-6db7-4265-82de-68668cd8c062',\n",
       " 'd5e83ae8-0779-4867-abe9-ff087b969e53',\n",
       " '8d1e0415-1695-4746-b7d0-3b9811dbbf0d',\n",
       " '5322198c-4756-4804-8a00-187ea9703917',\n",
       " '0556c5c5-3091-400e-ac83-0674d3a9024e',\n",
       " '90fce755-ddc6-4937-ad84-4afdbd7b4778',\n",
       " '0bdbf276-cf97-43c1-90ff-0edf12c0e492',\n",
       " 'dc496ec9-e627-4da7-94c4-7fde5ba15bf3',\n",
       " '4a921812-ccdc-4528-af0b-e325b33ef759',\n",
       " '2d327f83-c5d1-4450-8f08-e5d4c1a1dcf9',\n",
       " '7ec659e6-a5ba-4ddf-b646-67a3a614861d',\n",
       " 'bc57c028-9e9f-468d-96f7-018429876d5b',\n",
       " 'ac9e04e0-4740-42af-b6e3-8aadd8d52568',\n",
       " '0bf17ec9-f578-4922-ba09-110636297463',\n",
       " '0faaa181-b30c-4e1b-b8da-19ca22d04fed',\n",
       " 'd8f63d87-8dcb-4c72-8e3f-90423ceb0234',\n",
       " '0ee7c2b3-5a0c-43f4-8ddf-b3d67a35c80d',\n",
       " 'faf52b17-c5f6-46b4-8fd3-ab57854fc32f',\n",
       " 'f2b2b365-71d4-464f-a663-1b03207768c3',\n",
       " 'b487d123-fea4-40c3-b5a2-592a13851bb8',\n",
       " '23fa39d3-ce97-4688-aa83-c1caa7b6ceda',\n",
       " '11563763-91ab-4232-a67a-a4c15e2b033e',\n",
       " '4b8a2e5a-88c7-41ae-a0f1-51dd3def23dd',\n",
       " '5bd655ad-4e8b-4fda-9e9f-66c17aab6a89',\n",
       " '7007629c-515d-49a6-8482-ca656103c722',\n",
       " '72183d52-17ab-401d-810e-726e471cb347',\n",
       " 'edcf350b-5bbb-4008-ae07-ffe2ca054bce',\n",
       " '59dc87d4-d36f-4a7b-8bfd-c0dcef280547',\n",
       " 'a11ae6f9-b2ec-45cc-8172-7d658ce028ed',\n",
       " '82589eb7-b764-4536-b671-ecf95521b94e',\n",
       " '73f8d171-d2d7-419a-973f-3d4e166ebe3b',\n",
       " 'fc4f14c7-217b-4e07-a6c3-aa4c8f0399e4',\n",
       " 'ab126336-9efd-4fd7-8d62-6b949f706a5c',\n",
       " 'eeca6a23-d1e4-4cbc-ba26-487c5d670923',\n",
       " '131c5f88-df99-4517-b825-ceb9df43df11',\n",
       " '22a994b3-bf74-40ea-9e35-9d2ce7977c70',\n",
       " '651ffcee-2e2a-47a3-847a-50790f66ef05',\n",
       " '8700d520-5410-4cf7-b2e8-8ae3c6c5657a',\n",
       " 'e4d7c96a-8c48-4ea8-9dc5-24ba3324d168',\n",
       " '51deefbe-3044-4c66-be55-8220eff7930e',\n",
       " 'a097ab7b-c627-4444-a0b4-ed3b37ae2ecc',\n",
       " 'b02b1dc5-2821-4fc3-a3c4-5e46f53f93f0',\n",
       " '326dd35f-73fb-4652-bb86-828f9d32abcf',\n",
       " '48fdc4e1-3245-4710-9893-ffba4fef5089',\n",
       " 'f9ecf43b-bc44-4e72-a760-85045de47c7b',\n",
       " '0eb06140-8d10-47a3-bb80-596623dca6e6',\n",
       " '88131be6-3ddd-4be1-8dbc-b097aa1a0330',\n",
       " '4dd4b3cb-e015-4ee1-b2bb-65cdb8f6ff02',\n",
       " '3b5437df-8daa-46b4-bb10-ee1d0c657a31',\n",
       " 'e382f029-c6b9-4bb9-817b-7a68fc72be0f',\n",
       " 'aefbae6b-2d34-4287-ae4c-f65bb70ec594',\n",
       " '3ff41e46-c2e4-4a6f-9835-8544fbaf235b',\n",
       " '271496dd-1dd2-45e3-a145-f0cea98f796c',\n",
       " '87d345d1-5508-4659-9a66-73e1d54e6295',\n",
       " 'bccd3540-2205-4a11-bd68-49ed7a0ce225',\n",
       " 'abe5da46-62ea-4d41-ab9d-a31e6b77d322',\n",
       " 'ca5686b7-fbfe-4497-9ce5-fa59b7d8bfd0',\n",
       " 'a49d834b-3a40-4497-9f4f-1e8998f3f38c',\n",
       " 'd6346d6a-6a3d-4dc4-97a5-48fc9144d467',\n",
       " 'e6b0adc0-3c6b-4ced-abc7-b2a8ec24b792',\n",
       " 'f9713e11-1d2e-48c1-aa6e-8b073309ed69',\n",
       " '67930008-8ca1-45a0-9ad4-3363729d5403',\n",
       " '3e8f9119-806a-44ac-9696-9d78b4385cca',\n",
       " '786f8e2b-3cae-4d91-ab5e-bc772d713ed5',\n",
       " '3aa6071b-b11c-49c5-a4b3-788f202b19f8',\n",
       " 'fe2b06ff-c4cf-4097-abcb-5fc27bb5e6ed',\n",
       " '937043cd-6206-43e5-939c-80ffe9dab4c1',\n",
       " '83de3b61-956a-4411-8bb6-23305e13aed2',\n",
       " 'dcf90beb-dba8-4287-b713-5c0a58d923d9',\n",
       " 'e3145d6d-91bf-4f87-870b-ee1c9622c80b',\n",
       " 'dc76511e-83c5-4b02-9324-78f1a425623a',\n",
       " 'b10537bd-70be-42bc-97fb-42f433ceb1fb',\n",
       " 'f2b18517-a7ed-47bc-b6ea-b5707195eaa3',\n",
       " '2cc294f3-73de-4f36-b157-2bf34a2a2408',\n",
       " '519f7666-1cf4-4981-b5c4-690b86d8f993',\n",
       " '1a33c04c-faa2-4d7f-ba9a-74482f15477c',\n",
       " '8c530d45-4ec7-42ad-978f-d3f64128755e',\n",
       " '9d360b7c-48d4-49d6-af4b-5d1396c002cb',\n",
       " '71fab6a2-91ae-4446-8114-ca8631e31fb9',\n",
       " '9ff8b514-d6c6-4b75-814b-89ae59a21b78',\n",
       " '1f93b257-9426-4abb-a0b1-874fd789b041',\n",
       " '0ae50314-a39c-40c5-bf93-3a146b32ce80',\n",
       " 'bc8a12b7-0115-48db-9e4e-dcf0714858bb',\n",
       " '552e6cc7-ba36-449e-9411-e0aa8a0870d5',\n",
       " '1d89b797-c0a9-4859-9a31-89cef8c5c471',\n",
       " '8a3c1447-457b-4bc1-aded-27a9e7f0ab23',\n",
       " 'a84df4d9-dab7-4787-8fee-89bb65fc0284',\n",
       " '7521d5c9-c2e3-4526-985e-404a26292e80',\n",
       " 'fc7db587-d242-4a8f-aa77-36bea3f361a9',\n",
       " '1c3d96dd-c06f-4553-bba0-4db1e06b4167',\n",
       " '84ec1fc8-c438-4aaf-864e-afa98c85483c',\n",
       " '23012aef-1431-4b96-9746-64212f844c43',\n",
       " '94fdc367-614b-4804-b275-4dbf50adc39f',\n",
       " '86067d13-ebfc-496b-b2c8-f87d0fce5655',\n",
       " 'ceb408ae-53d7-4bcd-a2e8-e46614b51593',\n",
       " '5e343322-c824-41d9-89d7-711afe451640',\n",
       " '56fbcaa6-9a8e-4dd5-a725-d7aa84f6c02d',\n",
       " 'd17b5870-0393-4fde-8b3f-af88238cfe76',\n",
       " '6a685bb6-9b62-45ea-a7fc-873af489ac9a',\n",
       " '2a57e613-07dd-4a15-adf8-fce56fc8b043',\n",
       " 'bd007a7a-7fb6-4f27-beb3-2d8e76c6d799',\n",
       " '0acbecf6-6823-43d2-b558-b9bf6b6c4c2c',\n",
       " '930b86c0-5ca3-4617-a3c4-429d74655d06',\n",
       " '2f001f40-6eec-47fe-a173-dcc265ac6803',\n",
       " 'a028408c-08e7-4091-a877-428a87fe0075',\n",
       " '9f824c9f-7812-4faa-8667-a7df38592087',\n",
       " '7c74637c-3314-45eb-84c2-2eb9c55f677a',\n",
       " '5696e1f9-7539-41d6-bed8-07ebf6755042',\n",
       " '923848d7-9797-4e85-9189-3433a6df617f',\n",
       " 'd007ed76-7080-496e-9251-295fd0d1c949',\n",
       " '6ed36e2a-7ee8-46c9-b379-b3a665838f19',\n",
       " '14048792-0138-4490-b035-1c72816b66cf',\n",
       " '60162f1d-7c88-46e0-aa55-057fff60f651',\n",
       " '18163524-20ae-4bc8-bb4f-4efacb6b80de']"
      ]
     },
     "execution_count": 34,
     "metadata": {},
     "output_type": "execute_result"
    }
   ],
   "source": [
    "vector_store.add_documents(documents=docs, ids = uuids)"
   ]
  },
  {
   "cell_type": "code",
   "execution_count": 38,
   "metadata": {},
   "outputs": [
    {
     "name": "stdout",
     "output_type": "stream",
     "text": [
      "* [SIM=0.490285] User Cheryl Fuller ordered Smartphone (Yellow) (Electronics) on 2025-01-01 14:11:59 [{'categories': ['Electronics'], 'order_date': '2025-01-01 14:11:59', 'products': ['Smartphone (Yellow)'], 'user_id': 350.0, 'user_name': 'Cheryl Fuller'}]\n",
      "* [SIM=0.379550] User Marcus Williams ordered Powerbank (Purple) (Electronics) and Smartphone (Red) (Electronics) on 2025-01-01 13:06:39 [{'categories': ['Electronics', 'Electronics'], 'order_date': '2025-01-01 13:06:39', 'products': ['Powerbank (Purple)', 'Smartphone (Red)'], 'user_id': 349.0, 'user_name': 'Marcus Williams'}]\n",
      "* [SIM=0.373453] User Mr. Joseph Taylor ordered Smartphone (Blue) (Electronics) and Food Processor (Purple) (Home Goods) on 2025-01-01 14:12:56 [{'categories': ['Electronics', 'Home Goods'], 'order_date': '2025-01-01 14:12:56', 'products': ['Smartphone (Blue)', 'Food Processor (Purple)'], 'user_id': 398.0, 'user_name': 'Mr. Joseph Taylor'}]\n"
     ]
    }
   ],
   "source": [
    "results = vector_store.similarity_search_with_score(\n",
    "    \"who bus a smartphone\",\n",
    "    k=3,\n",
    ")\n",
    "for res, score in results:\n",
    "    print(f\"* [SIM={score:3f}] {res.page_content} [{res.metadata}]\")"
   ]
  },
  {
   "cell_type": "code",
   "execution_count": 44,
   "metadata": {},
   "outputs": [],
   "source": [
    "def retrieve_query(query, k=100):\n",
    "    matching_docs = vector_store.similarity_search(query, k=k)\n",
    "    return matching_docs"
   ]
  },
  {
   "cell_type": "code",
   "execution_count": 41,
   "metadata": {},
   "outputs": [],
   "source": [
    "from langchain.chains.question_answering import load_qa_chain\n",
    "from langchain_community.chat_models import ChatOpenAI"
   ]
  },
  {
   "cell_type": "code",
   "execution_count": 42,
   "metadata": {},
   "outputs": [
    {
     "name": "stderr",
     "output_type": "stream",
     "text": [
      "C:\\Users\\fzehr\\AppData\\Local\\Temp\\ipykernel_51260\\1360019337.py:1: LangChainDeprecationWarning: The class `ChatOpenAI` was deprecated in LangChain 0.0.10 and will be removed in 1.0. An updated version of the class exists in the :class:`~langchain-openai package and should be used instead. To use it run `pip install -U :class:`~langchain-openai` and import as `from :class:`~langchain_openai import ChatOpenAI``.\n",
      "  llm = ChatOpenAI(model_name = \"gpt-3.5-turbo\", temperature = 0)\n"
     ]
    }
   ],
   "source": [
    "llm = ChatOpenAI(model_name = \"gpt-3.5-turbo\", temperature = 0)"
   ]
  },
  {
   "cell_type": "code",
   "execution_count": 45,
   "metadata": {},
   "outputs": [
    {
     "name": "stderr",
     "output_type": "stream",
     "text": [
      "C:\\Users\\fzehr\\AppData\\Local\\Temp\\ipykernel_51260\\3203274189.py:1: LangChainDeprecationWarning: This class is deprecated. See the following migration guides for replacements based on `chain_type`:\n",
      "stuff: https://python.langchain.com/docs/versions/migrating_chains/stuff_docs_chain\n",
      "map_reduce: https://python.langchain.com/docs/versions/migrating_chains/map_reduce_chain\n",
      "refine: https://python.langchain.com/docs/versions/migrating_chains/refine_chain\n",
      "map_rerank: https://python.langchain.com/docs/versions/migrating_chains/map_rerank_docs_chain\n",
      "\n",
      "See also guides on retrieval and question-answering here: https://python.langchain.com/docs/how_to/#qa-with-rag\n",
      "  chain = load_qa_chain(llm,chain_type=\"stuff\")\n"
     ]
    }
   ],
   "source": [
    "chain = load_qa_chain(llm,chain_type=\"stuff\")"
   ]
  },
  {
   "cell_type": "code",
   "execution_count": 43,
   "metadata": {},
   "outputs": [],
   "source": [
    "from langchain.prompts import ChatPromptTemplate\n",
    "\n",
    "rag_template = \"\"\"Answer the following question based on this context:\n",
    "{context}\n",
    "Question: {question}\n",
    "\"\"\"\n",
    "rag_prompt = ChatPromptTemplate.from_template(rag_template)"
   ]
  },
  {
   "cell_type": "code",
   "execution_count": 47,
   "metadata": {},
   "outputs": [],
   "source": [
    "def retrieve_answer(query):\n",
    "    doc_search = retrieve_query(query)\n",
    "    print(doc_search)\n",
    "    response = chain.run(input_documents = doc_search, question = query )\n",
    "    return response"
   ]
  },
  {
   "cell_type": "code",
   "execution_count": 49,
   "metadata": {},
   "outputs": [
    {
     "name": "stdout",
     "output_type": "stream",
     "text": [
      "[Document(id='5322198c-4756-4804-8a00-187ea9703917', metadata={'categories': ['Home Goods', 'Home Goods'], 'order_date': '2025-01-01 14:15:03', 'products': ['Table Clock (Orange)', 'Table Clock (White)'], 'user_id': 494.0, 'user_name': 'Andrea Thomas'}, page_content='User Andrea Thomas ordered Table Clock (Orange) (Home Goods) and Table Clock (White) (Home Goods) on 2025-01-01 14:15:03'), Document(id='d17b5870-0393-4fde-8b3f-af88238cfe76', metadata={'categories': ['Home Goods', 'Personal Care', 'Flower Type'], 'order_date': '2024-12-30 10:24:46', 'products': ['Table Clock (Black)', 'Perfume (Yellow)', 'Succulent (Brown)'], 'user_id': 459.0, 'user_name': 'Daniel Taylor'}, page_content='User Daniel Taylor ordered Table Clock (Black) (Home Goods) and Perfume (Yellow) (Personal Care) and Succulent (Brown) (Flower Type) on 2024-12-30 10:24:46'), Document(id='1a33c04c-faa2-4d7f-ba9a-74482f15477c', metadata={'categories': ['Home Goods', 'Flower Type', 'Flower Type', 'Home Goods'], 'order_date': '2025-01-01 14:10:14', 'products': ['Table Clock (Black)', 'Ficus (Orange)', 'Cactus (Red)', 'Knife Set (Green)'], 'user_id': 390.0, 'user_name': 'Tamara Lewis'}, page_content='User Tamara Lewis ordered Table Clock (Black) (Home Goods) and Ficus (Orange) (Flower Type) and Cactus (Red) (Flower Type) and Knife Set (Green) (Home Goods) on 2025-01-01 14:10:14'), Document(id='f2b18517-a7ed-47bc-b6ea-b5707195eaa3', metadata={'categories': ['Home Goods', 'Electronics', 'Home Goods'], 'order_date': '2025-01-01 14:10:28', 'products': ['Table Clock (White)', 'Smartphone (Red)', 'Pitcher (Brown)'], 'user_id': 387.0, 'user_name': 'Jeffery Johnson'}, page_content='User Jeffery Johnson ordered Table Clock (White) (Home Goods) and Smartphone (Red) (Electronics) and Pitcher (Brown) (Home Goods) on 2025-01-01 14:10:28'), Document(id='3b5437df-8daa-46b4-bb10-ee1d0c657a31', metadata={'categories': ['Home Goods', 'Electronics'], 'order_date': '2025-01-01 14:12:02', 'products': ['Table Clock (Orange)', 'Smartphone (Blue)'], 'user_id': 431.0, 'user_name': 'Derek Holt'}, page_content='User Derek Holt ordered Table Clock (Orange) (Home Goods) and Smartphone (Blue) (Electronics) on 2025-01-01 14:12:02'), Document(id='fb9ec26b-c798-4468-9741-947730f6ddab', metadata={'categories': ['Flower Type'], 'order_date': '2025-01-01 14:16:12', 'products': ['Tulip (White)'], 'user_id': 550.0, 'user_name': 'Joshua Espinoza'}, page_content='User Joshua Espinoza ordered Tulip (White) (Flower Type) on 2025-01-01 14:16:12'), Document(id='8d1e0415-1695-4746-b7d0-3b9811dbbf0d', metadata={'categories': ['Flower Type'], 'order_date': '2025-01-01 14:15:06', 'products': ['Succulent (Purple)'], 'user_id': 358.0, 'user_name': 'Diana Harmon'}, page_content='User Diana Harmon ordered Succulent (Purple) (Flower Type) on 2025-01-01 14:15:06'), Document(id='f9ecf43b-bc44-4e72-a760-85045de47c7b', metadata={'categories': ['Flower Type'], 'order_date': '2025-01-01 14:12:20', 'products': ['Begonia (Blue)'], 'user_id': 490.0, 'user_name': 'Rachel Raymond'}, page_content='User Rachel Raymond ordered Begonia (Blue) (Flower Type) on 2025-01-01 14:12:20'), Document(id='18163524-20ae-4bc8-bb4f-4efacb6b80de', metadata={'categories': ['Home Goods', 'Personal Care', 'Flower Type', 'Personal Care', 'Personal Care'], 'order_date': '2024-12-30 10:23:42', 'products': ['Table Clock (Orange)', 'Toothbrush (Blue)', 'Succulent (Blue)', 'Shampoo (Pink)', 'Perfume (White)'], 'user_id': 434.0, 'user_name': 'Monique Wright'}, page_content='User Monique Wright ordered Table Clock (Orange) (Home Goods) and Toothbrush (Blue) (Personal Care) and Succulent (Blue) (Flower Type) and Shampoo (Pink) (Personal Care) and Perfume (White) (Personal Care) on 2024-12-30 10:23:42'), Document(id='0318c63d-cb8c-4bb4-9800-811adbc8e6b9', metadata={'categories': ['Flower Type'], 'order_date': '2025-01-01 14:15:45', 'products': ['Cactus (Pink)'], 'user_id': 418.0, 'user_name': 'Troy Shepherd'}, page_content='User Troy Shepherd ordered Cactus (Pink) (Flower Type) on 2025-01-01 14:15:45'), Document(id='5696e1f9-7539-41d6-bed8-07ebf6755042', metadata={'categories': ['Jewelry', 'Home Goods', 'Clothing', 'Personal Care'], 'order_date': '2024-12-30 10:24:03', 'products': ['Ring (Blue)', 'Table Clock (Black)', 'Straight Jeans (Purple)', 'Shampoo (Blue)'], 'user_id': 438.0, 'user_name': 'Jeremy Taylor'}, page_content='User Jeremy Taylor ordered Ring (Blue) (Jewelry) and Table Clock (Black) (Home Goods) and Straight Jeans (Purple) (Clothing) and Shampoo (Blue) (Personal Care) on 2024-12-30 10:24:03'), Document(id='1d89b797-c0a9-4859-9a31-89cef8c5c471', metadata={'categories': ['Home Goods'], 'order_date': '2025-01-01 13:06:59', 'products': ['Pitcher (Purple)'], 'user_id': 348.0, 'user_name': 'Christina Martinez'}, page_content='User Christina Martinez ordered Pitcher (Purple) (Home Goods) on 2025-01-01 13:06:59'), Document(id='f84bd2c0-6db7-4265-82de-68668cd8c062', metadata={'categories': ['Clothing'], 'order_date': '2025-01-01 14:15:16', 'products': ['Wool Sweater (White)'], 'user_id': 471.0, 'user_name': 'Joseph Guzman'}, page_content='User Joseph Guzman ordered Wool Sweater (White) (Clothing) on 2025-01-01 14:15:16'), Document(id='4b041c7e-bfeb-4e53-b4fe-328a96d6028e', metadata={'categories': ['Clothing'], 'order_date': '2025-01-01 14:15:21', 'products': ['Mom Jeans (Black)'], 'user_id': 487.0, 'user_name': 'Matthew Miller'}, page_content='User Matthew Miller ordered Mom Jeans (Black) (Clothing) on 2025-01-01 14:15:21'), Document(id='6ed36e2a-7ee8-46c9-b379-b3a665838f19', metadata={'categories': ['Home Goods', 'Electronics'], 'order_date': '2024-12-30 10:23:52', 'products': ['Table Clock (Pink)', 'keyword (Green)'], 'user_id': 417.0, 'user_name': 'Rachel Brown'}, page_content='User Rachel Brown ordered Table Clock (Pink) (Home Goods) and keyword (Green) (Electronics) on 2024-12-30 10:23:52'), Document(id='fc4f14c7-217b-4e07-a6c3-aa4c8f0399e4', metadata={'categories': ['Home Goods'], 'order_date': '2025-01-01 14:13:12', 'products': ['Knife Set (Green)'], 'user_id': 363.0, 'user_name': 'Michael Davies'}, page_content='User Michael Davies ordered Knife Set (Green) (Home Goods) on 2025-01-01 14:13:12'), Document(id='fe2b06ff-c4cf-4097-abcb-5fc27bb5e6ed', metadata={'categories': ['Jewelry'], 'order_date': '2025-01-01 14:10:59', 'products': ['Necklace (Purple)'], 'user_id': 431.0, 'user_name': 'Derek Holt'}, page_content='User Derek Holt ordered Necklace (Purple) (Jewelry) on 2025-01-01 14:10:59'), Document(id='c91bef84-3673-412c-ac57-200263c81d34', metadata={'categories': ['Clothing', 'Flower Type'], 'order_date': '2025-01-01 14:16:27', 'products': ['Shirt (Purple)', 'Orchid (Brown)'], 'user_id': 439.0, 'user_name': 'Elizabeth Murphy'}, page_content='User Elizabeth Murphy ordered Shirt (Purple) (Clothing) and Orchid (Brown) (Flower Type) on 2025-01-01 14:16:27'), Document(id='27d06b6e-c10f-44e4-8bc5-6e7362dfeea7', metadata={'categories': ['Jewelry'], 'order_date': '2025-01-01 14:16:15', 'products': ['Ring (Orange)'], 'user_id': 480.0, 'user_name': 'Jaime Vargas'}, page_content='User Jaime Vargas ordered Ring (Orange) (Jewelry) on 2025-01-01 14:16:15'), Document(id='8c530d45-4ec7-42ad-978f-d3f64128755e', metadata={'categories': ['Clothing', 'Flower Type'], 'order_date': '2025-01-01 14:10:10', 'products': ['Plus Size Coat (Red)', 'Orchid (Brown)'], 'user_id': 459.0, 'user_name': 'Daniel Taylor'}, page_content='User Daniel Taylor ordered Plus Size Coat (Red) (Clothing) and Orchid (Brown) (Flower Type) on 2025-01-01 14:10:10'), Document(id='651ffcee-2e2a-47a3-847a-50790f66ef05', metadata={'categories': ['Clothing'], 'order_date': '2025-01-01 14:12:52', 'products': ['Shirt (Purple)'], 'user_id': 462.0, 'user_name': 'Thomas Campos'}, page_content='User Thomas Campos ordered Shirt (Purple) (Clothing) on 2025-01-01 14:12:52'), Document(id='3e8f9119-806a-44ac-9696-9d78b4385cca', metadata={'categories': ['Electronics', 'Home Goods'], 'order_date': '2025-01-01 14:11:10', 'products': ['mouse (Black)', 'Curtain (White)'], 'user_id': 359.0, 'user_name': 'Henry Rivera'}, page_content='User Henry Rivera ordered mouse (Black) (Electronics) and Curtain (White) (Home Goods) on 2025-01-01 14:11:10'), Document(id='bc57c028-9e9f-468d-96f7-018429876d5b', metadata={'categories': ['Clothing', 'Flower Type', 'Flower Type'], 'order_date': '2025-01-01 14:14:32', 'products': ['Straight Jeans (White)', 'Daisy (Red)', 'Orchid (Pink)'], 'user_id': 507.0, 'user_name': 'Calvin Harrell'}, page_content='User Calvin Harrell ordered Straight Jeans (White) (Clothing) and Daisy (Red) (Flower Type) and Orchid (Pink) (Flower Type) on 2025-01-01 14:14:32'), Document(id='bc8a12b7-0115-48db-9e4e-dcf0714858bb', metadata={'categories': ['Home Goods', 'Personal Care', 'Home Goods', 'Home Goods'], 'order_date': '2025-01-01 14:09:44', 'products': ['Table Clock (Orange)', 'Shampoo (Orange)', 'Carpet (Orange)', 'Pot (Pink)'], 'user_id': 439.0, 'user_name': 'Elizabeth Murphy'}, page_content='User Elizabeth Murphy ordered Table Clock (Orange) (Home Goods) and Shampoo (Orange) (Personal Care) and Carpet (Orange) (Home Goods) and Pot (Pink) (Home Goods) on 2025-01-01 14:09:44'), Document(id='4db47027-bf41-485d-bb79-b7819a777e77', metadata={'categories': ['Flower Type', 'Jewelry'], 'order_date': '2025-01-01 14:16:47', 'products': ['Begonia (Red)', 'Ring (Red)'], 'user_id': 391.0, 'user_name': 'Julie Huffman'}, page_content='User Julie Huffman ordered Begonia (Red) (Flower Type) and Ring (Red) (Jewelry) on 2025-01-01 14:16:47'), Document(id='519f7666-1cf4-4981-b5c4-690b86d8f993', metadata={'categories': ['Jewelry'], 'order_date': '2025-01-01 14:10:19', 'products': ['Bracelet (Black)'], 'user_id': 426.0, 'user_name': 'Cynthia Andrade'}, page_content='User Cynthia Andrade ordered Bracelet (Black) (Jewelry) on 2025-01-01 14:10:19'), Document(id='6a685bb6-9b62-45ea-a7fc-873af489ac9a', metadata={'categories': ['Personal Care'], 'order_date': '2024-12-30 10:24:42', 'products': ['Perfume (Purple)'], 'user_id': 387.0, 'user_name': 'Jeffery Johnson'}, page_content='User Jeffery Johnson ordered Perfume (Purple) (Personal Care) on 2024-12-30 10:24:42'), Document(id='be4315b2-3603-4c3d-a239-14056de30f64', metadata={'categories': ['Home Goods'], 'order_date': '2025-01-01 14:16:23', 'products': ['Pot (Orange)'], 'user_id': 481.0, 'user_name': 'Andrew Castillo DDS'}, page_content='User Andrew Castillo DDS ordered Pot (Orange) (Home Goods) on 2025-01-01 14:16:23'), Document(id='8a3c1447-457b-4bc1-aded-27a9e7f0ab23', metadata={'categories': ['Flower Type'], 'order_date': '2025-01-01 13:06:55', 'products': ['Begonia (Brown)'], 'user_id': 448.0, 'user_name': 'Jorge Boone'}, page_content='User Jorge Boone ordered Begonia (Brown) (Flower Type) on 2025-01-01 13:06:55'), Document(id='a4196655-ede5-4e7c-a7fa-38cdb2851e4f', metadata={'categories': ['Home Goods'], 'order_date': '2025-01-01 14:16:07', 'products': ['Lamp (Red)'], 'user_id': 472.0, 'user_name': 'Alexandria Mcdonald'}, page_content='User Alexandria Mcdonald ordered Lamp (Red) (Home Goods) on 2025-01-01 14:16:07'), Document(id='23fa39d3-ce97-4688-aa83-c1caa7b6ceda', metadata={'categories': ['Electronics', 'Flower Type'], 'order_date': '2025-01-01 14:13:57', 'products': ['keyword (Yellow)', 'Tulip (Pink)'], 'user_id': 392.0, 'user_name': 'Jennifer Jordan'}, page_content='User Jennifer Jordan ordered keyword (Yellow) (Electronics) and Tulip (Pink) (Flower Type) on 2025-01-01 14:13:57'), Document(id='1f93b257-9426-4abb-a0b1-874fd789b041', metadata={'categories': ['Jewelry', 'Personal Care'], 'order_date': '2025-01-01 14:09:53', 'products': ['Ring (Purple)', 'Perfume (White)'], 'user_id': 423.0, 'user_name': 'Lisa Smith'}, page_content='User Lisa Smith ordered Ring (Purple) (Jewelry) and Perfume (White) (Personal Care) on 2025-01-01 14:09:53'), Document(id='e69f40f6-768e-4a63-8905-7fb927039175', metadata={'categories': ['Clothing', 'Home Goods', 'Home Goods'], 'order_date': '2025-01-01 14:15:38', 'products': ['Wool Coat (Yellow)', 'Carpet (Purple)', 'Lamp (Black)'], 'user_id': 522.0, 'user_name': 'Christine James'}, page_content='User Christine James ordered Wool Coat (Yellow) (Clothing) and Carpet (Purple) (Home Goods) and Lamp (Black) (Home Goods) on 2025-01-01 14:15:38'), Document(id='7ec659e6-a5ba-4ddf-b646-67a3a614861d', metadata={'categories': ['Home Goods', 'Electronics', 'Home Goods', 'Flower Type'], 'order_date': '2025-01-01 14:14:36', 'products': ['Pot (Orange)', 'Bluetooth Headset (Yellow)', 'Table Clock (White)', 'Cactus (Pink)'], 'user_id': 521.0, 'user_name': 'John Mcdonald'}, page_content='User John Mcdonald ordered Pot (Orange) (Home Goods) and Bluetooth Headset (Yellow) (Electronics) and Table Clock (White) (Home Goods) and Cactus (Pink) (Flower Type) on 2025-01-01 14:14:36'), Document(id='94fdc367-614b-4804-b275-4dbf50adc39f', metadata={'categories': ['Home Goods', 'Clothing'], 'order_date': '2025-01-01 13:06:28', 'products': ['Lamp (Brown)', 'Wool Coat (Pink)'], 'user_id': 439.0, 'user_name': 'Elizabeth Murphy'}, page_content='User Elizabeth Murphy ordered Lamp (Brown) (Home Goods) and Wool Coat (Pink) (Clothing) on 2025-01-01 13:06:28'), Document(id='937043cd-6206-43e5-939c-80ffe9dab4c1', metadata={'categories': ['Electronics', 'Flower Type'], 'order_date': '2025-01-01 14:10:55', 'products': ['Laptop (Purple)', 'Cactus (White)'], 'user_id': 347.0, 'user_name': 'John Rodriguez'}, page_content='User John Rodriguez ordered Laptop (Purple) (Electronics) and Cactus (White) (Flower Type) on 2025-01-01 14:10:55'), Document(id='88131be6-3ddd-4be1-8dbc-b097aa1a0330', metadata={'categories': ['Jewelry', 'Electronics', 'Flower Type'], 'order_date': '2025-01-01 14:12:11', 'products': ['Necklace (Blue)', 'Powerbank (Brown)', 'Succulent (Black)'], 'user_id': 346.0, 'user_name': 'Jacob Fischer'}, page_content='User Jacob Fischer ordered Necklace (Blue) (Jewelry) and Powerbank (Brown) (Electronics) and Succulent (Black) (Flower Type) on 2025-01-01 14:12:11'), Document(id='4dd4b3cb-e015-4ee1-b2bb-65cdb8f6ff02', metadata={'categories': ['Home Goods', 'Flower Type'], 'order_date': '2025-01-01 14:12:07', 'products': ['Carpet (Orange)', 'Tulip (Yellow)'], 'user_id': 397.0, 'user_name': 'Nina Webb'}, page_content='User Nina Webb ordered Carpet (Orange) (Home Goods) and Tulip (Yellow) (Flower Type) on 2025-01-01 14:12:07'), Document(id='dcf90beb-dba8-4287-b713-5c0a58d923d9', metadata={'categories': ['Clothing', 'Flower Type', 'Home Goods'], 'order_date': '2025-01-01 14:10:45', 'products': ['Wool Sweater (White)', 'Succulent (Yellow)', 'Food Processor (Brown)'], 'user_id': 387.0, 'user_name': 'Jeffery Johnson'}, page_content='User Jeffery Johnson ordered Wool Sweater (White) (Clothing) and Succulent (Yellow) (Flower Type) and Food Processor (Brown) (Home Goods) on 2025-01-01 14:10:45'), Document(id='9d360b7c-48d4-49d6-af4b-5d1396c002cb', metadata={'categories': ['Flower Type', 'Flower Type', 'Jewelry'], 'order_date': '2025-01-01 14:10:06', 'products': ['Orchid (Purple)', 'Cactus (White)', 'Earrings (Green)'], 'user_id': 432.0, 'user_name': 'Christopher Nguyen'}, page_content='User Christopher Nguyen ordered Orchid (Purple) (Flower Type) and Cactus (White) (Flower Type) and Earrings (Green) (Jewelry) on 2025-01-01 14:10:06'), Document(id='2f001f40-6eec-47fe-a173-dcc265ac6803', metadata={'categories': ['Clothing', 'Home Goods', 'Flower Type', 'Clothing', 'Flower Type'], 'order_date': '2024-12-30 10:24:20', 'products': ['V-neck T-shirt (Brown)', 'Food Processor (White)', 'Rose (Blue)', 'Wool Sweater (Red)', 'Succulent (White)'], 'user_id': 433.0, 'user_name': 'Kathleen Miller'}, page_content='User Kathleen Miller ordered V-neck T-shirt (Brown) (Clothing) and Food Processor (White) (Home Goods) and Rose (Blue) (Flower Type) and Wool Sweater (Red) (Clothing) and Succulent (White) (Flower Type) on 2024-12-30 10:24:20'), Document(id='dc496ec9-e627-4da7-94c4-7fde5ba15bf3', metadata={'categories': ['Electronics', 'Jewelry', 'Home Goods', 'Personal Care', 'Jewelry'], 'order_date': '2025-01-01 14:14:48', 'products': ['keyword (White)', 'Earrings (White)', 'Table Clock (Orange)', 'Toothbrush (Orange)', 'Bracelet (Green)'], 'user_id': 495.0, 'user_name': 'Felicia Jones'}, page_content='User Felicia Jones ordered keyword (White) (Electronics) and Earrings (White) (Jewelry) and Table Clock (Orange) (Home Goods) and Toothbrush (Orange) (Personal Care) and Bracelet (Green) (Jewelry) on 2025-01-01 14:14:48'), Document(id='59dc87d4-d36f-4a7b-8bfd-c0dcef280547', metadata={'categories': ['Clothing', 'Flower Type'], 'order_date': '2025-01-01 14:13:26', 'products': ['Wool Coat (Black)', 'Orchid (Yellow)'], 'user_id': 513.0, 'user_name': 'Mrs. Sabrina Delgado MD'}, page_content='User Mrs. Sabrina Delgado MD ordered Wool Coat (Black) (Clothing) and Orchid (Yellow) (Flower Type) on 2025-01-01 14:13:26'), Document(id='99bb6198-be4c-4199-a9d6-c879fe73cfdb', metadata={'categories': ['Jewelry', 'Personal Care', 'Home Goods', 'Home Goods', 'Home Goods'], 'order_date': '2025-01-01 14:15:59', 'products': ['Ring (Orange)', 'Body Lotion (White)', 'Knife Set (Red)', 'Table Clock (White)', 'Food Processor (White)'], 'user_id': 451.0, 'user_name': 'Lindsey Mcgee'}, page_content='User Lindsey Mcgee ordered Ring (Orange) (Jewelry) and Body Lotion (White) (Personal Care) and Knife Set (Red) (Home Goods) and Table Clock (White) (Home Goods) and Food Processor (White) (Home Goods) on 2025-01-01 14:15:59'), Document(id='3ff41e46-c2e4-4a6f-9835-8544fbaf235b', metadata={'categories': ['Jewelry', 'Clothing', 'Home Goods', 'Home Goods'], 'order_date': '2025-01-01 14:11:49', 'products': ['Ring (Orange)', 'Women Blazer (Yellow)', 'Knife Set (Red)', 'Curtain (Brown)'], 'user_id': 404.0, 'user_name': 'Jason Martinez'}, page_content='User Jason Martinez ordered Ring (Orange) (Jewelry) and Women Blazer (Yellow) (Clothing) and Knife Set (Red) (Home Goods) and Curtain (Brown) (Home Goods) on 2025-01-01 14:11:49'), Document(id='ceb408ae-53d7-4bcd-a2e8-e46614b51593', metadata={'categories': ['Jewelry'], 'order_date': '2024-12-30 10:24:57', 'products': ['Necklace (Yellow)'], 'user_id': 445.0, 'user_name': 'Kylie Hughes'}, page_content='User Kylie Hughes ordered Necklace (Yellow) (Jewelry) on 2024-12-30 10:24:57'), Document(id='e4d7c96a-8c48-4ea8-9dc5-24ba3324d168', metadata={'categories': ['Jewelry', 'Clothing'], 'order_date': '2025-01-01 14:12:45', 'products': ['Ring (Blue)', 'Plus Size Coat (Green)'], 'user_id': 420.0, 'user_name': 'Steven York'}, page_content='User Steven York ordered Ring (Blue) (Jewelry) and Plus Size Coat (Green) (Clothing) on 2025-01-01 14:12:45'), Document(id='83de3b61-956a-4411-8bb6-23305e13aed2', metadata={'categories': ['Electronics', 'Personal Care', 'Jewelry'], 'order_date': '2025-01-01 14:10:50', 'products': ['mouse (White)', 'Perfume (Purple)', 'Ring (Green)'], 'user_id': 481.0, 'user_name': 'Andrew Castillo DDS'}, page_content='User Andrew Castillo DDS ordered mouse (White) (Electronics) and Perfume (Purple) (Personal Care) and Ring (Green) (Jewelry) on 2025-01-01 14:10:50'), Document(id='13e6a811-9fad-4eab-9afc-105e6b9088b2', metadata={'categories': ['Electronics'], 'order_date': '2025-01-01 14:16:30', 'products': ['Smartwatch (Pink)'], 'user_id': 379.0, 'user_name': 'Danielle Davis'}, page_content='User Danielle Davis ordered Smartwatch (Pink) (Electronics) on 2025-01-01 14:16:30'), Document(id='0faaa181-b30c-4e1b-b8da-19ca22d04fed', metadata={'categories': ['Home Goods', 'Electronics'], 'order_date': '2025-01-01 14:14:21', 'products': ['Food Processor (Brown)', 'Laptop (Yellow)'], 'user_id': 495.0, 'user_name': 'Felicia Jones'}, page_content='User Felicia Jones ordered Food Processor (Brown) (Home Goods) and Laptop (Yellow) (Electronics) on 2025-01-01 14:14:21'), Document(id='e3145d6d-91bf-4f87-870b-ee1c9622c80b', metadata={'categories': ['Personal Care'], 'order_date': '2025-01-01 14:10:40', 'products': ['Shampoo (White)'], 'user_id': 341.0, 'user_name': 'Lori Graham'}, page_content='User Lori Graham ordered Shampoo (White) (Personal Care) on 2025-01-01 14:10:40'), Document(id='aefbae6b-2d34-4287-ae4c-f65bb70ec594', metadata={'categories': ['Clothing', 'Jewelry'], 'order_date': '2025-01-01 14:11:54', 'products': ['Wool Coat (Black)', 'Necklace (Blue)'], 'user_id': 455.0, 'user_name': 'Ryan Cummings'}, page_content='User Ryan Cummings ordered Wool Coat (Black) (Clothing) and Necklace (Blue) (Jewelry) on 2025-01-01 14:11:54'), Document(id='f2b2b365-71d4-464f-a663-1b03207768c3', metadata={'categories': ['Home Goods', 'Jewelry', 'Electronics', 'Flower Type'], 'order_date': '2025-01-01 14:14:06', 'products': ['Knife Set (Green)', 'Necklace (Orange)', 'Powerbank (Yellow)', 'Orchid (White)'], 'user_id': 447.0, 'user_name': 'Carrie Williams'}, page_content='User Carrie Williams ordered Knife Set (Green) (Home Goods) and Necklace (Orange) (Jewelry) and Powerbank (Yellow) (Electronics) and Orchid (White) (Flower Type) on 2025-01-01 14:14:06'), Document(id='bccd3540-2205-4a11-bd68-49ed7a0ce225', metadata={'categories': ['Clothing', 'Electronics'], 'order_date': '2025-01-01 14:11:39', 'products': ['Plus Size Coat (Blue)', 'mouse (White)'], 'user_id': 452.0, 'user_name': 'Jorge Wright'}, page_content='User Jorge Wright ordered Plus Size Coat (Blue) (Clothing) and mouse (White) (Electronics) on 2025-01-01 14:11:39'), Document(id='ecf8a6b5-1d60-450a-99e9-28dd586f0a23', metadata={'categories': ['Clothing', 'Personal Care', 'Electronics'], 'order_date': '2025-01-01 14:16:41', 'products': ['Jeans (Pink)', 'Perfume (Purple)', 'Smartphone (Blue)'], 'user_id': 422.0, 'user_name': 'Allison Roberts'}, page_content='User Allison Roberts ordered Jeans (Pink) (Clothing) and Perfume (Purple) (Personal Care) and Smartphone (Blue) (Electronics) on 2025-01-01 14:16:41'), Document(id='18356b7e-e8ee-4796-931e-3d518be6bb4d', metadata={'categories': ['Electronics', 'Personal Care'], 'order_date': '2025-01-01 14:16:18', 'products': ['Smartwatch (Pink)', 'Toothbrush (Yellow)'], 'user_id': 382.0, 'user_name': 'Bryan Chavez'}, page_content='User Bryan Chavez ordered Smartwatch (Pink) (Electronics) and Toothbrush (Yellow) (Personal Care) on 2025-01-01 14:16:18'), Document(id='b10537bd-70be-42bc-97fb-42f433ceb1fb', metadata={'categories': ['Flower Type', 'Electronics', 'Home Goods', 'Electronics'], 'order_date': '2025-01-01 14:10:32', 'products': ['Begonia (Pink)', 'keyword (Brown)', 'Lamp (Black)', 'Smartwatch (Pink)'], 'user_id': 394.0, 'user_name': 'Russell Potts'}, page_content='User Russell Potts ordered Begonia (Pink) (Flower Type) and keyword (Brown) (Electronics) and Lamp (Black) (Home Goods) and Smartwatch (Pink) (Electronics) on 2025-01-01 14:10:32'), Document(id='4b8a2e5a-88c7-41ae-a0f1-51dd3def23dd', metadata={'categories': ['Jewelry', 'Jewelry', 'Electronics', 'Home Goods', 'Clothing'], 'order_date': '2025-01-01 14:13:50', 'products': ['Bracelet (Black)', 'Earrings (Black)', 'Smartphone (Brown)', 'Table Clock (Black)', 'Wool Coat (Pink)'], 'user_id': 445.0, 'user_name': 'Kylie Hughes'}, page_content='User Kylie Hughes ordered Bracelet (Black) (Jewelry) and Earrings (Black) (Jewelry) and Smartphone (Brown) (Electronics) and Table Clock (Black) (Home Goods) and Wool Coat (Pink) (Clothing) on 2025-01-01 14:13:50'), Document(id='22a994b3-bf74-40ea-9e35-9d2ce7977c70', metadata={'categories': ['Electronics', 'Home Goods'], 'order_date': '2025-01-01 14:12:56', 'products': ['Smartphone (Blue)', 'Food Processor (Purple)'], 'user_id': 398.0, 'user_name': 'Mr. Joseph Taylor'}, page_content='User Mr. Joseph Taylor ordered Smartphone (Blue) (Electronics) and Food Processor (Purple) (Home Goods) on 2025-01-01 14:12:56'), Document(id='e6b0adc0-3c6b-4ced-abc7-b2a8ec24b792', metadata={'categories': ['Electronics'], 'order_date': '2025-01-01 14:11:20', 'products': ['Laptop (Orange)'], 'user_id': 356.0, 'user_name': 'Robert Leblanc'}, page_content='User Robert Leblanc ordered Laptop (Orange) (Electronics) on 2025-01-01 14:11:20'), Document(id='7521d5c9-c2e3-4526-985e-404a26292e80', metadata={'categories': ['Personal Care', 'Home Goods'], 'order_date': '2025-01-01 13:06:45', 'products': ['Shampoo (Yellow)', 'Knife Set (Red)'], 'user_id': 404.0, 'user_name': 'Jason Martinez'}, page_content='User Jason Martinez ordered Shampoo (Yellow) (Personal Care) and Knife Set (Red) (Home Goods) on 2025-01-01 13:06:45'), Document(id='a028408c-08e7-4091-a877-428a87fe0075', metadata={'categories': ['Home Goods', 'Home Goods', 'Clothing'], 'order_date': '2024-12-30 10:24:15', 'products': ['Food Processor (Yellow)', 'Knife Set (Green)', 'Wool Coat (Black)'], 'user_id': 440.0, 'user_name': 'April Brown'}, page_content='User April Brown ordered Food Processor (Yellow) (Home Goods) and Knife Set (Green) (Home Goods) and Wool Coat (Black) (Clothing) on 2024-12-30 10:24:15'), Document(id='9bc0eb81-80eb-4932-9d7e-c83a53ca95b0', metadata={'categories': ['Flower Type', 'Personal Care', 'Flower Type', 'Home Goods', 'Clothing'], 'order_date': '2025-01-01 14:15:26', 'products': ['Cactus (Orange)', 'Perfume (White)', 'Begonia (Yellow)', 'Pot (Green)', 'Women Blazer (White)'], 'user_id': 460.0, 'user_name': 'Kevin Bird'}, page_content='User Kevin Bird ordered Cactus (Orange) (Flower Type) and Perfume (White) (Personal Care) and Begonia (Yellow) (Flower Type) and Pot (Green) (Home Goods) and Women Blazer (White) (Clothing) on 2025-01-01 14:15:26'), Document(id='9f824c9f-7812-4faa-8667-a7df38592087', metadata={'categories': ['Home Goods', 'Clothing', 'Clothing'], 'order_date': '2024-12-30 10:24:10', 'products': ['Knife Set (Orange)', 'Mom Jeans (Brown)', 'Wool Coat (Yellow)'], 'user_id': 350.0, 'user_name': 'Cheryl Fuller'}, page_content='User Cheryl Fuller ordered Knife Set (Orange) (Home Goods) and Mom Jeans (Brown) (Clothing) and Wool Coat (Yellow) (Clothing) on 2024-12-30 10:24:10'), Document(id='86067d13-ebfc-496b-b2c8-f87d0fce5655', metadata={'categories': ['Jewelry', 'Personal Care'], 'order_date': '2025-01-01 13:06:25', 'products': ['Necklace (Purple)', 'Shampoo (Orange)'], 'user_id': 370.0, 'user_name': 'Bradley Maldonado'}, page_content='User Bradley Maldonado ordered Necklace (Purple) (Jewelry) and Shampoo (Orange) (Personal Care) on 2025-01-01 13:06:25'), Document(id='bb9243ac-09a8-482b-a5c2-cafbab09f5ef', metadata={'categories': ['Home Goods', 'Jewelry'], 'order_date': '2025-01-01 14:16:52', 'products': ['Pot (Orange)', 'Bracelet (Red)'], 'user_id': 469.0, 'user_name': 'Gail Mckinney'}, page_content='User Gail Mckinney ordered Pot (Orange) (Home Goods) and Bracelet (Red) (Jewelry) on 2025-01-01 14:16:52'), Document(id='bdfbc029-9f15-43c5-ac0d-a86ffbfea663', metadata={'categories': ['Personal Care', 'Flower Type'], 'order_date': '2025-01-01 14:16:33', 'products': ['Toothbrush (Orange)', 'Tulip (Pink)'], 'user_id': 543.0, 'user_name': 'Deborah Young'}, page_content='User Deborah Young ordered Toothbrush (Orange) (Personal Care) and Tulip (Pink) (Flower Type) on 2025-01-01 14:16:33'), Document(id='dc76511e-83c5-4b02-9324-78f1a425623a', metadata={'categories': ['Flower Type', 'Clothing', 'Electronics'], 'order_date': '2025-01-01 14:10:37', 'products': ['Orchid (Brown)', 'T-shirt (Orange)', 'Laptop (Brown)'], 'user_id': 347.0, 'user_name': 'John Rodriguez'}, page_content='User John Rodriguez ordered Orchid (Brown) (Flower Type) and T-shirt (Orange) (Clothing) and Laptop (Brown) (Electronics) on 2025-01-01 14:10:37'), Document(id='d8f63d87-8dcb-4c72-8e3f-90423ceb0234', metadata={'categories': ['Home Goods', 'Jewelry', 'Home Goods', 'Clothing', 'Clothing'], 'order_date': '2025-01-01 14:14:17', 'products': ['Pitcher (Purple)', 'Necklace (Yellow)', 'Pot (Purple)', 'Mom Jeans (Brown)', 'Short Sleeve Shirt (Purple)'], 'user_id': 466.0, 'user_name': 'Diana Nunez'}, page_content='User Diana Nunez ordered Pitcher (Purple) (Home Goods) and Necklace (Yellow) (Jewelry) and Pot (Purple) (Home Goods) and Mom Jeans (Brown) (Clothing) and Short Sleeve Shirt (Purple) (Clothing) on 2025-01-01 14:14:17'), Document(id='a11ae6f9-b2ec-45cc-8172-7d658ce028ed', metadata={'categories': ['Electronics'], 'order_date': '2025-01-01 14:13:23', 'products': ['Smartwatch (Pink)'], 'user_id': 469.0, 'user_name': 'Gail Mckinney'}, page_content='User Gail Mckinney ordered Smartwatch (Pink) (Electronics) on 2025-01-01 14:13:23'), Document(id='1c3d96dd-c06f-4553-bba0-4db1e06b4167', metadata={'categories': ['Electronics', 'Electronics'], 'order_date': '2025-01-01 13:06:39', 'products': ['Powerbank (Purple)', 'Smartphone (Red)'], 'user_id': 349.0, 'user_name': 'Marcus Williams'}, page_content='User Marcus Williams ordered Powerbank (Purple) (Electronics) and Smartphone (Red) (Electronics) on 2025-01-01 13:06:39'), Document(id='bd007a7a-7fb6-4f27-beb3-2d8e76c6d799', metadata={'categories': ['Flower Type', 'Personal Care', 'Flower Type', 'Electronics'], 'order_date': '2024-12-30 10:24:33', 'products': ['Ficus (White)', 'Shampoo (Yellow)', 'Cactus (Orange)', 'mouse (Purple)'], 'user_id': 372.0, 'user_name': 'Jon Gill'}, page_content='User Jon Gill ordered Ficus (White) (Flower Type) and Shampoo (Yellow) (Personal Care) and Cactus (Orange) (Flower Type) and mouse (Purple) (Electronics) on 2024-12-30 10:24:33'), Document(id='b61121fd-d07f-477a-b542-4a05bd858013', metadata={'categories': ['Clothing', 'Jewelry'], 'order_date': '2025-01-01 14:15:41', 'products': ['Winter Coat (Blue)', 'Bracelet (Blue)'], 'user_id': 403.0, 'user_name': 'Shane Lang'}, page_content='User Shane Lang ordered Winter Coat (Blue) (Clothing) and Bracelet (Blue) (Jewelry) on 2025-01-01 14:15:41'), Document(id='b487d123-fea4-40c3-b5a2-592a13851bb8', metadata={'categories': ['Home Goods', 'Jewelry'], 'order_date': '2025-01-01 14:14:01', 'products': ['Carpet (Pink)', 'Ring (Blue)'], 'user_id': 385.0, 'user_name': 'John Perry'}, page_content='User John Perry ordered Carpet (Pink) (Home Goods) and Ring (Blue) (Jewelry) on 2025-01-01 14:14:01'), Document(id='ccb54243-89d8-4862-a85a-bc3e63974c17', metadata={'categories': ['Electronics', 'Clothing'], 'order_date': '2025-01-01 14:16:55', 'products': ['Smartwatch (Pink)', 'Plus Size Coat (Green)'], 'user_id': 346.0, 'user_name': 'Jacob Fischer'}, page_content='User Jacob Fischer ordered Smartwatch (Pink) (Electronics) and Plus Size Coat (Green) (Clothing) on 2025-01-01 14:16:55'), Document(id='60162f1d-7c88-46e0-aa55-057fff60f651', metadata={'categories': ['Home Goods', 'Jewelry', 'Flower Type', 'Personal Care'], 'order_date': '2024-12-30 10:23:45', 'products': ['Pitcher (Purple)', 'Bracelet (Red)', 'Begonia (Pink)', 'Toothbrush (Black)'], 'user_id': 383.0, 'user_name': 'Catherine King'}, page_content='User Catherine King ordered Pitcher (Purple) (Home Goods) and Bracelet (Red) (Jewelry) and Begonia (Pink) (Flower Type) and Toothbrush (Black) (Personal Care) on 2024-12-30 10:23:45'), Document(id='da094ece-3807-4f40-aa1c-30d770f13f2d', metadata={'categories': ['Flower Type', 'Electronics'], 'order_date': '2025-01-01 14:15:31', 'products': ['Tulip (Green)', 'Powerbank (Orange)'], 'user_id': 526.0, 'user_name': 'Teresa Reese'}, page_content='User Teresa Reese ordered Tulip (Green) (Flower Type) and Powerbank (Orange) (Electronics) on 2025-01-01 14:15:31'), Document(id='56fbcaa6-9a8e-4dd5-a725-d7aa84f6c02d', metadata={'categories': ['Jewelry', 'Electronics', 'Flower Type', 'Home Goods'], 'order_date': '2024-12-30 10:24:49', 'products': ['Earrings (Purple)', 'Smartwatch (Blue)', 'Orchid (White)', 'Carpet (Pink)'], 'user_id': 378.0, 'user_name': 'Stephanie Fernandez'}, page_content='User Stephanie Fernandez ordered Earrings (Purple) (Jewelry) and Smartwatch (Blue) (Electronics) and Orchid (White) (Flower Type) and Carpet (Pink) (Home Goods) on 2024-12-30 10:24:49'), Document(id='0acbecf6-6823-43d2-b558-b9bf6b6c4c2c', metadata={'categories': ['Personal Care', 'Clothing', 'Personal Care', 'Home Goods', 'Electronics'], 'order_date': '2024-12-30 10:24:28', 'products': ['Body Lotion (Purple)', 'Straight Jeans (Purple)', 'Perfume (Green)', 'Lamp (Black)', 'keyword (Yellow)'], 'user_id': 366.0, 'user_name': 'Jacqueline Johnson'}, page_content='User Jacqueline Johnson ordered Body Lotion (Purple) (Personal Care) and Straight Jeans (Purple) (Clothing) and Perfume (Green) (Personal Care) and Lamp (Black) (Home Goods) and keyword (Yellow) (Electronics) on 2024-12-30 10:24:28'), Document(id='2cc294f3-73de-4f36-b157-2bf34a2a2408', metadata={'categories': ['Home Goods', 'Home Goods', 'Personal Care', 'Jewelry'], 'order_date': '2025-01-01 14:10:23', 'products': ['Knife Set (Pink)', 'Pitcher (White)', 'Perfume (Orange)', 'Earrings (Purple)'], 'user_id': 474.0, 'user_name': 'Sean Lee'}, page_content='User Sean Lee ordered Knife Set (Pink) (Home Goods) and Pitcher (White) (Home Goods) and Perfume (Orange) (Personal Care) and Earrings (Purple) (Jewelry) on 2025-01-01 14:10:23'), Document(id='faf52b17-c5f6-46b4-8fd3-ab57854fc32f', metadata={'categories': ['Flower Type', 'Jewelry'], 'order_date': '2025-01-01 14:14:09', 'products': ['Orchid (Black)', 'Earrings (White)'], 'user_id': 513.0, 'user_name': 'Mrs. Sabrina Delgado MD'}, page_content='User Mrs. Sabrina Delgado MD ordered Orchid (Black) (Flower Type) and Earrings (White) (Jewelry) on 2025-01-01 14:14:09'), Document(id='2d327f83-c5d1-4450-8f08-e5d4c1a1dcf9', metadata={'categories': ['Jewelry', 'Home Goods', 'Flower Type', 'Personal Care', 'Flower Type'], 'order_date': '2025-01-01 14:14:39', 'products': ['Bracelet (Green)', 'Carpet (Pink)', 'Begonia (Yellow)', 'Perfume (White)', 'Rose (Black)'], 'user_id': 426.0, 'user_name': 'Cynthia Andrade'}, page_content='User Cynthia Andrade ordered Bracelet (Green) (Jewelry) and Carpet (Pink) (Home Goods) and Begonia (Yellow) (Flower Type) and Perfume (White) (Personal Care) and Rose (Black) (Flower Type) on 2025-01-01 14:14:39'), Document(id='82589eb7-b764-4536-b671-ecf95521b94e', metadata={'categories': ['Jewelry', 'Clothing', 'Flower Type', 'Personal Care'], 'order_date': '2025-01-01 14:13:18', 'products': ['Ring (Red)', 'Wool Coat (Yellow)', 'Daisy (Brown)', 'Perfume (White)'], 'user_id': 474.0, 'user_name': 'Sean Lee'}, page_content='User Sean Lee ordered Ring (Red) (Jewelry) and Wool Coat (Yellow) (Clothing) and Daisy (Brown) (Flower Type) and Perfume (White) (Personal Care) on 2025-01-01 14:13:18'), Document(id='0bdbf276-cf97-43c1-90ff-0edf12c0e492', metadata={'categories': ['Home Goods', 'Electronics'], 'order_date': '2025-01-01 14:14:51', 'products': ['Carpet (Orange)', 'Powerbank (Pink)'], 'user_id': 443.0, 'user_name': 'Shane Walker'}, page_content='User Shane Walker ordered Carpet (Orange) (Home Goods) and Powerbank (Pink) (Electronics) on 2025-01-01 14:14:51'), Document(id='ab126336-9efd-4fd7-8d62-6b949f706a5c', metadata={'categories': ['Personal Care'], 'order_date': '2025-01-01 14:13:07', 'products': ['Toothbrush (Orange)'], 'user_id': 513.0, 'user_name': 'Mrs. Sabrina Delgado MD'}, page_content='User Mrs. Sabrina Delgado MD ordered Toothbrush (Orange) (Personal Care) on 2025-01-01 14:13:07'), Document(id='a84df4d9-dab7-4787-8fee-89bb65fc0284', metadata={'categories': ['Electronics', 'Jewelry'], 'order_date': '2025-01-01 13:06:50', 'products': ['Laptop (Red)', 'Necklace (Purple)'], 'user_id': 389.0, 'user_name': 'Andrea Young'}, page_content='User Andrea Young ordered Laptop (Red) (Electronics) and Necklace (Purple) (Jewelry) on 2025-01-01 13:06:50'), Document(id='552e6cc7-ba36-449e-9411-e0aa8a0870d5', metadata={'categories': ['Electronics', 'Clothing', 'Clothing', 'Electronics'], 'order_date': '2025-01-01 14:09:34', 'products': ['keyword (Purple)', 'V-neck T-shirt (Yellow)', 'Plus Size Coat (Black)', 'Laptop (Blue)'], 'user_id': 386.0, 'user_name': 'Sylvia Chandler'}, page_content='User Sylvia Chandler ordered keyword (Purple) (Electronics) and V-neck T-shirt (Yellow) (Clothing) and Plus Size Coat (Black) (Clothing) and Laptop (Blue) (Electronics) on 2025-01-01 14:09:34'), Document(id='84ec1fc8-c438-4aaf-864e-afa98c85483c', metadata={'categories': ['Jewelry', 'Electronics'], 'order_date': '2025-01-01 13:06:36', 'products': ['Necklace (Orange)', 'Smartwatch (Pink)'], 'user_id': 445.0, 'user_name': 'Kylie Hughes'}, page_content='User Kylie Hughes ordered Necklace (Orange) (Jewelry) and Smartwatch (Pink) (Electronics) on 2025-01-01 13:06:36'), Document(id='d0011354-9351-4298-9625-8f8b8eef44d3', metadata={'categories': ['Electronics', 'Flower Type', 'Electronics'], 'order_date': '2025-01-01 14:16:44', 'products': ['Laptop (Orange)', 'Ficus (White)', 'Smartphone (Brown)'], 'user_id': 508.0, 'user_name': 'Marcus Vazquez'}, page_content='User Marcus Vazquez ordered Laptop (Orange) (Electronics) and Ficus (White) (Flower Type) and Smartphone (Brown) (Electronics) on 2025-01-01 14:16:44'), Document(id='ca5686b7-fbfe-4497-9ce5-fa59b7d8bfd0', metadata={'categories': ['Clothing', 'Personal Care', 'Jewelry', 'Jewelry'], 'order_date': '2025-01-01 14:11:31', 'products': ['Wool Sweater (Black)', 'Body Lotion (White)', 'Necklace (Purple)', 'Necklace (White)'], 'user_id': 472.0, 'user_name': 'Alexandria Mcdonald'}, page_content='User Alexandria Mcdonald ordered Wool Sweater (Black) (Clothing) and Body Lotion (White) (Personal Care) and Necklace (Purple) (Jewelry) and Necklace (White) (Jewelry) on 2025-01-01 14:11:31'), Document(id='3186bf54-9bc2-4117-9a38-874f4961c201', metadata={'categories': ['Personal Care', 'Flower Type', 'Clothing', 'Personal Care'], 'order_date': '2025-01-01 14:15:50', 'products': ['Toothbrush (Black)', 'Ficus (Orange)', 'Straight Jeans (White)', 'Body Lotion (White)'], 'user_id': 517.0, 'user_name': 'Paul Richards'}, page_content='User Paul Richards ordered Toothbrush (Black) (Personal Care) and Ficus (Orange) (Flower Type) and Straight Jeans (White) (Clothing) and Body Lotion (White) (Personal Care) on 2025-01-01 14:15:50'), Document(id='930b86c0-5ca3-4617-a3c4-429d74655d06', metadata={'categories': ['Home Goods', 'Personal Care', 'Jewelry'], 'order_date': '2024-12-30 10:24:25', 'products': ['Pot (White)', 'Toothbrush (Brown)', 'Necklace (Orange)'], 'user_id': 453.0, 'user_name': 'Carl Smith'}, page_content='User Carl Smith ordered Pot (White) (Home Goods) and Toothbrush (Brown) (Personal Care) and Necklace (Orange) (Jewelry) on 2024-12-30 10:24:25'), Document(id='a49d834b-3a40-4497-9f4f-1e8998f3f38c', metadata={'categories': ['Clothing', 'Electronics', 'Jewelry', 'Clothing'], 'order_date': '2025-01-01 14:11:28', 'products': ['Winter Coat (Green)', 'Smartphone (Blue)', 'Earrings (Green)', 'Women Blazer (Yellow)'], 'user_id': 481.0, 'user_name': 'Andrew Castillo DDS'}, page_content='User Andrew Castillo DDS ordered Winter Coat (Green) (Clothing) and Smartphone (Blue) (Electronics) and Earrings (Green) (Jewelry) and Women Blazer (Yellow) (Clothing) on 2025-01-01 14:11:28'), Document(id='0ee7c2b3-5a0c-43f4-8ddf-b3d67a35c80d', metadata={'categories': ['Flower Type', 'Home Goods', 'Personal Care', 'Flower Type'], 'order_date': '2025-01-01 14:14:14', 'products': ['Daisy (Orange)', 'Food Processor (Orange)', 'Perfume (Blue)', 'Rose (Blue)'], 'user_id': 396.0, 'user_name': 'Gina Cook DVM'}, page_content='User Gina Cook DVM ordered Daisy (Orange) (Flower Type) and Food Processor (Orange) (Home Goods) and Perfume (Blue) (Personal Care) and Rose (Blue) (Flower Type) on 2025-01-01 14:14:14'), Document(id='90fce755-ddc6-4937-ad84-4afdbd7b4778', metadata={'categories': ['Electronics', 'Electronics', 'Electronics', 'Home Goods', 'Clothing'], 'order_date': '2025-01-01 14:14:55', 'products': ['mouse (Pink)', 'Powerbank (Orange)', 'Smartwatch (Blue)', 'Knife Set (Orange)', 'V-neck T-shirt (Brown)'], 'user_id': 433.0, 'user_name': 'Kathleen Miller'}, page_content='User Kathleen Miller ordered mouse (Pink) (Electronics) and Powerbank (Orange) (Electronics) and Smartwatch (Blue) (Electronics) and Knife Set (Orange) (Home Goods) and V-neck T-shirt (Brown) (Clothing) on 2025-01-01 14:14:55'), Document(id='ac9e04e0-4740-42af-b6e3-8aadd8d52568', metadata={'categories': ['Flower Type', 'Personal Care'], 'order_date': '2025-01-01 14:14:28', 'products': ['Daisy (Green)', 'Body Lotion (Black)'], 'user_id': 381.0, 'user_name': 'Katherine Williams'}, page_content='User Katherine Williams ordered Daisy (Green) (Flower Type) and Body Lotion (Black) (Personal Care) on 2025-01-01 14:14:28'), Document(id='d6346d6a-6a3d-4dc4-97a5-48fc9144d467', metadata={'categories': ['Home Goods', 'Home Goods', 'Home Goods', 'Electronics', 'Clothing'], 'order_date': '2025-01-01 14:11:24', 'products': ['Curtain (Red)', 'Curtain (Brown)', 'Knife Set (Red)', 'Laptop (Orange)', 'Winter Coat (Purple)'], 'user_id': 381.0, 'user_name': 'Katherine Williams'}, page_content='User Katherine Williams ordered Curtain (Red) (Home Goods) and Curtain (Brown) (Home Goods) and Knife Set (Red) (Home Goods) and Laptop (Orange) (Electronics) and Winter Coat (Purple) (Clothing) on 2025-01-01 14:11:24'), Document(id='e382f029-c6b9-4bb9-817b-7a68fc72be0f', metadata={'categories': ['Electronics'], 'order_date': '2025-01-01 14:11:59', 'products': ['Smartphone (Yellow)'], 'user_id': 350.0, 'user_name': 'Cheryl Fuller'}, page_content='User Cheryl Fuller ordered Smartphone (Yellow) (Electronics) on 2025-01-01 14:11:59'), Document(id='7007629c-515d-49a6-8482-ca656103c722', metadata={'categories': ['Jewelry', 'Clothing', 'Electronics'], 'order_date': '2025-01-01 14:13:40', 'products': ['Necklace (Blue)', 'Plus Size Coat (Green)', 'mouse (Purple)'], 'user_id': 375.0, 'user_name': 'Lori Gay'}, page_content='User Lori Gay ordered Necklace (Blue) (Jewelry) and Plus Size Coat (Green) (Clothing) and mouse (Purple) (Electronics) on 2025-01-01 14:13:40'), Document(id='fc7db587-d242-4a8f-aa77-36bea3f361a9', metadata={'categories': ['Jewelry', 'Personal Care'], 'order_date': '2025-01-01 13:06:42', 'products': ['Earrings (Blue)', 'Toothbrush (Black)'], 'user_id': 452.0, 'user_name': 'Jorge Wright'}, page_content='User Jorge Wright ordered Earrings (Blue) (Jewelry) and Toothbrush (Black) (Personal Care) on 2025-01-01 13:06:42')]\n",
      "The order with the most items was placed at 10:24:46 on 2024-12-30 by User Daniel Taylor, who ordered three items: Table Clock (Black) (Home Goods), Perfume (Yellow) (Personal Care), and Succulent (Brown) (Flower Type).\n"
     ]
    }
   ],
   "source": [
    "query = \"what time the order many\"\n",
    "answer = retrieve_answer(query)\n",
    "print(answer)"
   ]
  },
  {
   "cell_type": "code",
   "execution_count": null,
   "metadata": {},
   "outputs": [],
   "source": []
  }
 ],
 "metadata": {
  "kernelspec": {
   "display_name": "venv",
   "language": "python",
   "name": "python3"
  },
  "language_info": {
   "codemirror_mode": {
    "name": "ipython",
    "version": 3
   },
   "file_extension": ".py",
   "mimetype": "text/x-python",
   "name": "python",
   "nbconvert_exporter": "python",
   "pygments_lexer": "ipython3",
   "version": "3.12.2"
  }
 },
 "nbformat": 4,
 "nbformat_minor": 2
}
