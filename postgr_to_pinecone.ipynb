{
 "cells": [
  {
   "cell_type": "code",
   "execution_count": 1,
   "metadata": {},
   "outputs": [
    {
     "name": "stderr",
     "output_type": "stream",
     "text": [
      "C:\\Users\\fzehr\\AppData\\Local\\Temp\\ipykernel_75284\\3565532808.py:2: LangChainDeprecationWarning: The class `HuggingFaceEmbeddings` was deprecated in LangChain 0.2.2 and will be removed in 1.0. An updated version of the class exists in the :class:`~langchain-huggingface package and should be used instead. To use it run `pip install -U :class:`~langchain-huggingface` and import as `from :class:`~langchain_huggingface import HuggingFaceEmbeddings``.\n",
      "  embeddings = SentenceTransformerEmbeddings(model_name=\"all-MiniLM-L12-v2\")\n",
      "d:\\RAG_e-commerce\\RAG_e-commerce\\venv\\Lib\\site-packages\\tqdm\\auto.py:21: TqdmWarning: IProgress not found. Please update jupyter and ipywidgets. See https://ipywidgets.readthedocs.io/en/stable/user_install.html\n",
      "  from .autonotebook import tqdm as notebook_tqdm\n"
     ]
    }
   ],
   "source": [
    "from langchain_community.embeddings import SentenceTransformerEmbeddings\n",
    "embeddings = SentenceTransformerEmbeddings(model_name=\"all-MiniLM-L12-v2\")"
   ]
  },
  {
   "cell_type": "code",
   "execution_count": 24,
   "metadata": {},
   "outputs": [],
   "source": []
  },
  {
   "cell_type": "code",
   "execution_count": 31,
   "metadata": {},
   "outputs": [
    {
     "ename": "AttributeError",
     "evalue": "'str' object has no attribute 'embed_query'",
     "output_type": "error",
     "traceback": [
      "\u001b[1;31m---------------------------------------------------------------------------\u001b[0m",
      "\u001b[1;31mAttributeError\u001b[0m                            Traceback (most recent call last)",
      "Cell \u001b[1;32mIn[31], line 1\u001b[0m\n\u001b[1;32m----> 1\u001b[0m query_result \u001b[38;5;241m=\u001b[39m \u001b[43mmodel\u001b[49m\u001b[38;5;241;43m.\u001b[39;49m\u001b[43membed_query\u001b[49m(\u001b[38;5;124m\"\u001b[39m\u001b[38;5;124mheelo world\u001b[39m\u001b[38;5;124m\"\u001b[39m)\n\u001b[0;32m      2\u001b[0m \u001b[38;5;28mlen\u001b[39m(query_result)\n",
      "\u001b[1;31mAttributeError\u001b[0m: 'str' object has no attribute 'embed_query'"
     ]
    }
   ],
   "source": [
    "query_result = model.embed_query(\"heelo world\")\n",
    "len(query_result)"
   ]
  },
  {
   "cell_type": "code",
   "execution_count": 8,
   "metadata": {},
   "outputs": [],
   "source": [
    "from langchain_core.documents import Document\n",
    "from connect_db import create_connection\n",
    "from collections import defaultdict\n"
   ]
  },
  {
   "cell_type": "code",
   "execution_count": 1,
   "metadata": {},
   "outputs": [
    {
     "name": "stderr",
     "output_type": "stream",
     "text": [
      "d:\\RAG_e-commerce\\RAG_e-commerce\\venv\\Lib\\site-packages\\pinecone\\data\\index.py:1: TqdmWarning: IProgress not found. Please update jupyter and ipywidgets. See https://ipywidgets.readthedocs.io/en/stable/user_install.html\n",
      "  from tqdm.autonotebook import tqdm\n"
     ]
    }
   ],
   "source": [
    "import os\n",
    "import time\n",
    "import dotenv\n",
    "import os\n",
    "\n",
    "from pinecone import Pinecone, ServerlessSpec\n",
    "apikey= os.getenv(\"PINECONE_API_KEY\")\n",
    "pc= Pinecone(api_key = apikey)\n",
    "\n",
    "\n"
   ]
  },
  {
   "cell_type": "code",
   "execution_count": 5,
   "metadata": {},
   "outputs": [],
   "source": [
    "index = pc.Index(\"ecommerce-2\")"
   ]
  },
  {
   "cell_type": "code",
   "execution_count": 3,
   "metadata": {},
   "outputs": [],
   "source": [
    "from langchain_huggingface import HuggingFaceEmbeddings\n",
    "from langchain_core.documents import Document\n",
    "\n",
    "embeddings = HuggingFaceEmbeddings(model_name=\"sentence-transformers/all-MiniLM-L12-v2\")"
   ]
  },
  {
   "cell_type": "code",
   "execution_count": 6,
   "metadata": {},
   "outputs": [],
   "source": [
    "from langchain_pinecone import PineconeVectorStore\n",
    "\n",
    "vector_store = PineconeVectorStore(index=index, embedding=embeddings)"
   ]
  },
  {
   "cell_type": "code",
   "execution_count": 9,
   "metadata": {},
   "outputs": [],
   "source": [
    "def fetch_data_from_postgres():\n",
    "    connection = create_connection()\n",
    "    cursor = connection.cursor()\n",
    "    query = \"\"\"\n",
    "        -- her sipariş kullanıcı ve ürün bilgileir ile birleşir\n",
    "SELECT\n",
    "    u.user_id,\n",
    "    u.user_name AS user_name,\n",
    "    o.order_id,\n",
    "    o.product_id,\n",
    "    o.order_date,\n",
    "    p.product_name AS product_name,\n",
    "    p.category AS product_category\n",
    "FROM\n",
    "    orders o\n",
    "JOIN\n",
    "    users u ON o.user_id = u.user_id\n",
    "JOIN\n",
    "    products p ON o.product_id = p.product_id\n",
    "ORDER BY \n",
    "    o.order_date DESC;\n",
    "        \"\"\"\n",
    "    cursor.execute(query)\n",
    "    data = cursor.fetchall()\n",
    "    print(\"veri alınıd\")\n",
    "    connection.close()\n",
    "    return data\n",
    "\n"
   ]
  },
  {
   "cell_type": "code",
   "execution_count": 10,
   "metadata": {},
   "outputs": [],
   "source": [
    "def prepare_docs(data):\n",
    "    documents = []\n",
    "\n",
    "    grouped_orders = defaultdict(list)\n",
    "    for row in data:\n",
    "        user_id, user_name, order_id, product_id, order_date, product_name, product_category = row\n",
    "\n",
    "        order_date_trimmed = order_date.replace(microsecond=0)\n",
    "\n",
    "        key = (user_id, order_date_trimmed)\n",
    "\n",
    "        if key not in grouped_orders:\n",
    "            grouped_orders[key] = {\n",
    "                'user_name': user_name,  # Kullanıcı adı ekleniyor\n",
    "                'products': []          # Ürünler için boş liste\n",
    "            }\n",
    "\n",
    "    # Ürün bilgisi ekleniyor\n",
    "        grouped_orders[key]['products'].append({\n",
    "            'product_name': product_name,\n",
    "            'category': product_category\n",
    "        })\n",
    "\n",
    "    print(f\"groped orders into {len(grouped_orders)} unique user_date combinations\")\n",
    "\n",
    "    for (user_id, order_date), details in grouped_orders.items():\n",
    "        user_name = details['user_name']\n",
    "        products = details['products']\n",
    "        \n",
    "        # Ürün bilgilerini birleştir, sadece dict olanları al\n",
    "        products_text = \" and \".join([\n",
    "            f\"{p['product_name']} ({p['category']})\"\n",
    "            for p in products if isinstance(p, dict)\n",
    "        ])\n",
    "\n",
    "    \n",
    "        text = f\"User {user_name} ordered {products_text} on {order_date}\"\n",
    "        #print(text)\n",
    "        # embedding = embeddings.embed_documents(text)\n",
    "        \n",
    "        # Metadata hazırla\n",
    "        metadata = {\n",
    "            \"user_id\": user_id,\n",
    "            \"user_name\": user_name,\n",
    "            \"order_date\": str(order_date),\n",
    "            \"products\": [p['product_name'] for p in products if isinstance(p, dict)],\n",
    "            \"categories\": [p['category'] for p in products if isinstance(p, dict)]\n",
    "        }\n",
    "        # print(metadata)\n",
    "\n",
    "        doc = Document(\n",
    "            page_content = text,\n",
    "            metadata=metadata\n",
    "        )\n",
    "        documents.append(doc)\n",
    "\n",
    "        # unique_id = f\"{user_id}_{order_date}\"\n",
    "        # embedding_list.append((unique_id, embedding, metadata))\n",
    "        \n",
    "        # embeddings.append((user_id, embedding, metadata))\n",
    "\n",
    "    return documents"
   ]
  },
  {
   "cell_type": "code",
   "execution_count": 1,
   "metadata": {},
   "outputs": [
    {
     "name": "stderr",
     "output_type": "stream",
     "text": [
      "d:\\RAG_e-commerce\\RAG_e-commerce\\venv\\Lib\\site-packages\\pinecone\\data\\index.py:1: TqdmWarning: IProgress not found. Please update jupyter and ipywidgets. See https://ipywidgets.readthedocs.io/en/stable/user_install.html\n",
      "  from tqdm.autonotebook import tqdm\n",
      "C:\\Users\\fzehr\\AppData\\Local\\Temp\\ipykernel_8992\\2711609940.py:12: LangChainDeprecationWarning: The class `ChatOpenAI` was deprecated in LangChain 0.0.10 and will be removed in 1.0. An updated version of the class exists in the :class:`~langchain-openai package and should be used instead. To use it run `pip install -U :class:`~langchain-openai` and import as `from :class:`~langchain_openai import ChatOpenAI``.\n",
      "  llm = ChatOpenAI(model_name = \"gpt-3.5-turbo\", temperature = 0)\n"
     ]
    },
    {
     "name": "stdout",
     "output_type": "stream",
     "text": [
      "pinecone bağlantı başarılı\n"
     ]
    }
   ],
   "source": [
    "\n",
    "from langchain_pinecone import PineconeVectorStore\n",
    "from pinecone import Pinecone, ServerlessSpec\n",
    "from langchain_huggingface import HuggingFaceEmbeddings\n",
    "import os\n",
    "from dotenv import load_dotenv\n",
    "from langchain.chains.question_answering import load_qa_chain\n",
    "from langchain_community.chat_models import ChatOpenAI\n",
    "from langchain.prompts import ChatPromptTemplate\n",
    "\n",
    "load_dotenv()\n",
    "pinecone_api_key = os.getenv(\"PINECONE_API_KEY\")\n",
    "llm = ChatOpenAI(model_name = \"gpt-3.5-turbo\", temperature = 0)\n",
    "\n",
    "model = HuggingFaceEmbeddings(model_name=\"sentence-transformers/all-MiniLM-L12-v2\")\n",
    "pc = Pinecone(api_key=pinecone_api_key)\n",
    "index_name= \"ecommerce-2\"\n",
    "index = pc.Index(index_name)\n",
    "vector_store = PineconeVectorStore(index=index, embedding=model)\n",
    "print(\"pinecone bağlantı başarılı\")\n"
   ]
  },
  {
   "cell_type": "code",
   "execution_count": 11,
   "metadata": {},
   "outputs": [
    {
     "name": "stdout",
     "output_type": "stream",
     "text": [
      "connection succes\n",
      "veri alınıd\n",
      "groped orders into 140 unique user_date combinations\n"
     ]
    }
   ],
   "source": [
    "data = fetch_data_from_postgres()\n",
    "docs = prepare_docs(data)"
   ]
  },
  {
   "cell_type": "code",
   "execution_count": 29,
   "metadata": {},
   "outputs": [
    {
     "data": {
      "text/plain": [
       "Document(metadata={'user_id': 346, 'user_name': 'Jacob Fischer', 'order_date': '2025-01-01 14:16:55', 'products': ['Smartwatch (Pink)', 'Plus Size Coat (Green)'], 'categories': ['Electronics', 'Clothing']}, page_content='User Jacob Fischer ordered Smartwatch (Pink) (Electronics) and Plus Size Coat (Green) (Clothing) on 2025-01-01 14:16:55')"
      ]
     },
     "execution_count": 29,
     "metadata": {},
     "output_type": "execute_result"
    }
   ],
   "source": [
    "docs[1]"
   ]
  },
  {
   "cell_type": "code",
   "execution_count": 33,
   "metadata": {},
   "outputs": [],
   "source": [
    "from uuid import uuid4\n",
    "\n",
    "uuids = [str(uuid4()) for _ in range(len(docs))]\n"
   ]
  },
  {
   "cell_type": "code",
   "execution_count": 34,
   "metadata": {},
   "outputs": [
    {
     "data": {
      "text/plain": [
       "['f386a5c8-219b-41ee-b120-49a805375946',\n",
       " 'ccb54243-89d8-4862-a85a-bc3e63974c17',\n",
       " 'bb9243ac-09a8-482b-a5c2-cafbab09f5ef',\n",
       " '4db47027-bf41-485d-bb79-b7819a777e77',\n",
       " 'd0011354-9351-4298-9625-8f8b8eef44d3',\n",
       " 'ecf8a6b5-1d60-450a-99e9-28dd586f0a23',\n",
       " '49c170e0-e1b5-4f04-a1d9-b17e46cc0106',\n",
       " 'bdfbc029-9f15-43c5-ac0d-a86ffbfea663',\n",
       " '13e6a811-9fad-4eab-9afc-105e6b9088b2',\n",
       " 'c91bef84-3673-412c-ac57-200263c81d34',\n",
       " 'be4315b2-3603-4c3d-a239-14056de30f64',\n",
       " '18356b7e-e8ee-4796-931e-3d518be6bb4d',\n",
       " '27d06b6e-c10f-44e4-8bc5-6e7362dfeea7',\n",
       " 'fb9ec26b-c798-4468-9741-947730f6ddab',\n",
       " 'a4196655-ede5-4e7c-a7fa-38cdb2851e4f',\n",
       " '29ca8f0a-b7bc-4efe-b5fd-8e21e0128629',\n",
       " '99bb6198-be4c-4199-a9d6-c879fe73cfdb',\n",
       " 'a101f0f3-42fe-430d-b373-266adce1688c',\n",
       " '3186bf54-9bc2-4117-9a38-874f4961c201',\n",
       " '0318c63d-cb8c-4bb4-9800-811adbc8e6b9',\n",
       " 'b61121fd-d07f-477a-b542-4a05bd858013',\n",
       " 'e69f40f6-768e-4a63-8905-7fb927039175',\n",
       " 'c68b9c1a-f563-4326-a372-94dad2e2f0e0',\n",
       " 'da094ece-3807-4f40-aa1c-30d770f13f2d',\n",
       " '9bc0eb81-80eb-4932-9d7e-c83a53ca95b0',\n",
       " '4b041c7e-bfeb-4e53-b4fe-328a96d6028e',\n",
       " 'f84bd2c0-6db7-4265-82de-68668cd8c062',\n",
       " 'd5e83ae8-0779-4867-abe9-ff087b969e53',\n",
       " '8d1e0415-1695-4746-b7d0-3b9811dbbf0d',\n",
       " '5322198c-4756-4804-8a00-187ea9703917',\n",
       " '0556c5c5-3091-400e-ac83-0674d3a9024e',\n",
       " '90fce755-ddc6-4937-ad84-4afdbd7b4778',\n",
       " '0bdbf276-cf97-43c1-90ff-0edf12c0e492',\n",
       " 'dc496ec9-e627-4da7-94c4-7fde5ba15bf3',\n",
       " '4a921812-ccdc-4528-af0b-e325b33ef759',\n",
       " '2d327f83-c5d1-4450-8f08-e5d4c1a1dcf9',\n",
       " '7ec659e6-a5ba-4ddf-b646-67a3a614861d',\n",
       " 'bc57c028-9e9f-468d-96f7-018429876d5b',\n",
       " 'ac9e04e0-4740-42af-b6e3-8aadd8d52568',\n",
       " '0bf17ec9-f578-4922-ba09-110636297463',\n",
       " '0faaa181-b30c-4e1b-b8da-19ca22d04fed',\n",
       " 'd8f63d87-8dcb-4c72-8e3f-90423ceb0234',\n",
       " '0ee7c2b3-5a0c-43f4-8ddf-b3d67a35c80d',\n",
       " 'faf52b17-c5f6-46b4-8fd3-ab57854fc32f',\n",
       " 'f2b2b365-71d4-464f-a663-1b03207768c3',\n",
       " 'b487d123-fea4-40c3-b5a2-592a13851bb8',\n",
       " '23fa39d3-ce97-4688-aa83-c1caa7b6ceda',\n",
       " '11563763-91ab-4232-a67a-a4c15e2b033e',\n",
       " '4b8a2e5a-88c7-41ae-a0f1-51dd3def23dd',\n",
       " '5bd655ad-4e8b-4fda-9e9f-66c17aab6a89',\n",
       " '7007629c-515d-49a6-8482-ca656103c722',\n",
       " '72183d52-17ab-401d-810e-726e471cb347',\n",
       " 'edcf350b-5bbb-4008-ae07-ffe2ca054bce',\n",
       " '59dc87d4-d36f-4a7b-8bfd-c0dcef280547',\n",
       " 'a11ae6f9-b2ec-45cc-8172-7d658ce028ed',\n",
       " '82589eb7-b764-4536-b671-ecf95521b94e',\n",
       " '73f8d171-d2d7-419a-973f-3d4e166ebe3b',\n",
       " 'fc4f14c7-217b-4e07-a6c3-aa4c8f0399e4',\n",
       " 'ab126336-9efd-4fd7-8d62-6b949f706a5c',\n",
       " 'eeca6a23-d1e4-4cbc-ba26-487c5d670923',\n",
       " '131c5f88-df99-4517-b825-ceb9df43df11',\n",
       " '22a994b3-bf74-40ea-9e35-9d2ce7977c70',\n",
       " '651ffcee-2e2a-47a3-847a-50790f66ef05',\n",
       " '8700d520-5410-4cf7-b2e8-8ae3c6c5657a',\n",
       " 'e4d7c96a-8c48-4ea8-9dc5-24ba3324d168',\n",
       " '51deefbe-3044-4c66-be55-8220eff7930e',\n",
       " 'a097ab7b-c627-4444-a0b4-ed3b37ae2ecc',\n",
       " 'b02b1dc5-2821-4fc3-a3c4-5e46f53f93f0',\n",
       " '326dd35f-73fb-4652-bb86-828f9d32abcf',\n",
       " '48fdc4e1-3245-4710-9893-ffba4fef5089',\n",
       " 'f9ecf43b-bc44-4e72-a760-85045de47c7b',\n",
       " '0eb06140-8d10-47a3-bb80-596623dca6e6',\n",
       " '88131be6-3ddd-4be1-8dbc-b097aa1a0330',\n",
       " '4dd4b3cb-e015-4ee1-b2bb-65cdb8f6ff02',\n",
       " '3b5437df-8daa-46b4-bb10-ee1d0c657a31',\n",
       " 'e382f029-c6b9-4bb9-817b-7a68fc72be0f',\n",
       " 'aefbae6b-2d34-4287-ae4c-f65bb70ec594',\n",
       " '3ff41e46-c2e4-4a6f-9835-8544fbaf235b',\n",
       " '271496dd-1dd2-45e3-a145-f0cea98f796c',\n",
       " '87d345d1-5508-4659-9a66-73e1d54e6295',\n",
       " 'bccd3540-2205-4a11-bd68-49ed7a0ce225',\n",
       " 'abe5da46-62ea-4d41-ab9d-a31e6b77d322',\n",
       " 'ca5686b7-fbfe-4497-9ce5-fa59b7d8bfd0',\n",
       " 'a49d834b-3a40-4497-9f4f-1e8998f3f38c',\n",
       " 'd6346d6a-6a3d-4dc4-97a5-48fc9144d467',\n",
       " 'e6b0adc0-3c6b-4ced-abc7-b2a8ec24b792',\n",
       " 'f9713e11-1d2e-48c1-aa6e-8b073309ed69',\n",
       " '67930008-8ca1-45a0-9ad4-3363729d5403',\n",
       " '3e8f9119-806a-44ac-9696-9d78b4385cca',\n",
       " '786f8e2b-3cae-4d91-ab5e-bc772d713ed5',\n",
       " '3aa6071b-b11c-49c5-a4b3-788f202b19f8',\n",
       " 'fe2b06ff-c4cf-4097-abcb-5fc27bb5e6ed',\n",
       " '937043cd-6206-43e5-939c-80ffe9dab4c1',\n",
       " '83de3b61-956a-4411-8bb6-23305e13aed2',\n",
       " 'dcf90beb-dba8-4287-b713-5c0a58d923d9',\n",
       " 'e3145d6d-91bf-4f87-870b-ee1c9622c80b',\n",
       " 'dc76511e-83c5-4b02-9324-78f1a425623a',\n",
       " 'b10537bd-70be-42bc-97fb-42f433ceb1fb',\n",
       " 'f2b18517-a7ed-47bc-b6ea-b5707195eaa3',\n",
       " '2cc294f3-73de-4f36-b157-2bf34a2a2408',\n",
       " '519f7666-1cf4-4981-b5c4-690b86d8f993',\n",
       " '1a33c04c-faa2-4d7f-ba9a-74482f15477c',\n",
       " '8c530d45-4ec7-42ad-978f-d3f64128755e',\n",
       " '9d360b7c-48d4-49d6-af4b-5d1396c002cb',\n",
       " '71fab6a2-91ae-4446-8114-ca8631e31fb9',\n",
       " '9ff8b514-d6c6-4b75-814b-89ae59a21b78',\n",
       " '1f93b257-9426-4abb-a0b1-874fd789b041',\n",
       " '0ae50314-a39c-40c5-bf93-3a146b32ce80',\n",
       " 'bc8a12b7-0115-48db-9e4e-dcf0714858bb',\n",
       " '552e6cc7-ba36-449e-9411-e0aa8a0870d5',\n",
       " '1d89b797-c0a9-4859-9a31-89cef8c5c471',\n",
       " '8a3c1447-457b-4bc1-aded-27a9e7f0ab23',\n",
       " 'a84df4d9-dab7-4787-8fee-89bb65fc0284',\n",
       " '7521d5c9-c2e3-4526-985e-404a26292e80',\n",
       " 'fc7db587-d242-4a8f-aa77-36bea3f361a9',\n",
       " '1c3d96dd-c06f-4553-bba0-4db1e06b4167',\n",
       " '84ec1fc8-c438-4aaf-864e-afa98c85483c',\n",
       " '23012aef-1431-4b96-9746-64212f844c43',\n",
       " '94fdc367-614b-4804-b275-4dbf50adc39f',\n",
       " '86067d13-ebfc-496b-b2c8-f87d0fce5655',\n",
       " 'ceb408ae-53d7-4bcd-a2e8-e46614b51593',\n",
       " '5e343322-c824-41d9-89d7-711afe451640',\n",
       " '56fbcaa6-9a8e-4dd5-a725-d7aa84f6c02d',\n",
       " 'd17b5870-0393-4fde-8b3f-af88238cfe76',\n",
       " '6a685bb6-9b62-45ea-a7fc-873af489ac9a',\n",
       " '2a57e613-07dd-4a15-adf8-fce56fc8b043',\n",
       " 'bd007a7a-7fb6-4f27-beb3-2d8e76c6d799',\n",
       " '0acbecf6-6823-43d2-b558-b9bf6b6c4c2c',\n",
       " '930b86c0-5ca3-4617-a3c4-429d74655d06',\n",
       " '2f001f40-6eec-47fe-a173-dcc265ac6803',\n",
       " 'a028408c-08e7-4091-a877-428a87fe0075',\n",
       " '9f824c9f-7812-4faa-8667-a7df38592087',\n",
       " '7c74637c-3314-45eb-84c2-2eb9c55f677a',\n",
       " '5696e1f9-7539-41d6-bed8-07ebf6755042',\n",
       " '923848d7-9797-4e85-9189-3433a6df617f',\n",
       " 'd007ed76-7080-496e-9251-295fd0d1c949',\n",
       " '6ed36e2a-7ee8-46c9-b379-b3a665838f19',\n",
       " '14048792-0138-4490-b035-1c72816b66cf',\n",
       " '60162f1d-7c88-46e0-aa55-057fff60f651',\n",
       " '18163524-20ae-4bc8-bb4f-4efacb6b80de']"
      ]
     },
     "execution_count": 34,
     "metadata": {},
     "output_type": "execute_result"
    }
   ],
   "source": [
    "vector_store.add_documents(documents=docs, ids = uuids)"
   ]
  },
  {
   "cell_type": "code",
   "execution_count": 2,
   "metadata": {},
   "outputs": [
    {
     "name": "stdout",
     "output_type": "stream",
     "text": [
      "* [SIM=0.490285] User Cheryl Fuller ordered Smartphone (Yellow) (Electronics) on 2025-01-01 14:11:59 [{'categories': ['Electronics'], 'order_date': '2025-01-01 14:11:59', 'products': ['Smartphone (Yellow)'], 'user_id': 350.0, 'user_name': 'Cheryl Fuller'}]\n",
      "* [SIM=0.379550] User Marcus Williams ordered Powerbank (Purple) (Electronics) and Smartphone (Red) (Electronics) on 2025-01-01 13:06:39 [{'categories': ['Electronics', 'Electronics'], 'order_date': '2025-01-01 13:06:39', 'products': ['Powerbank (Purple)', 'Smartphone (Red)'], 'user_id': 349.0, 'user_name': 'Marcus Williams'}]\n",
      "* [SIM=0.373453] User Mr. Joseph Taylor ordered Smartphone (Blue) (Electronics) and Food Processor (Purple) (Home Goods) on 2025-01-01 14:12:56 [{'categories': ['Electronics', 'Home Goods'], 'order_date': '2025-01-01 14:12:56', 'products': ['Smartphone (Blue)', 'Food Processor (Purple)'], 'user_id': 398.0, 'user_name': 'Mr. Joseph Taylor'}]\n"
     ]
    }
   ],
   "source": [
    "results = vector_store.similarity_search_with_score(\n",
    "    \"who bus a smartphone\",\n",
    "    k=3,\n",
    ")\n",
    "for res, score in results:\n",
    "    print(f\"* [SIM={score:3f}] {res.page_content} [{res.metadata}]\")"
   ]
  },
  {
   "cell_type": "code",
   "execution_count": 3,
   "metadata": {},
   "outputs": [],
   "source": [
    "def retrieve_query(query, k=100):\n",
    "    matching_docs = vector_store.similarity_search(query, k=k)\n",
    "    return matching_docs"
   ]
  },
  {
   "cell_type": "code",
   "execution_count": 41,
   "metadata": {},
   "outputs": [],
   "source": [
    "from langchain.chains.question_answering import load_qa_chain\n",
    "from langchain_community.chat_models import ChatOpenAI"
   ]
  },
  {
   "cell_type": "code",
   "execution_count": 42,
   "metadata": {},
   "outputs": [
    {
     "name": "stderr",
     "output_type": "stream",
     "text": [
      "C:\\Users\\fzehr\\AppData\\Local\\Temp\\ipykernel_51260\\1360019337.py:1: LangChainDeprecationWarning: The class `ChatOpenAI` was deprecated in LangChain 0.0.10 and will be removed in 1.0. An updated version of the class exists in the :class:`~langchain-openai package and should be used instead. To use it run `pip install -U :class:`~langchain-openai` and import as `from :class:`~langchain_openai import ChatOpenAI``.\n",
      "  llm = ChatOpenAI(model_name = \"gpt-3.5-turbo\", temperature = 0)\n"
     ]
    }
   ],
   "source": [
    "llm = ChatOpenAI(model_name = \"gpt-3.5-turbo\", temperature = 0)"
   ]
  },
  {
   "cell_type": "code",
   "execution_count": 4,
   "metadata": {},
   "outputs": [
    {
     "name": "stderr",
     "output_type": "stream",
     "text": [
      "C:\\Users\\fzehr\\AppData\\Local\\Temp\\ipykernel_8992\\3203274189.py:1: LangChainDeprecationWarning: This class is deprecated. See the following migration guides for replacements based on `chain_type`:\n",
      "stuff: https://python.langchain.com/docs/versions/migrating_chains/stuff_docs_chain\n",
      "map_reduce: https://python.langchain.com/docs/versions/migrating_chains/map_reduce_chain\n",
      "refine: https://python.langchain.com/docs/versions/migrating_chains/refine_chain\n",
      "map_rerank: https://python.langchain.com/docs/versions/migrating_chains/map_rerank_docs_chain\n",
      "\n",
      "See also guides on retrieval and question-answering here: https://python.langchain.com/docs/how_to/#qa-with-rag\n",
      "  chain = load_qa_chain(llm,chain_type=\"stuff\")\n"
     ]
    }
   ],
   "source": [
    "chain = load_qa_chain(llm,chain_type=\"stuff\")"
   ]
  },
  {
   "cell_type": "code",
   "execution_count": 9,
   "metadata": {},
   "outputs": [],
   "source": [
    "from langchain.prompts import ChatPromptTemplate\n",
    "\n",
    "rag_template = \"\"\"\n",
    "You are an e-commerce data assistant. Use the context provided to answer the user's query.\n",
    "Context:\n",
    "{context}\n",
    "Question: {question}\n",
    "Answer:\"\"\"\n",
    "rag_prompt = ChatPromptTemplate.from_template(rag_template)"
   ]
  },
  {
   "cell_type": "code",
   "execution_count": 10,
   "metadata": {},
   "outputs": [],
   "source": [
    "def retrieve_answer(query):\n",
    "    doc_search = retrieve_query(query)\n",
    "    print(doc_search)\n",
    "    response = chain.run(input_documents = doc_search, question = query )\n",
    "    return response"
   ]
  },
  {
   "cell_type": "code",
   "execution_count": null,
   "metadata": {},
   "outputs": [],
   "source": [
    "pip install --upgrade openai\n"
   ]
  },
  {
   "cell_type": "code",
   "execution_count": 1,
   "metadata": {},
   "outputs": [
    {
     "name": "stderr",
     "output_type": "stream",
     "text": [
      "d:\\RAG_e-commerce\\RAG_e-commerce\\venv\\Lib\\site-packages\\pinecone\\data\\index.py:1: TqdmWarning: IProgress not found. Please update jupyter and ipywidgets. See https://ipywidgets.readthedocs.io/en/stable/user_install.html\n",
      "  from tqdm.autonotebook import tqdm\n",
      "C:\\Users\\fzehr\\AppData\\Local\\Temp\\ipykernel_63972\\1164457846.py:12: LangChainDeprecationWarning: The class `ChatOpenAI` was deprecated in LangChain 0.0.10 and will be removed in 1.0. An updated version of the class exists in the :class:`~langchain-openai package and should be used instead. To use it run `pip install -U :class:`~langchain-openai` and import as `from :class:`~langchain_openai import ChatOpenAI``.\n",
      "  llm = ChatOpenAI(model_name = \"gpt-3.5-turbo\", temperature = 0)\n"
     ]
    }
   ],
   "source": [
    "\n",
    "from langchain_pinecone import PineconeVectorStore\n",
    "from pinecone import Pinecone, ServerlessSpec\n",
    "from langchain_huggingface import HuggingFaceEmbeddings\n",
    "import os\n",
    "from dotenv import load_dotenv\n",
    "from langchain.chains.question_answering import load_qa_chain\n",
    "from langchain_community.chat_models import ChatOpenAI\n",
    "from langchain.prompts import ChatPromptTemplate\n",
    "\n",
    "load_dotenv()\n",
    "pinecone_api_key = os.getenv(\"PINECONE_API_KEY\")\n",
    "llm = ChatOpenAI(model_name = \"gpt-3.5-turbo\", temperature = 0)\n",
    "\n",
    "model = HuggingFaceEmbeddings(model_name=\"sentence-transformers/all-MiniLM-L12-v2\")\n",
    "pc = Pinecone(api_key=pinecone_api_key)\n",
    "index_name= \"ecommerce-2\"\n",
    "index = pc.Index(index_name)\n",
    "vector_store = PineconeVectorStore(index=index, embedding=model)"
   ]
  },
  {
   "cell_type": "code",
   "execution_count": 2,
   "metadata": {},
   "outputs": [],
   "source": [
    "retriever = vector_store.as_retriever()\n"
   ]
  },
  {
   "cell_type": "code",
   "execution_count": 10,
   "metadata": {},
   "outputs": [
    {
     "name": "stdout",
     "output_type": "stream",
     "text": [
      "tags=['PineconeVectorStore', 'HuggingFaceEmbeddings'] vectorstore=<langchain_pinecone.vectorstores.PineconeVectorStore object at 0x0000021E64325E50> search_kwargs={}\n"
     ]
    }
   ],
   "source": [
    "print(retriever)"
   ]
  },
  {
   "cell_type": "code",
   "execution_count": 7,
   "metadata": {},
   "outputs": [],
   "source": [
    "from langchain.chains import ConversationalRetrievalChain\n",
    "from langchain.memory import ConversationBufferMemory\n",
    "\n",
    "memory = ConversationBufferMemory(memory_key=\"chat_history\", return_messages= True)\n",
    "\n",
    "chain = ConversationalRetrievalChain.from_llm(llm, retriever= retriever, memory= memory)\n"
   ]
  },
  {
   "cell_type": "code",
   "execution_count": 9,
   "metadata": {},
   "outputs": [
    {
     "data": {
      "text/plain": [
       "'The users who bought Shampoo (Yellow) are Jason Martinez and Kylie Hughes.'"
      ]
     },
     "execution_count": 9,
     "metadata": {},
     "output_type": "execute_result"
    }
   ],
   "source": [
    "query = 'can you give me tha name of users who buy a Shampoo (Yellow)'\n",
    "chain.run({'question': query})"
   ]
  },
  {
   "cell_type": "code",
   "execution_count": 34,
   "metadata": {},
   "outputs": [],
   "source": [
    "load_dotenv()\n",
    "pinecone_api_key = os.getenv(\"PINECONE_API_KEY\")\n",
    "llm = ChatOpenAI(model_name = \"gpt-3.5-turbo\", temperature = 0)\n",
    "\n",
    "pc = Pinecone(api_key=pinecone_api_key)"
   ]
  },
  {
   "cell_type": "code",
   "execution_count": 35,
   "metadata": {},
   "outputs": [],
   "source": [
    "pc.create_index(\n",
    "    name=  \"new-ecommerce\",\n",
    "    metric=\"dotproduct\",\n",
    "    dimension=768,\n",
    "    spec = ServerlessSpec(\n",
    "        cloud = \"aws\",\n",
    "        region = \"us-east-1\"\n",
    "\n",
    "    )\n",
    ")"
   ]
  },
  {
   "cell_type": "code",
   "execution_count": 36,
   "metadata": {},
   "outputs": [],
   "source": [
    "index = pc.Index(\"new-ecommerce\")"
   ]
  },
  {
   "cell_type": "code",
   "execution_count": 2,
   "metadata": {},
   "outputs": [],
   "source": [
    "from langchain_pinecone import PineconeVectorStore\n",
    "from pinecone import Pinecone, ServerlessSpec\n",
    "from langchain_huggingface import HuggingFaceEmbeddings\n",
    "import os\n",
    "from dotenv import load_dotenv\n",
    "from langchain.chains.question_answering import load_qa_chain\n",
    "from langchain_community.chat_models import ChatOpenAI\n",
    "from langchain.prompts import ChatPromptTemplate\n",
    "\n",
    "\n",
    "load_dotenv()\n",
    "pinecone_api_key = os.getenv(\"PINECONE_API_KEY\")\n",
    "llm = ChatOpenAI(model_name = \"gpt-3.5-turbo\", temperature = 0)\n",
    "\n",
    "embeddings = HuggingFaceEmbeddings(\n",
    "    model_name=\"sentence-transformers/all-mpnet-base-v2\"\n",
    ")"
   ]
  },
  {
   "cell_type": "markdown",
   "metadata": {},
   "source": []
  },
  {
   "cell_type": "code",
   "execution_count": 5,
   "metadata": {},
   "outputs": [],
   "source": [
    "#create embedding\n",
    "\n",
    "pc = Pinecone(api_key=pinecone_api_key)\n",
    "index_name= \"new-ecommerce\"\n",
    "index = pc.Index(index_name)\n",
    "\n",
    "vector_store = PineconeVectorStore(embedding=embeddings, index=index)"
   ]
  },
  {
   "cell_type": "code",
   "execution_count": 40,
   "metadata": {},
   "outputs": [],
   "source": [
    "query = \"can you give me tha name of users who buy a Shampoo (Yellow)\"\n",
    "retriever = vector_store.as_retriever(search_kwargs = {\"k\": 100})"
   ]
  },
  {
   "cell_type": "code",
   "execution_count": 41,
   "metadata": {},
   "outputs": [
    {
     "data": {
      "text/plain": [
       "[Document(id='c166c1f5-4688-470b-8c25-e5a593373d25', metadata={'categories': ['Personal Care'], 'order_date': '2025-01-01 14:10:40', 'products': ['Shampoo (White)'], 'user_id': 341.0, 'user_name': 'Lori Graham'}, page_content='User Lori Graham ordered Shampoo (White) (Personal Care) on 2025-01-01 14:10:40'),\n",
       " Document(id='ecf1643d-33cd-4552-87b6-dddc3fa11ef4', metadata={'categories': ['Personal Care', 'Home Goods'], 'order_date': '2025-01-01 13:06:45', 'products': ['Shampoo (Yellow)', 'Knife Set (Red)'], 'user_id': 404.0, 'user_name': 'Jason Martinez'}, page_content='User Jason Martinez ordered Shampoo (Yellow) (Personal Care) and Knife Set (Red) (Home Goods) on 2025-01-01 13:06:45'),\n",
       " Document(id='70e5f113-c563-4cf3-b980-d0f428869097', metadata={'categories': ['Jewelry', 'Personal Care'], 'order_date': '2025-01-01 13:06:25', 'products': ['Necklace (Purple)', 'Shampoo (Orange)'], 'user_id': 370.0, 'user_name': 'Bradley Maldonado'}, page_content='User Bradley Maldonado ordered Necklace (Purple) (Jewelry) and Shampoo (Orange) (Personal Care) on 2025-01-01 13:06:25'),\n",
       " Document(id='3f7c875c-b4e4-45fd-b9ff-90eef38428d1', metadata={'categories': ['Personal Care'], 'order_date': '2025-01-01 14:13:07', 'products': ['Toothbrush (Orange)'], 'user_id': 513.0, 'user_name': 'Mrs. Sabrina Delgado MD'}, page_content='User Mrs. Sabrina Delgado MD ordered Toothbrush (Orange) (Personal Care) on 2025-01-01 14:13:07'),\n",
       " Document(id='546b4a79-0baf-4e4c-9938-7173690e8f4f', metadata={'categories': ['Personal Care', 'Personal Care', 'Electronics', 'Home Goods'], 'order_date': '2025-01-01 14:11:34', 'products': ['Perfume (Blue)', 'Shampoo (Orange)', 'Bluetooth Headset (Black)', 'Lamp (Brown)'], 'user_id': 452.0, 'user_name': 'Jorge Wright'}, page_content='User Jorge Wright ordered Perfume (Blue) (Personal Care) and Shampoo (Orange) (Personal Care) and Bluetooth Headset (Black) (Electronics) and Lamp (Brown) (Home Goods) on 2025-01-01 14:11:34'),\n",
       " Document(id='4ed2b554-d06c-4eae-a94a-75192bff93e4', metadata={'categories': ['Personal Care', 'Home Goods', 'Electronics'], 'order_date': '2025-01-01 14:09:48', 'products': ['Shampoo (Orange)', 'Carpet (Blue)', 'Laptop (Orange)'], 'user_id': 429.0, 'user_name': 'Holly Lee'}, page_content='User Holly Lee ordered Shampoo (Orange) (Personal Care) and Carpet (Blue) (Home Goods) and Laptop (Orange) (Electronics) on 2025-01-01 14:09:48'),\n",
       " Document(id='cba16f05-b724-4bf6-8ce2-ac30f2a65aa3', metadata={'categories': ['Personal Care', 'Personal Care', 'Personal Care'], 'order_date': '2025-01-01 14:12:24', 'products': ['Toothbrush (Purple)', 'Toothbrush (Orange)', 'Body Lotion (Purple)'], 'user_id': 494.0, 'user_name': 'Andrea Thomas'}, page_content='User Andrea Thomas ordered Toothbrush (Purple) (Personal Care) and Toothbrush (Orange) (Personal Care) and Body Lotion (Purple) (Personal Care) on 2025-01-01 14:12:24'),\n",
       " Document(id='5b85b4a2-e35e-4fd3-8fff-a060648edeb0', metadata={'categories': ['Personal Care', 'Flower Type', 'Clothing', 'Home Goods', 'Flower Type'], 'order_date': '2025-01-01 14:10:01', 'products': ['Shampoo (Red)', 'Begonia (Blue)', 'Winter Coat (Green)', 'Lamp (Purple)', 'Daisy (Green)'], 'user_id': 450.0, 'user_name': 'John Stephens'}, page_content='User John Stephens ordered Shampoo (Red) (Personal Care) and Begonia (Blue) (Flower Type) and Winter Coat (Green) (Clothing) and Lamp (Purple) (Home Goods) and Daisy (Green) (Flower Type) on 2025-01-01 14:10:01'),\n",
       " Document(id='c05f76b2-26e7-4330-ab65-9e21c0ba1238', metadata={'categories': ['Personal Care', 'Flower Type', 'Clothing', 'Personal Care'], 'order_date': '2025-01-01 14:15:50', 'products': ['Toothbrush (Black)', 'Ficus (Orange)', 'Straight Jeans (White)', 'Body Lotion (White)'], 'user_id': 517.0, 'user_name': 'Paul Richards'}, page_content='User Paul Richards ordered Toothbrush (Black) (Personal Care) and Ficus (Orange) (Flower Type) and Straight Jeans (White) (Clothing) and Body Lotion (White) (Personal Care) on 2025-01-01 14:15:50'),\n",
       " Document(id='56012c52-f23f-4164-aa5e-5c9cdcaea382', metadata={'categories': ['Personal Care', 'Personal Care', 'Home Goods', 'Electronics', 'Clothing'], 'order_date': '2025-01-01 14:12:15', 'products': ['Shampoo (Orange)', 'Toothbrush (Orange)', 'Lamp (Brown)', 'Smartwatch (Purple)', 'Plus Size Coat (Blue)'], 'user_id': 475.0, 'user_name': 'Amy Walker'}, page_content='User Amy Walker ordered Shampoo (Orange) (Personal Care) and Toothbrush (Orange) (Personal Care) and Lamp (Brown) (Home Goods) and Smartwatch (Purple) (Electronics) and Plus Size Coat (Blue) (Clothing) on 2025-01-01 14:12:15'),\n",
       " Document(id='61f7c3c1-1b74-4b45-a333-62a438d7f2ca', metadata={'categories': ['Personal Care', 'Flower Type'], 'order_date': '2025-01-01 14:16:33', 'products': ['Toothbrush (Orange)', 'Tulip (Pink)'], 'user_id': 543.0, 'user_name': 'Deborah Young'}, page_content='User Deborah Young ordered Toothbrush (Orange) (Personal Care) and Tulip (Pink) (Flower Type) on 2025-01-01 14:16:33'),\n",
       " Document(id='bc0173ee-93d7-4083-bbce-c0271dc4c40c', metadata={'categories': ['Flower Type', 'Personal Care', 'Clothing'], 'order_date': '2025-01-01 14:15:54', 'products': ['Ficus (Green)', 'Shampoo (Yellow)', 'Waterproof Coat (Blue)'], 'user_id': 445.0, 'user_name': 'Kylie Hughes'}, page_content='User Kylie Hughes ordered Ficus (Green) (Flower Type) and Shampoo (Yellow) (Personal Care) and Waterproof Coat (Blue) (Clothing) on 2025-01-01 14:15:54'),\n",
       " Document(id='f369ea5f-5170-4f7b-8ca3-3357ad6aab11', metadata={'categories': ['Electronics', 'Personal Care'], 'order_date': '2025-01-01 14:16:02', 'products': ['Bluetooth Headset (White)', 'Toothbrush (Purple)'], 'user_id': 358.0, 'user_name': 'Diana Harmon'}, page_content='User Diana Harmon ordered Bluetooth Headset (White) (Electronics) and Toothbrush (Purple) (Personal Care) on 2025-01-01 14:16:02'),\n",
       " Document(id='ad969408-8f8e-4701-badb-8c529bae69f5', metadata={'categories': ['Flower Type', 'Personal Care'], 'order_date': '2025-01-01 14:14:28', 'products': ['Daisy (Green)', 'Body Lotion (Black)'], 'user_id': 381.0, 'user_name': 'Katherine Williams'}, page_content='User Katherine Williams ordered Daisy (Green) (Flower Type) and Body Lotion (Black) (Personal Care) on 2025-01-01 14:14:28'),\n",
       " Document(id='6ca5433b-15df-4a97-9892-c926768020c7', metadata={'categories': ['Personal Care'], 'order_date': '2024-12-30 10:24:42', 'products': ['Perfume (Purple)'], 'user_id': 387.0, 'user_name': 'Jeffery Johnson'}, page_content='User Jeffery Johnson ordered Perfume (Purple) (Personal Care) on 2024-12-30 10:24:42'),\n",
       " Document(id='67b17925-57de-4c8d-8ff3-49462b385a3a', metadata={'categories': ['Electronics'], 'order_date': '2025-01-01 14:11:59', 'products': ['Smartphone (Yellow)'], 'user_id': 350.0, 'user_name': 'Cheryl Fuller'}, page_content='User Cheryl Fuller ordered Smartphone (Yellow) (Electronics) on 2025-01-01 14:11:59'),\n",
       " Document(id='a043e2cb-6dd6-42f9-980a-c4ad2f979a31', metadata={'categories': ['Home Goods', 'Flower Type'], 'order_date': '2025-01-01 14:12:07', 'products': ['Carpet (Orange)', 'Tulip (Yellow)'], 'user_id': 397.0, 'user_name': 'Nina Webb'}, page_content='User Nina Webb ordered Carpet (Orange) (Home Goods) and Tulip (Yellow) (Flower Type) on 2025-01-01 14:12:07'),\n",
       " Document(id='e7e7f4bc-6ad5-470e-afb2-cc3366e03ddf', metadata={'categories': ['Personal Care', 'Home Goods', 'Electronics', 'Home Goods', 'Personal Care'], 'order_date': '2025-01-01 14:13:15', 'products': ['Perfume (Brown)', 'Food Processor (White)', 'mouse (Blue)', 'Carpet (Pink)', 'Shampoo (Brown)'], 'user_id': 486.0, 'user_name': 'Javier Wheeler'}, page_content='User Javier Wheeler ordered Perfume (Brown) (Personal Care) and Food Processor (White) (Home Goods) and mouse (Blue) (Electronics) and Carpet (Pink) (Home Goods) and Shampoo (Brown) (Personal Care) on 2025-01-01 14:13:15'),\n",
       " Document(id='d0b6d75c-9714-44e8-ad5f-b614ee6f2aee', metadata={'categories': ['Personal Care', 'Clothing', 'Personal Care', 'Home Goods', 'Electronics'], 'order_date': '2024-12-30 10:24:28', 'products': ['Body Lotion (Purple)', 'Straight Jeans (Purple)', 'Perfume (Green)', 'Lamp (Black)', 'keyword (Yellow)'], 'user_id': 366.0, 'user_name': 'Jacqueline Johnson'}, page_content='User Jacqueline Johnson ordered Body Lotion (Purple) (Personal Care) and Straight Jeans (Purple) (Clothing) and Perfume (Green) (Personal Care) and Lamp (Black) (Home Goods) and keyword (Yellow) (Electronics) on 2024-12-30 10:24:28'),\n",
       " Document(id='f83c760e-5d70-4967-ae4f-6fe6fa62358b', metadata={'categories': ['Electronics', 'Flower Type'], 'order_date': '2025-01-01 14:13:57', 'products': ['keyword (Yellow)', 'Tulip (Pink)'], 'user_id': 392.0, 'user_name': 'Jennifer Jordan'}, page_content='User Jennifer Jordan ordered keyword (Yellow) (Electronics) and Tulip (Pink) (Flower Type) on 2025-01-01 14:13:57'),\n",
       " Document(id='f8a3c767-7b77-41c0-b2ae-69d185054dcb', metadata={'categories': ['Home Goods', 'Jewelry', 'Electronics', 'Flower Type', 'Personal Care'], 'order_date': '2025-01-01 14:09:57', 'products': ['Lamp (Brown)', 'Earrings (Purple)', 'Smartphone (Red)', 'Succulent (Purple)', 'Shampoo (Yellow)'], 'user_id': 393.0, 'user_name': 'Dr. Marie Williams'}, page_content='User Dr. Marie Williams ordered Lamp (Brown) (Home Goods) and Earrings (Purple) (Jewelry) and Smartphone (Red) (Electronics) and Succulent (Purple) (Flower Type) and Shampoo (Yellow) (Personal Care) on 2025-01-01 14:09:57'),\n",
       " Document(id='7bdb7165-91b9-4dc2-a836-eb71e8f27cd5', metadata={'categories': ['Flower Type', 'Personal Care', 'Flower Type', 'Electronics'], 'order_date': '2024-12-30 10:24:33', 'products': ['Ficus (White)', 'Shampoo (Yellow)', 'Cactus (Orange)', 'mouse (Purple)'], 'user_id': 372.0, 'user_name': 'Jon Gill'}, page_content='User Jon Gill ordered Ficus (White) (Flower Type) and Shampoo (Yellow) (Personal Care) and Cactus (Orange) (Flower Type) and mouse (Purple) (Electronics) on 2024-12-30 10:24:33'),\n",
       " Document(id='9fa3a35b-5ad9-4ad9-ab4a-12efa7232b25', metadata={'categories': ['Electronics', 'Personal Care'], 'order_date': '2025-01-01 14:16:18', 'products': ['Smartwatch (Pink)', 'Toothbrush (Yellow)'], 'user_id': 382.0, 'user_name': 'Bryan Chavez'}, page_content='User Bryan Chavez ordered Smartwatch (Pink) (Electronics) and Toothbrush (Yellow) (Personal Care) on 2025-01-01 14:16:18'),\n",
       " Document(id='c59192ce-af9d-479b-bf61-707f4012e531', metadata={'categories': ['Home Goods', 'Personal Care', 'Flower Type', 'Personal Care', 'Personal Care'], 'order_date': '2024-12-30 10:23:42', 'products': ['Table Clock (Orange)', 'Toothbrush (Blue)', 'Succulent (Blue)', 'Shampoo (Pink)', 'Perfume (White)'], 'user_id': 434.0, 'user_name': 'Monique Wright'}, page_content='User Monique Wright ordered Table Clock (Orange) (Home Goods) and Toothbrush (Blue) (Personal Care) and Succulent (Blue) (Flower Type) and Shampoo (Pink) (Personal Care) and Perfume (White) (Personal Care) on 2024-12-30 10:23:42'),\n",
       " Document(id='b93d23ce-5490-4ec5-86a0-a954d8f70434', metadata={'categories': ['Electronics', 'Personal Care', 'Flower Type', 'Electronics', 'Jewelry'], 'order_date': '2025-01-01 14:11:42', 'products': ['Bluetooth Headset (Pink)', 'Shampoo (White)', 'Orchid (Black)', 'Smartwatch (Green)', 'Earrings (Blue)'], 'user_id': 363.0, 'user_name': 'Michael Davies'}, page_content='User Michael Davies ordered Bluetooth Headset (Pink) (Electronics) and Shampoo (White) (Personal Care) and Orchid (Black) (Flower Type) and Smartwatch (Green) (Electronics) and Earrings (Blue) (Jewelry) on 2025-01-01 14:11:42'),\n",
       " Document(id='2a297942-b242-44b2-bef0-73afe7e9d167', metadata={'categories': ['Personal Care', 'Flower Type', 'Home Goods', 'Electronics', 'Flower Type'], 'order_date': '2025-01-01 14:11:07', 'products': ['Perfume (White)', 'Rose (Green)', 'Pitcher (Orange)', 'Smartwatch (Red)', 'Cactus (Green)'], 'user_id': 483.0, 'user_name': 'Leslie Huber'}, page_content='User Leslie Huber ordered Perfume (White) (Personal Care) and Rose (Green) (Flower Type) and Pitcher (Orange) (Home Goods) and Smartwatch (Red) (Electronics) and Cactus (Green) (Flower Type) on 2025-01-01 14:11:07'),\n",
       " Document(id='d9809e31-a005-4d38-b28c-927264ab7e14', metadata={'categories': ['Home Goods', 'Jewelry', 'Personal Care', 'Personal Care'], 'order_date': '2024-12-30 10:24:37', 'products': ['Carpet (Orange)', 'Bracelet (Orange)', 'Toothbrush (Yellow)', 'Toothbrush (Red)'], 'user_id': 399.0, 'user_name': 'Erik Glenn'}, page_content='User Erik Glenn ordered Carpet (Orange) (Home Goods) and Bracelet (Orange) (Jewelry) and Toothbrush (Yellow) (Personal Care) and Toothbrush (Red) (Personal Care) on 2024-12-30 10:24:37'),\n",
       " Document(id='5ca6ea27-cfe1-4b4b-a0e9-da6d95621030', metadata={'categories': ['Home Goods', 'Personal Care', 'Home Goods', 'Home Goods'], 'order_date': '2025-01-01 14:09:44', 'products': ['Table Clock (Orange)', 'Shampoo (Orange)', 'Carpet (Orange)', 'Pot (Pink)'], 'user_id': 439.0, 'user_name': 'Elizabeth Murphy'}, page_content='User Elizabeth Murphy ordered Table Clock (Orange) (Home Goods) and Shampoo (Orange) (Personal Care) and Carpet (Orange) (Home Goods) and Pot (Pink) (Home Goods) on 2025-01-01 14:09:44'),\n",
       " Document(id='8b69e3ff-c8ca-4f3c-8146-770b14e5d2e3', metadata={'categories': ['Home Goods', 'Electronics', 'Electronics'], 'order_date': '2025-01-01 14:11:46', 'products': ['Curtain (Yellow)', 'Bluetooth Headset (Green)', 'Smartphone (Orange)'], 'user_id': 451.0, 'user_name': 'Lindsey Mcgee'}, page_content='User Lindsey Mcgee ordered Curtain (Yellow) (Home Goods) and Bluetooth Headset (Green) (Electronics) and Smartphone (Orange) (Electronics) on 2025-01-01 14:11:46'),\n",
       " Document(id='e1823ec1-6d96-4503-8a1e-73f6fadc879d', metadata={'categories': ['Electronics', 'Jewelry', 'Clothing', 'Personal Care'], 'order_date': '2025-01-01 14:15:11', 'products': ['Bluetooth Headset (Black)', 'Earrings (Blue)', 'Men Blazer (Pink)', 'Shampoo (Yellow)'], 'user_id': 447.0, 'user_name': 'Carrie Williams'}, page_content='User Carrie Williams ordered Bluetooth Headset (Black) (Electronics) and Earrings (Blue) (Jewelry) and Men Blazer (Pink) (Clothing) and Shampoo (Yellow) (Personal Care) on 2025-01-01 14:15:11'),\n",
       " Document(id='6dd0462a-e876-408f-b58c-be53c98356e7', metadata={'categories': ['Personal Care', 'Clothing', 'Electronics', 'Clothing', 'Home Goods'], 'order_date': '2025-01-01 14:14:43', 'products': ['Body Lotion (White)', 'Wool Coat (Pink)', 'Smartphone (Red)', 'Plus Size Coat (Green)', 'Curtain (White)'], 'user_id': 345.0, 'user_name': 'Maria Alvarez'}, page_content='User Maria Alvarez ordered Body Lotion (White) (Personal Care) and Wool Coat (Pink) (Clothing) and Smartphone (Red) (Electronics) and Plus Size Coat (Green) (Clothing) and Curtain (White) (Home Goods) on 2025-01-01 14:14:43'),\n",
       " Document(id='e727dd49-2658-4ba4-ab98-0e6ff4a803c5', metadata={'categories': ['Electronics', 'Jewelry', 'Home Goods', 'Personal Care', 'Jewelry'], 'order_date': '2025-01-01 14:14:48', 'products': ['keyword (White)', 'Earrings (White)', 'Table Clock (Orange)', 'Toothbrush (Orange)', 'Bracelet (Green)'], 'user_id': 495.0, 'user_name': 'Felicia Jones'}, page_content='User Felicia Jones ordered keyword (White) (Electronics) and Earrings (White) (Jewelry) and Table Clock (Orange) (Home Goods) and Toothbrush (Orange) (Personal Care) and Bracelet (Green) (Jewelry) on 2025-01-01 14:14:48'),\n",
       " Document(id='228ecdaa-eaa8-4ee0-a6e3-cb664f72f93f', metadata={'categories': ['Home Goods'], 'order_date': '2025-01-01 14:16:23', 'products': ['Pot (Orange)'], 'user_id': 481.0, 'user_name': 'Andrew Castillo DDS'}, page_content='User Andrew Castillo DDS ordered Pot (Orange) (Home Goods) on 2025-01-01 14:16:23'),\n",
       " Document(id='d2152d96-5382-4406-84a8-79842f1a2398', metadata={'categories': ['Home Goods', 'Personal Care', 'Home Goods', 'Clothing'], 'order_date': '2025-01-01 14:13:54', 'products': ['Food Processor (Brown)', 'Shampoo (Purple)', 'Lamp (Brown)', 'Patterned Shirt (Brown)'], 'user_id': 368.0, 'user_name': 'Katherine Manning'}, page_content='User Katherine Manning ordered Food Processor (Brown) (Home Goods) and Shampoo (Purple) (Personal Care) and Lamp (Brown) (Home Goods) and Patterned Shirt (Brown) (Clothing) on 2025-01-01 14:13:54'),\n",
       " Document(id='0ca70d39-4440-445c-beb8-7dc11e075b2c', metadata={'categories': ['Jewelry', 'Home Goods', 'Flower Type', 'Personal Care', 'Flower Type'], 'order_date': '2025-01-01 14:14:39', 'products': ['Bracelet (Green)', 'Carpet (Pink)', 'Begonia (Yellow)', 'Perfume (White)', 'Rose (Black)'], 'user_id': 426.0, 'user_name': 'Cynthia Andrade'}, page_content='User Cynthia Andrade ordered Bracelet (Green) (Jewelry) and Carpet (Pink) (Home Goods) and Begonia (Yellow) (Flower Type) and Perfume (White) (Personal Care) and Rose (Black) (Flower Type) on 2025-01-01 14:14:39'),\n",
       " Document(id='1fd7632d-5721-47a1-89b6-fafdacd4d45a', metadata={'categories': ['Flower Type', 'Personal Care', 'Electronics', 'Jewelry'], 'order_date': '2025-01-01 14:15:00', 'products': ['Ficus (Orange)', 'Shampoo (White)', 'Powerbank (Purple)', 'Earrings (Green)'], 'user_id': 469.0, 'user_name': 'Gail Mckinney'}, page_content='User Gail Mckinney ordered Ficus (Orange) (Flower Type) and Shampoo (White) (Personal Care) and Powerbank (Purple) (Electronics) and Earrings (Green) (Jewelry) on 2025-01-01 14:15:00'),\n",
       " Document(id='c1dbb275-675c-410f-b664-79638fa72075', metadata={'categories': ['Home Goods', 'Flower Type', 'Personal Care', 'Clothing'], 'order_date': '2025-01-01 14:13:31', 'products': ['Food Processor (Orange)', 'Tulip (White)', 'Perfume (Yellow)', 'Winter Coat (Green)'], 'user_id': 363.0, 'user_name': 'Michael Davies'}, page_content='User Michael Davies ordered Food Processor (Orange) (Home Goods) and Tulip (White) (Flower Type) and Perfume (Yellow) (Personal Care) and Winter Coat (Green) (Clothing) on 2025-01-01 14:13:31'),\n",
       " Document(id='8f584264-f645-4a34-a4d9-60bfc063b719', metadata={'categories': ['Electronics', 'Clothing', 'Clothing', 'Electronics'], 'order_date': '2025-01-01 14:09:34', 'products': ['keyword (Purple)', 'V-neck T-shirt (Yellow)', 'Plus Size Coat (Black)', 'Laptop (Blue)'], 'user_id': 386.0, 'user_name': 'Sylvia Chandler'}, page_content='User Sylvia Chandler ordered keyword (Purple) (Electronics) and V-neck T-shirt (Yellow) (Clothing) and Plus Size Coat (Black) (Clothing) and Laptop (Blue) (Electronics) on 2025-01-01 14:09:34'),\n",
       " Document(id='9da2945d-66cd-43c2-a351-e74b45d13e8b', metadata={'categories': ['Flower Type'], 'order_date': '2025-01-01 14:16:12', 'products': ['Tulip (White)'], 'user_id': 550.0, 'user_name': 'Joshua Espinoza'}, page_content='User Joshua Espinoza ordered Tulip (White) (Flower Type) on 2025-01-01 14:16:12'),\n",
       " Document(id='5adafd15-f577-45f6-aeef-dde726e6320b', metadata={'categories': ['Jewelry', 'Personal Care'], 'order_date': '2025-01-01 13:06:42', 'products': ['Earrings (Blue)', 'Toothbrush (Black)'], 'user_id': 452.0, 'user_name': 'Jorge Wright'}, page_content='User Jorge Wright ordered Earrings (Blue) (Jewelry) and Toothbrush (Black) (Personal Care) on 2025-01-01 13:06:42'),\n",
       " Document(id='f64ac4b6-0156-4dfd-a372-814e890eeb2d', metadata={'categories': ['Home Goods', 'Electronics', 'Home Goods', 'Flower Type'], 'order_date': '2025-01-01 14:14:36', 'products': ['Pot (Orange)', 'Bluetooth Headset (Yellow)', 'Table Clock (White)', 'Cactus (Pink)'], 'user_id': 521.0, 'user_name': 'John Mcdonald'}, page_content='User John Mcdonald ordered Pot (Orange) (Home Goods) and Bluetooth Headset (Yellow) (Electronics) and Table Clock (White) (Home Goods) and Cactus (Pink) (Flower Type) on 2025-01-01 14:14:36'),\n",
       " Document(id='7c0d1951-9994-4bc6-a1aa-2fa0b7b5e717', metadata={'categories': ['Electronics', 'Flower Type', 'Electronics'], 'order_date': '2025-01-01 14:16:44', 'products': ['Laptop (Orange)', 'Ficus (White)', 'Smartphone (Brown)'], 'user_id': 508.0, 'user_name': 'Marcus Vazquez'}, page_content='User Marcus Vazquez ordered Laptop (Orange) (Electronics) and Ficus (White) (Flower Type) and Smartphone (Brown) (Electronics) on 2025-01-01 14:16:44'),\n",
       " Document(id='3b503ce1-e51d-4c4e-bf78-48639b48a433', metadata={'categories': ['Clothing', 'Flower Type'], 'order_date': '2025-01-01 14:13:26', 'products': ['Wool Coat (Black)', 'Orchid (Yellow)'], 'user_id': 513.0, 'user_name': 'Mrs. Sabrina Delgado MD'}, page_content='User Mrs. Sabrina Delgado MD ordered Wool Coat (Black) (Clothing) and Orchid (Yellow) (Flower Type) on 2025-01-01 14:13:26'),\n",
       " Document(id='a23216be-61f9-4b21-97c8-a259c53d9f47', metadata={'categories': ['Electronics', 'Flower Type'], 'order_date': '2025-01-01 14:13:04', 'products': ['Laptop (Blue)', 'Tulip (White)'], 'user_id': 489.0, 'user_name': 'Patrick Sellers'}, page_content='User Patrick Sellers ordered Laptop (Blue) (Electronics) and Tulip (White) (Flower Type) on 2025-01-01 14:13:04'),\n",
       " Document(id='7d6c4a8c-dcae-42ee-94ca-209cbcbfaa09', metadata={'categories': ['Home Goods', 'Electronics'], 'order_date': '2025-01-01 14:14:51', 'products': ['Carpet (Orange)', 'Powerbank (Pink)'], 'user_id': 443.0, 'user_name': 'Shane Walker'}, page_content='User Shane Walker ordered Carpet (Orange) (Home Goods) and Powerbank (Pink) (Electronics) on 2025-01-01 14:14:51'),\n",
       " Document(id='365b51c0-9037-4a31-8626-d8bc7dff773e', metadata={'categories': ['Flower Type', 'Electronics', 'Home Goods', 'Electronics'], 'order_date': '2025-01-01 14:10:32', 'products': ['Begonia (Pink)', 'keyword (Brown)', 'Lamp (Black)', 'Smartwatch (Pink)'], 'user_id': 394.0, 'user_name': 'Russell Potts'}, page_content='User Russell Potts ordered Begonia (Pink) (Flower Type) and keyword (Brown) (Electronics) and Lamp (Black) (Home Goods) and Smartwatch (Pink) (Electronics) on 2025-01-01 14:10:32'),\n",
       " Document(id='47b833f7-ccdf-4331-9d51-78d14ef92198', metadata={'categories': ['Personal Care', 'Jewelry', 'Electronics'], 'order_date': '2025-01-01 14:16:37', 'products': ['Perfume (Purple)', 'Ring (Orange)', 'mouse (Black)'], 'user_id': 483.0, 'user_name': 'Leslie Huber'}, page_content='User Leslie Huber ordered Perfume (Purple) (Personal Care) and Ring (Orange) (Jewelry) and mouse (Black) (Electronics) on 2025-01-01 14:16:37'),\n",
       " Document(id='981c144c-bf9a-4a8d-b2cd-26024e043225', metadata={'categories': ['Flower Type', 'Electronics'], 'order_date': '2025-01-01 14:15:31', 'products': ['Tulip (Green)', 'Powerbank (Orange)'], 'user_id': 526.0, 'user_name': 'Teresa Reese'}, page_content='User Teresa Reese ordered Tulip (Green) (Flower Type) and Powerbank (Orange) (Electronics) on 2025-01-01 14:15:31'),\n",
       " Document(id='1275fb19-b1e4-4265-b27b-673968b8a622', metadata={'categories': ['Home Goods', 'Personal Care', 'Jewelry'], 'order_date': '2024-12-30 10:24:25', 'products': ['Pot (White)', 'Toothbrush (Brown)', 'Necklace (Orange)'], 'user_id': 453.0, 'user_name': 'Carl Smith'}, page_content='User Carl Smith ordered Pot (White) (Home Goods) and Toothbrush (Brown) (Personal Care) and Necklace (Orange) (Jewelry) on 2024-12-30 10:24:25'),\n",
       " Document(id='3a74ab73-7543-468d-95b4-974af612f570', metadata={'categories': ['Flower Type', 'Electronics'], 'order_date': '2025-01-01 14:14:24', 'products': ['Rose (Purple)', 'Bluetooth Headset (White)'], 'user_id': 499.0, 'user_name': 'Tina Green'}, page_content='User Tina Green ordered Rose (Purple) (Flower Type) and Bluetooth Headset (White) (Electronics) on 2025-01-01 14:14:24'),\n",
       " Document(id='0f774f53-44c5-47ad-a755-ab4726282f6f', metadata={'categories': ['Clothing', 'Flower Type', 'Flower Type'], 'order_date': '2025-01-01 14:14:32', 'products': ['Straight Jeans (White)', 'Daisy (Red)', 'Orchid (Pink)'], 'user_id': 507.0, 'user_name': 'Calvin Harrell'}, page_content='User Calvin Harrell ordered Straight Jeans (White) (Clothing) and Daisy (Red) (Flower Type) and Orchid (Pink) (Flower Type) on 2025-01-01 14:14:32'),\n",
       " Document(id='d2bcff40-8880-4103-a5ba-9d2311fb9f92', metadata={'categories': ['Clothing', 'Flower Type'], 'order_date': '2025-01-01 14:16:27', 'products': ['Shirt (Purple)', 'Orchid (Brown)'], 'user_id': 439.0, 'user_name': 'Elizabeth Murphy'}, page_content='User Elizabeth Murphy ordered Shirt (Purple) (Clothing) and Orchid (Brown) (Flower Type) on 2025-01-01 14:16:27'),\n",
       " Document(id='ee80d500-22cc-4a26-a74e-47ebceb14601', metadata={'categories': ['Home Goods', 'Jewelry', 'Jewelry'], 'order_date': '2025-01-01 14:12:33', 'products': ['Lamp (Red)', 'Earrings (Purple)', 'Earrings (Blue)'], 'user_id': 444.0, 'user_name': 'Tiffany Chen'}, page_content='User Tiffany Chen ordered Lamp (Red) (Home Goods) and Earrings (Purple) (Jewelry) and Earrings (Blue) (Jewelry) on 2025-01-01 14:12:33'),\n",
       " Document(id='11514c3b-d2b0-4916-8d81-92ec23717d61', metadata={'categories': ['Jewelry', 'Personal Care', 'Personal Care', 'Electronics', 'Flower Type'], 'order_date': '2025-01-01 14:13:45', 'products': ['Bracelet (Black)', 'Toothbrush (Pink)', 'Perfume (Purple)', 'Laptop (Red)', 'Rose (Blue)'], 'user_id': 465.0, 'user_name': 'Michael Myers'}, page_content='User Michael Myers ordered Bracelet (Black) (Jewelry) and Toothbrush (Pink) (Personal Care) and Perfume (Purple) (Personal Care) and Laptop (Red) (Electronics) and Rose (Blue) (Flower Type) on 2025-01-01 14:13:45'),\n",
       " Document(id='f7f30b23-0e6b-449c-90bb-815d1d3fc10a', metadata={'categories': ['Home Goods', 'Personal Care', 'Flower Type'], 'order_date': '2024-12-30 10:24:46', 'products': ['Table Clock (Black)', 'Perfume (Yellow)', 'Succulent (Brown)'], 'user_id': 459.0, 'user_name': 'Daniel Taylor'}, page_content='User Daniel Taylor ordered Table Clock (Black) (Home Goods) and Perfume (Yellow) (Personal Care) and Succulent (Brown) (Flower Type) on 2024-12-30 10:24:46'),\n",
       " Document(id='fad297fd-e32b-4ed4-9709-396f1b160918', metadata={'categories': ['Flower Type', 'Clothing', 'Electronics'], 'order_date': '2025-01-01 14:10:37', 'products': ['Orchid (Brown)', 'T-shirt (Orange)', 'Laptop (Brown)'], 'user_id': 347.0, 'user_name': 'John Rodriguez'}, page_content='User John Rodriguez ordered Orchid (Brown) (Flower Type) and T-shirt (Orange) (Clothing) and Laptop (Brown) (Electronics) on 2025-01-01 14:10:37'),\n",
       " Document(id='1bf7c049-87b0-4d5d-be4e-8df5c13b861d', metadata={'categories': ['Electronics', 'Home Goods'], 'order_date': '2025-01-01 14:12:56', 'products': ['Smartphone (Blue)', 'Food Processor (Purple)'], 'user_id': 398.0, 'user_name': 'Mr. Joseph Taylor'}, page_content='User Mr. Joseph Taylor ordered Smartphone (Blue) (Electronics) and Food Processor (Purple) (Home Goods) on 2025-01-01 14:12:56'),\n",
       " Document(id='2f9f595d-40e1-424b-97ad-07b189e3449f', metadata={'categories': ['Flower Type'], 'order_date': '2025-01-01 14:12:20', 'products': ['Begonia (Blue)'], 'user_id': 490.0, 'user_name': 'Rachel Raymond'}, page_content='User Rachel Raymond ordered Begonia (Blue) (Flower Type) on 2025-01-01 14:12:20'),\n",
       " Document(id='efc5746c-c857-4d93-9e72-45cc2785b6a1', metadata={'categories': ['Electronics', 'Jewelry', 'Personal Care', 'Jewelry', 'Electronics'], 'order_date': '2024-12-30 10:23:48', 'products': ['Powerbank (Pink)', 'Necklace (Brown)', 'Toothbrush (Green)', 'Earrings (Yellow)', 'Smartphone (Green)'], 'user_id': 353.0, 'user_name': 'Matthew Stuart'}, page_content='User Matthew Stuart ordered Powerbank (Pink) (Electronics) and Necklace (Brown) (Jewelry) and Toothbrush (Green) (Personal Care) and Earrings (Yellow) (Jewelry) and Smartphone (Green) (Electronics) on 2024-12-30 10:23:48'),\n",
       " Document(id='59e186eb-398e-4553-b1c3-d989b3322569', metadata={'categories': ['Jewelry', 'Jewelry', 'Flower Type', 'Flower Type', 'Personal Care'], 'order_date': '2024-12-30 10:23:55', 'products': ['Earrings (Yellow)', 'Ring (Purple)', 'Daisy (Red)', 'Cactus (Black)', 'Shampoo (White)'], 'user_id': 358.0, 'user_name': 'Diana Harmon'}, page_content='User Diana Harmon ordered Earrings (Yellow) (Jewelry) and Ring (Purple) (Jewelry) and Daisy (Red) (Flower Type) and Cactus (Black) (Flower Type) and Shampoo (White) (Personal Care) on 2024-12-30 10:23:55'),\n",
       " Document(id='16055c68-082c-4601-ae33-35540b2525a3', metadata={'categories': ['Home Goods', 'Jewelry', 'Flower Type', 'Personal Care'], 'order_date': '2024-12-30 10:23:45', 'products': ['Pitcher (Purple)', 'Bracelet (Red)', 'Begonia (Pink)', 'Toothbrush (Black)'], 'user_id': 383.0, 'user_name': 'Catherine King'}, page_content='User Catherine King ordered Pitcher (Purple) (Home Goods) and Bracelet (Red) (Jewelry) and Begonia (Pink) (Flower Type) and Toothbrush (Black) (Personal Care) on 2024-12-30 10:23:45'),\n",
       " Document(id='bc3e9004-8ea1-4af9-9500-2bdf170be418', metadata={'categories': ['Electronics', 'Personal Care', 'Jewelry'], 'order_date': '2025-01-01 14:15:35', 'products': ['Bluetooth Headset (Green)', 'Perfume (White)', 'Ring (Red)'], 'user_id': 510.0, 'user_name': 'Angela Guzman'}, page_content='User Angela Guzman ordered Bluetooth Headset (Green) (Electronics) and Perfume (White) (Personal Care) and Ring (Red) (Jewelry) on 2025-01-01 14:15:35'),\n",
       " Document(id='9db806a4-035d-479e-9a49-1b1a926365ae', metadata={'categories': ['Electronics', 'Electronics'], 'order_date': '2025-01-01 13:06:39', 'products': ['Powerbank (Purple)', 'Smartphone (Red)'], 'user_id': 349.0, 'user_name': 'Marcus Williams'}, page_content='User Marcus Williams ordered Powerbank (Purple) (Electronics) and Smartphone (Red) (Electronics) on 2025-01-01 13:06:39'),\n",
       " Document(id='29cbc988-3846-4ece-82f7-a03d922214f2', metadata={'categories': ['Clothing', 'Home Goods', 'Home Goods'], 'order_date': '2025-01-01 14:15:38', 'products': ['Wool Coat (Yellow)', 'Carpet (Purple)', 'Lamp (Black)'], 'user_id': 522.0, 'user_name': 'Christine James'}, page_content='User Christine James ordered Wool Coat (Yellow) (Clothing) and Carpet (Purple) (Home Goods) and Lamp (Black) (Home Goods) on 2025-01-01 14:15:38'),\n",
       " Document(id='1eba1520-5e2f-4842-b717-c30df8138972', metadata={'categories': ['Flower Type', 'Personal Care', 'Flower Type', 'Home Goods', 'Clothing'], 'order_date': '2025-01-01 14:15:26', 'products': ['Cactus (Orange)', 'Perfume (White)', 'Begonia (Yellow)', 'Pot (Green)', 'Women Blazer (White)'], 'user_id': 460.0, 'user_name': 'Kevin Bird'}, page_content='User Kevin Bird ordered Cactus (Orange) (Flower Type) and Perfume (White) (Personal Care) and Begonia (Yellow) (Flower Type) and Pot (Green) (Home Goods) and Women Blazer (White) (Clothing) on 2025-01-01 14:15:26'),\n",
       " Document(id='b7513e2b-c558-4ca0-81e4-ade5eb3776c4', metadata={'categories': ['Jewelry', 'Home Goods', 'Clothing', 'Personal Care'], 'order_date': '2024-12-30 10:24:03', 'products': ['Ring (Blue)', 'Table Clock (Black)', 'Straight Jeans (Purple)', 'Shampoo (Blue)'], 'user_id': 438.0, 'user_name': 'Jeremy Taylor'}, page_content='User Jeremy Taylor ordered Ring (Blue) (Jewelry) and Table Clock (Black) (Home Goods) and Straight Jeans (Purple) (Clothing) and Shampoo (Blue) (Personal Care) on 2024-12-30 10:24:03'),\n",
       " Document(id='998c41f0-314d-4b25-b6ab-9976f686da79', metadata={'categories': ['Jewelry', 'Electronics', 'Personal Care', 'Home Goods'], 'order_date': '2025-01-01 14:13:36', 'products': ['Earrings (Purple)', 'keyword (Pink)', 'Shampoo (Yellow)', 'Knife Set (Orange)'], 'user_id': 460.0, 'user_name': 'Kevin Bird'}, page_content='User Kevin Bird ordered Earrings (Purple) (Jewelry) and keyword (Pink) (Electronics) and Shampoo (Yellow) (Personal Care) and Knife Set (Orange) (Home Goods) on 2025-01-01 14:13:36'),\n",
       " Document(id='8a2237c7-03fe-48fa-be88-9fb9b9dadf8f', metadata={'categories': ['Home Goods'], 'order_date': '2025-01-01 14:16:07', 'products': ['Lamp (Red)'], 'user_id': 472.0, 'user_name': 'Alexandria Mcdonald'}, page_content='User Alexandria Mcdonald ordered Lamp (Red) (Home Goods) on 2025-01-01 14:16:07'),\n",
       " Document(id='e09224a1-ce43-4432-be72-3d3812e193ec', metadata={'categories': ['Electronics', 'Home Goods'], 'order_date': '2025-01-01 14:11:10', 'products': ['mouse (Black)', 'Curtain (White)'], 'user_id': 359.0, 'user_name': 'Henry Rivera'}, page_content='User Henry Rivera ordered mouse (Black) (Electronics) and Curtain (White) (Home Goods) on 2025-01-01 14:11:10'),\n",
       " Document(id='cd680f12-3a86-47cb-b8af-df2ac9d12b10', metadata={'categories': ['Flower Type', 'Jewelry'], 'order_date': '2025-01-01 14:14:09', 'products': ['Orchid (Black)', 'Earrings (White)'], 'user_id': 513.0, 'user_name': 'Mrs. Sabrina Delgado MD'}, page_content='User Mrs. Sabrina Delgado MD ordered Orchid (Black) (Flower Type) and Earrings (White) (Jewelry) on 2025-01-01 14:14:09'),\n",
       " Document(id='5d15da0b-5494-4920-9d96-31b3d49f369f', metadata={'categories': ['Clothing', 'Personal Care', 'Electronics'], 'order_date': '2025-01-01 14:16:41', 'products': ['Jeans (Pink)', 'Perfume (Purple)', 'Smartphone (Blue)'], 'user_id': 422.0, 'user_name': 'Allison Roberts'}, page_content='User Allison Roberts ordered Jeans (Pink) (Clothing) and Perfume (Purple) (Personal Care) and Smartphone (Blue) (Electronics) on 2025-01-01 14:16:41'),\n",
       " Document(id='8640bcfd-2fab-4d9c-93f7-1de72a8ef010', metadata={'categories': ['Clothing', 'Home Goods'], 'order_date': '2025-01-01 14:12:42', 'products': ['Plus Size Coat (Brown)', 'Curtain (Yellow)'], 'user_id': 350.0, 'user_name': 'Cheryl Fuller'}, page_content='User Cheryl Fuller ordered Plus Size Coat (Brown) (Clothing) and Curtain (Yellow) (Home Goods) on 2025-01-01 14:12:42'),\n",
       " Document(id='01e11017-2050-442a-9535-ec247467df47', metadata={'categories': ['Electronics', 'Home Goods', 'Jewelry'], 'order_date': '2024-12-30 10:23:58', 'products': ['Smartphone (Purple)', 'Pitcher (Purple)', 'Necklace (Blue)'], 'user_id': 377.0, 'user_name': 'Thomas Cooper'}, page_content='User Thomas Cooper ordered Smartphone (Purple) (Electronics) and Pitcher (Purple) (Home Goods) and Necklace (Blue) (Jewelry) on 2024-12-30 10:23:58'),\n",
       " Document(id='f2df82ee-6596-4f08-a44c-355d75c7e478', metadata={'categories': ['Home Goods', 'Flower Type', 'Clothing', 'Jewelry', 'Home Goods'], 'order_date': '2024-12-30 10:24:54', 'products': ['Carpet (Orange)', 'Cactus (Purple)', 'Wool Coat (Black)', 'Earrings (Red)', 'Carpet (Blue)'], 'user_id': 350.0, 'user_name': 'Cheryl Fuller'}, page_content='User Cheryl Fuller ordered Carpet (Orange) (Home Goods) and Cactus (Purple) (Flower Type) and Wool Coat (Black) (Clothing) and Earrings (Red) (Jewelry) and Carpet (Blue) (Home Goods) on 2024-12-30 10:24:54'),\n",
       " Document(id='cde1f099-1c79-4b61-8870-572129b9da8d', metadata={'categories': ['Home Goods', 'Jewelry'], 'order_date': '2025-01-01 14:14:01', 'products': ['Carpet (Pink)', 'Ring (Blue)'], 'user_id': 385.0, 'user_name': 'John Perry'}, page_content='User John Perry ordered Carpet (Pink) (Home Goods) and Ring (Blue) (Jewelry) on 2025-01-01 14:14:01'),\n",
       " Document(id='6488ccb2-cc29-4d3f-8ea2-464b7e10e5ec', metadata={'categories': ['Personal Care', 'Electronics', 'Jewelry'], 'order_date': '2025-01-01 14:12:48', 'products': ['Toothbrush (Green)', 'mouse (Orange)', 'Ring (Blue)'], 'user_id': 369.0, 'user_name': 'Brianna Hartman'}, page_content='User Brianna Hartman ordered Toothbrush (Green) (Personal Care) and mouse (Orange) (Electronics) and Ring (Blue) (Jewelry) on 2025-01-01 14:12:48'),\n",
       " Document(id='0bcab48f-7a18-4fa3-9e6b-b7b29b4c2a5b', metadata={'categories': ['Flower Type'], 'order_date': '2025-01-01 13:06:55', 'products': ['Begonia (Brown)'], 'user_id': 448.0, 'user_name': 'Jorge Boone'}, page_content='User Jorge Boone ordered Begonia (Brown) (Flower Type) on 2025-01-01 13:06:55'),\n",
       " Document(id='bd0611f7-1894-457e-8760-3ffcbbad460a', metadata={'categories': ['Home Goods', 'Jewelry'], 'order_date': '2025-01-01 14:16:52', 'products': ['Pot (Orange)', 'Bracelet (Red)'], 'user_id': 469.0, 'user_name': 'Gail Mckinney'}, page_content='User Gail Mckinney ordered Pot (Orange) (Home Goods) and Bracelet (Red) (Jewelry) on 2025-01-01 14:16:52'),\n",
       " Document(id='efbc5214-dfbf-49de-96cd-7c86e6975eda', metadata={'categories': ['Home Goods', 'Electronics'], 'order_date': '2025-01-01 14:14:21', 'products': ['Food Processor (Brown)', 'Laptop (Yellow)'], 'user_id': 495.0, 'user_name': 'Felicia Jones'}, page_content='User Felicia Jones ordered Food Processor (Brown) (Home Goods) and Laptop (Yellow) (Electronics) on 2025-01-01 14:14:21'),\n",
       " Document(id='49050f6d-f618-4582-9036-08b5ebed3b38', metadata={'categories': ['Clothing', 'Personal Care', 'Jewelry', 'Jewelry'], 'order_date': '2025-01-01 14:11:31', 'products': ['Wool Sweater (Black)', 'Body Lotion (White)', 'Necklace (Purple)', 'Necklace (White)'], 'user_id': 472.0, 'user_name': 'Alexandria Mcdonald'}, page_content='User Alexandria Mcdonald ordered Wool Sweater (Black) (Clothing) and Body Lotion (White) (Personal Care) and Necklace (Purple) (Jewelry) and Necklace (White) (Jewelry) on 2025-01-01 14:11:31'),\n",
       " Document(id='3e3faf0b-c2c7-4c03-9603-d99511559adf', metadata={'categories': ['Jewelry', 'Personal Care'], 'order_date': '2025-01-01 14:09:53', 'products': ['Ring (Purple)', 'Perfume (White)'], 'user_id': 423.0, 'user_name': 'Lisa Smith'}, page_content='User Lisa Smith ordered Ring (Purple) (Jewelry) and Perfume (White) (Personal Care) on 2025-01-01 14:09:53'),\n",
       " Document(id='b8f37685-25a0-4ac7-bacb-a3f68ccfc276', metadata={'categories': ['Flower Type', 'Home Goods', 'Personal Care', 'Flower Type'], 'order_date': '2025-01-01 14:14:14', 'products': ['Daisy (Orange)', 'Food Processor (Orange)', 'Perfume (Blue)', 'Rose (Blue)'], 'user_id': 396.0, 'user_name': 'Gina Cook DVM'}, page_content='User Gina Cook DVM ordered Daisy (Orange) (Flower Type) and Food Processor (Orange) (Home Goods) and Perfume (Blue) (Personal Care) and Rose (Blue) (Flower Type) on 2025-01-01 14:14:14'),\n",
       " Document(id='01a7b7c8-02a7-4f1f-9115-b5cde144760b', metadata={'categories': ['Electronics', 'Personal Care', 'Jewelry'], 'order_date': '2025-01-01 14:10:50', 'products': ['mouse (White)', 'Perfume (Purple)', 'Ring (Green)'], 'user_id': 481.0, 'user_name': 'Andrew Castillo DDS'}, page_content='User Andrew Castillo DDS ordered mouse (White) (Electronics) and Perfume (Purple) (Personal Care) and Ring (Green) (Jewelry) on 2025-01-01 14:10:50'),\n",
       " Document(id='9cd3ef6c-a166-46b6-9384-310fd96c1ddd', metadata={'categories': ['Home Goods', 'Jewelry', 'Home Goods', 'Clothing', 'Clothing'], 'order_date': '2025-01-01 14:14:17', 'products': ['Pitcher (Purple)', 'Necklace (Yellow)', 'Pot (Purple)', 'Mom Jeans (Brown)', 'Short Sleeve Shirt (Purple)'], 'user_id': 466.0, 'user_name': 'Diana Nunez'}, page_content='User Diana Nunez ordered Pitcher (Purple) (Home Goods) and Necklace (Yellow) (Jewelry) and Pot (Purple) (Home Goods) and Mom Jeans (Brown) (Clothing) and Short Sleeve Shirt (Purple) (Clothing) on 2025-01-01 14:14:17'),\n",
       " Document(id='93cd7556-6e93-488b-a850-21afe83d389e', metadata={'categories': ['Home Goods', 'Clothing'], 'order_date': '2025-01-01 13:06:28', 'products': ['Lamp (Brown)', 'Wool Coat (Pink)'], 'user_id': 439.0, 'user_name': 'Elizabeth Murphy'}, page_content='User Elizabeth Murphy ordered Lamp (Brown) (Home Goods) and Wool Coat (Pink) (Clothing) on 2025-01-01 13:06:28'),\n",
       " Document(id='133d28ee-0d53-4247-9219-1128877fafa3', metadata={'categories': ['Clothing', 'Flower Type'], 'order_date': '2025-01-01 14:10:10', 'products': ['Plus Size Coat (Red)', 'Orchid (Brown)'], 'user_id': 459.0, 'user_name': 'Daniel Taylor'}, page_content='User Daniel Taylor ordered Plus Size Coat (Red) (Clothing) and Orchid (Brown) (Flower Type) on 2025-01-01 14:10:10'),\n",
       " Document(id='e34fac7d-4974-450a-bcd3-3d3ccf93f00e', metadata={'categories': ['Clothing', 'Flower Type', 'Home Goods'], 'order_date': '2025-01-01 14:10:45', 'products': ['Wool Sweater (White)', 'Succulent (Yellow)', 'Food Processor (Brown)'], 'user_id': 387.0, 'user_name': 'Jeffery Johnson'}, page_content='User Jeffery Johnson ordered Wool Sweater (White) (Clothing) and Succulent (Yellow) (Flower Type) and Food Processor (Brown) (Home Goods) on 2025-01-01 14:10:45'),\n",
       " Document(id='dfb1b495-4881-4a9a-8ac9-af5f7d6169aa', metadata={'categories': ['Clothing', 'Electronics', 'Electronics', 'Jewelry'], 'order_date': '2025-01-01 14:11:02', 'products': ['Wool Coat (Yellow)', 'Bluetooth Headset (Red)', 'Bluetooth Headset (Purple)', 'Necklace (Green)'], 'user_id': 355.0, 'user_name': 'William Velasquez'}, page_content='User William Velasquez ordered Wool Coat (Yellow) (Clothing) and Bluetooth Headset (Red) (Electronics) and Bluetooth Headset (Purple) (Electronics) and Necklace (Green) (Jewelry) on 2025-01-01 14:11:02'),\n",
       " Document(id='9f3e109d-32b1-4445-ab70-9c9483eff8aa', metadata={'categories': ['Electronics', 'Home Goods', 'Flower Type', 'Home Goods'], 'order_date': '2025-01-01 14:11:17', 'products': ['Bluetooth Headset (Pink)', 'Pitcher (Purple)', 'Rose (Black)', 'Pot (Pink)'], 'user_id': 477.0, 'user_name': 'Stacy Ortiz'}, page_content='User Stacy Ortiz ordered Bluetooth Headset (Pink) (Electronics) and Pitcher (Purple) (Home Goods) and Rose (Black) (Flower Type) and Pot (Pink) (Home Goods) on 2025-01-01 14:11:17'),\n",
       " Document(id='bf328b95-56ba-48a5-b6e3-14966cb241ef', metadata={'categories': ['Jewelry', 'Clothing', 'Home Goods', 'Electronics', 'Clothing'], 'order_date': '2025-01-01 14:13:01', 'products': ['Bracelet (Black)', 'Waterproof Coat (Orange)', 'Food Processor (Purple)', 'Smartwatch (Blue)', 'Plus Size Coat (Brown)'], 'user_id': 449.0, 'user_name': 'Patricia Dudley'}, page_content='User Patricia Dudley ordered Bracelet (Black) (Jewelry) and Waterproof Coat (Orange) (Clothing) and Food Processor (Purple) (Home Goods) and Smartwatch (Blue) (Electronics) and Plus Size Coat (Brown) (Clothing) on 2025-01-01 14:13:01'),\n",
       " Document(id='e0c7bfaf-e951-4d48-8d38-0693716c1468', metadata={'categories': ['Home Goods', 'Jewelry', 'Electronics', 'Flower Type'], 'order_date': '2025-01-01 14:14:06', 'products': ['Knife Set (Green)', 'Necklace (Orange)', 'Powerbank (Yellow)', 'Orchid (White)'], 'user_id': 447.0, 'user_name': 'Carrie Williams'}, page_content='User Carrie Williams ordered Knife Set (Green) (Home Goods) and Necklace (Orange) (Jewelry) and Powerbank (Yellow) (Electronics) and Orchid (White) (Flower Type) on 2025-01-01 14:14:06'),\n",
       " Document(id='791d9e28-2fb2-4575-acbf-bd5201e46f9f', metadata={'categories': ['Home Goods', 'Electronics', 'Home Goods'], 'order_date': '2025-01-01 14:10:28', 'products': ['Table Clock (White)', 'Smartphone (Red)', 'Pitcher (Brown)'], 'user_id': 387.0, 'user_name': 'Jeffery Johnson'}, page_content='User Jeffery Johnson ordered Table Clock (White) (Home Goods) and Smartphone (Red) (Electronics) and Pitcher (Brown) (Home Goods) on 2025-01-01 14:10:28'),\n",
       " Document(id='b7af9869-2866-4c22-96ba-5c12c51d00c5', metadata={'categories': ['Jewelry', 'Personal Care', 'Home Goods', 'Home Goods', 'Home Goods'], 'order_date': '2025-01-01 14:15:59', 'products': ['Ring (Orange)', 'Body Lotion (White)', 'Knife Set (Red)', 'Table Clock (White)', 'Food Processor (White)'], 'user_id': 451.0, 'user_name': 'Lindsey Mcgee'}, page_content='User Lindsey Mcgee ordered Ring (Orange) (Jewelry) and Body Lotion (White) (Personal Care) and Knife Set (Red) (Home Goods) and Table Clock (White) (Home Goods) and Food Processor (White) (Home Goods) on 2025-01-01 14:15:59'),\n",
       " Document(id='59b99d99-ad7f-4db5-becb-b1a0048f5227', metadata={'categories': ['Electronics', 'Electronics', 'Electronics', 'Home Goods', 'Clothing'], 'order_date': '2025-01-01 14:14:55', 'products': ['mouse (Pink)', 'Powerbank (Orange)', 'Smartwatch (Blue)', 'Knife Set (Orange)', 'V-neck T-shirt (Brown)'], 'user_id': 433.0, 'user_name': 'Kathleen Miller'}, page_content='User Kathleen Miller ordered mouse (Pink) (Electronics) and Powerbank (Orange) (Electronics) and Smartwatch (Blue) (Electronics) and Knife Set (Orange) (Home Goods) and V-neck T-shirt (Brown) (Clothing) on 2025-01-01 14:14:55'),\n",
       " Document(id='c99924e6-979f-40a7-9a00-07d7005782f8', metadata={'categories': ['Jewelry'], 'order_date': '2024-12-30 10:24:57', 'products': ['Necklace (Yellow)'], 'user_id': 445.0, 'user_name': 'Kylie Hughes'}, page_content='User Kylie Hughes ordered Necklace (Yellow) (Jewelry) on 2024-12-30 10:24:57'),\n",
       " Document(id='e6e9e94b-9c58-4a54-bd40-3915879c9a52', metadata={'categories': ['Home Goods', 'Home Goods', 'Clothing'], 'order_date': '2024-12-30 10:24:15', 'products': ['Food Processor (Yellow)', 'Knife Set (Green)', 'Wool Coat (Black)'], 'user_id': 440.0, 'user_name': 'April Brown'}, page_content='User April Brown ordered Food Processor (Yellow) (Home Goods) and Knife Set (Green) (Home Goods) and Wool Coat (Black) (Clothing) on 2024-12-30 10:24:15'),\n",
       " Document(id='b3578991-f9dd-4e5d-a4e7-b33ab5b1d567', metadata={'categories': ['Home Goods', 'Electronics'], 'order_date': '2025-01-01 14:12:02', 'products': ['Table Clock (Orange)', 'Smartphone (Blue)'], 'user_id': 431.0, 'user_name': 'Derek Holt'}, page_content='User Derek Holt ordered Table Clock (Orange) (Home Goods) and Smartphone (Blue) (Electronics) on 2025-01-01 14:12:02'),\n",
       " Document(id='e4953100-c17b-41e1-ba95-0cb66de47485', metadata={'categories': ['Electronics', 'Jewelry', 'Clothing', 'Home Goods'], 'order_date': '2025-01-01 14:12:29', 'products': ['mouse (Pink)', 'Ring (Red)', 'Patterned Shirt (Pink)', 'Pot (Blue)'], 'user_id': 481.0, 'user_name': 'Andrew Castillo DDS'}, page_content='User Andrew Castillo DDS ordered mouse (Pink) (Electronics) and Ring (Red) (Jewelry) and Patterned Shirt (Pink) (Clothing) and Pot (Blue) (Home Goods) on 2025-01-01 14:12:29'),\n",
       " Document(id='73da495a-8692-4e0a-a6c1-0c61c17a90fa', metadata={'categories': ['Flower Type', 'Jewelry', 'Electronics', 'Electronics'], 'order_date': '2024-12-30 10:24:06', 'products': ['Rose (Green)', 'Necklace (White)', 'Bluetooth Headset (Red)', 'Smartwatch (Green)'], 'user_id': 364.0, 'user_name': 'Dr. Jeffrey Warner'}, page_content='User Dr. Jeffrey Warner ordered Rose (Green) (Flower Type) and Necklace (White) (Jewelry) and Bluetooth Headset (Red) (Electronics) and Smartwatch (Green) (Electronics) on 2024-12-30 10:24:06'),\n",
       " Document(id='9774c510-43c9-4c9c-a529-fa055576aa56', metadata={'categories': ['Jewelry', 'Clothing', 'Flower Type', 'Personal Care'], 'order_date': '2025-01-01 14:13:18', 'products': ['Ring (Red)', 'Wool Coat (Yellow)', 'Daisy (Brown)', 'Perfume (White)'], 'user_id': 474.0, 'user_name': 'Sean Lee'}, page_content='User Sean Lee ordered Ring (Red) (Jewelry) and Wool Coat (Yellow) (Clothing) and Daisy (Brown) (Flower Type) and Perfume (White) (Personal Care) on 2025-01-01 14:13:18')]"
      ]
     },
     "execution_count": 41,
     "metadata": {},
     "output_type": "execute_result"
    }
   ],
   "source": [
    "retriever.get_relevant_documents(query)"
   ]
  },
  {
   "cell_type": "code",
   "execution_count": 35,
   "metadata": {},
   "outputs": [
    {
     "data": {
      "text/plain": [
       "[Document(id='67b17925-57de-4c8d-8ff3-49462b385a3a', metadata={'categories': ['Electronics'], 'order_date': '2025-01-01 14:11:59', 'products': ['Smartphone (Yellow)'], 'user_id': 350.0, 'user_name': 'Cheryl Fuller'}, page_content='User Cheryl Fuller ordered Smartphone (Yellow) (Electronics) on 2025-01-01 14:11:59'),\n",
       " Document(id='9db806a4-035d-479e-9a49-1b1a926365ae', metadata={'categories': ['Electronics', 'Electronics'], 'order_date': '2025-01-01 13:06:39', 'products': ['Powerbank (Purple)', 'Smartphone (Red)'], 'user_id': 349.0, 'user_name': 'Marcus Williams'}, page_content='User Marcus Williams ordered Powerbank (Purple) (Electronics) and Smartphone (Red) (Electronics) on 2025-01-01 13:06:39'),\n",
       " Document(id='1bf7c049-87b0-4d5d-be4e-8df5c13b861d', metadata={'categories': ['Electronics', 'Home Goods'], 'order_date': '2025-01-01 14:12:56', 'products': ['Smartphone (Blue)', 'Food Processor (Purple)'], 'user_id': 398.0, 'user_name': 'Mr. Joseph Taylor'}, page_content='User Mr. Joseph Taylor ordered Smartphone (Blue) (Electronics) and Food Processor (Purple) (Home Goods) on 2025-01-01 14:12:56'),\n",
       " Document(id='b3578991-f9dd-4e5d-a4e7-b33ab5b1d567', metadata={'categories': ['Home Goods', 'Electronics'], 'order_date': '2025-01-01 14:12:02', 'products': ['Table Clock (Orange)', 'Smartphone (Blue)'], 'user_id': 431.0, 'user_name': 'Derek Holt'}, page_content='User Derek Holt ordered Table Clock (Orange) (Home Goods) and Smartphone (Blue) (Electronics) on 2025-01-01 14:12:02'),\n",
       " Document(id='01e11017-2050-442a-9535-ec247467df47', metadata={'categories': ['Electronics', 'Home Goods', 'Jewelry'], 'order_date': '2024-12-30 10:23:58', 'products': ['Smartphone (Purple)', 'Pitcher (Purple)', 'Necklace (Blue)'], 'user_id': 377.0, 'user_name': 'Thomas Cooper'}, page_content='User Thomas Cooper ordered Smartphone (Purple) (Electronics) and Pitcher (Purple) (Home Goods) and Necklace (Blue) (Jewelry) on 2024-12-30 10:23:58'),\n",
       " Document(id='f369ea5f-5170-4f7b-8ca3-3357ad6aab11', metadata={'categories': ['Electronics', 'Personal Care'], 'order_date': '2025-01-01 14:16:02', 'products': ['Bluetooth Headset (White)', 'Toothbrush (Purple)'], 'user_id': 358.0, 'user_name': 'Diana Harmon'}, page_content='User Diana Harmon ordered Bluetooth Headset (White) (Electronics) and Toothbrush (Purple) (Personal Care) on 2025-01-01 14:16:02'),\n",
       " Document(id='7c0d1951-9994-4bc6-a1aa-2fa0b7b5e717', metadata={'categories': ['Electronics', 'Flower Type', 'Electronics'], 'order_date': '2025-01-01 14:16:44', 'products': ['Laptop (Orange)', 'Ficus (White)', 'Smartphone (Brown)'], 'user_id': 508.0, 'user_name': 'Marcus Vazquez'}, page_content='User Marcus Vazquez ordered Laptop (Orange) (Electronics) and Ficus (White) (Flower Type) and Smartphone (Brown) (Electronics) on 2025-01-01 14:16:44'),\n",
       " Document(id='8d29c331-a9dd-4819-afd1-acbbc7a267e7', metadata={'categories': ['Electronics'], 'order_date': '2025-01-01 14:17:00', 'products': ['Bluetooth Headset (Brown)'], 'user_id': 493.0, 'user_name': 'Nancy Morales'}, page_content='User Nancy Morales ordered Bluetooth Headset (Brown) (Electronics) on 2025-01-01 14:17:00'),\n",
       " Document(id='0c48ffcf-0d25-4d9a-b022-6c11cf1cfc64', metadata={'categories': ['Electronics'], 'order_date': '2025-01-01 14:13:23', 'products': ['Smartwatch (Pink)'], 'user_id': 469.0, 'user_name': 'Gail Mckinney'}, page_content='User Gail Mckinney ordered Smartwatch (Pink) (Electronics) on 2025-01-01 14:13:23'),\n",
       " Document(id='dfb1b495-4881-4a9a-8ac9-af5f7d6169aa', metadata={'categories': ['Clothing', 'Electronics', 'Electronics', 'Jewelry'], 'order_date': '2025-01-01 14:11:02', 'products': ['Wool Coat (Yellow)', 'Bluetooth Headset (Red)', 'Bluetooth Headset (Purple)', 'Necklace (Green)'], 'user_id': 355.0, 'user_name': 'William Velasquez'}, page_content='User William Velasquez ordered Wool Coat (Yellow) (Clothing) and Bluetooth Headset (Red) (Electronics) and Bluetooth Headset (Purple) (Electronics) and Necklace (Green) (Jewelry) on 2025-01-01 14:11:02'),\n",
       " Document(id='1b2dc65a-8c93-4145-ba4d-54c198f15f36', metadata={'categories': ['Jewelry', 'Electronics', 'Electronics'], 'order_date': '2025-01-01 13:06:31', 'products': ['Ring (Pink)', 'Smartwatch (Pink)', 'Bluetooth Headset (White)'], 'user_id': 426.0, 'user_name': 'Cynthia Andrade'}, page_content='User Cynthia Andrade ordered Ring (Pink) (Jewelry) and Smartwatch (Pink) (Electronics) and Bluetooth Headset (White) (Electronics) on 2025-01-01 13:06:31'),\n",
       " Document(id='bc3e9004-8ea1-4af9-9500-2bdf170be418', metadata={'categories': ['Electronics', 'Personal Care', 'Jewelry'], 'order_date': '2025-01-01 14:15:35', 'products': ['Bluetooth Headset (Green)', 'Perfume (White)', 'Ring (Red)'], 'user_id': 510.0, 'user_name': 'Angela Guzman'}, page_content='User Angela Guzman ordered Bluetooth Headset (Green) (Electronics) and Perfume (White) (Personal Care) and Ring (Red) (Jewelry) on 2025-01-01 14:15:35'),\n",
       " Document(id='e1823ec1-6d96-4503-8a1e-73f6fadc879d', metadata={'categories': ['Electronics', 'Jewelry', 'Clothing', 'Personal Care'], 'order_date': '2025-01-01 14:15:11', 'products': ['Bluetooth Headset (Black)', 'Earrings (Blue)', 'Men Blazer (Pink)', 'Shampoo (Yellow)'], 'user_id': 447.0, 'user_name': 'Carrie Williams'}, page_content='User Carrie Williams ordered Bluetooth Headset (Black) (Electronics) and Earrings (Blue) (Jewelry) and Men Blazer (Pink) (Clothing) and Shampoo (Yellow) (Personal Care) on 2025-01-01 14:15:11'),\n",
       " Document(id='a63c9d08-1cbc-4b7c-a36b-e4db0bdc5719', metadata={'categories': ['Electronics'], 'order_date': '2025-01-01 14:12:37', 'products': ['Bluetooth Headset (Pink)'], 'user_id': 447.0, 'user_name': 'Carrie Williams'}, page_content='User Carrie Williams ordered Bluetooth Headset (Pink) (Electronics) on 2025-01-01 14:12:37'),\n",
       " Document(id='59b99d99-ad7f-4db5-becb-b1a0048f5227', metadata={'categories': ['Electronics', 'Electronics', 'Electronics', 'Home Goods', 'Clothing'], 'order_date': '2025-01-01 14:14:55', 'products': ['mouse (Pink)', 'Powerbank (Orange)', 'Smartwatch (Blue)', 'Knife Set (Orange)', 'V-neck T-shirt (Brown)'], 'user_id': 433.0, 'user_name': 'Kathleen Miller'}, page_content='User Kathleen Miller ordered mouse (Pink) (Electronics) and Powerbank (Orange) (Electronics) and Smartwatch (Blue) (Electronics) and Knife Set (Orange) (Home Goods) and V-neck T-shirt (Brown) (Clothing) on 2025-01-01 14:14:55'),\n",
       " Document(id='9fa3a35b-5ad9-4ad9-ab4a-12efa7232b25', metadata={'categories': ['Electronics', 'Personal Care'], 'order_date': '2025-01-01 14:16:18', 'products': ['Smartwatch (Pink)', 'Toothbrush (Yellow)'], 'user_id': 382.0, 'user_name': 'Bryan Chavez'}, page_content='User Bryan Chavez ordered Smartwatch (Pink) (Electronics) and Toothbrush (Yellow) (Personal Care) on 2025-01-01 14:16:18'),\n",
       " Document(id='8b69e3ff-c8ca-4f3c-8146-770b14e5d2e3', metadata={'categories': ['Home Goods', 'Electronics', 'Electronics'], 'order_date': '2025-01-01 14:11:46', 'products': ['Curtain (Yellow)', 'Bluetooth Headset (Green)', 'Smartphone (Orange)'], 'user_id': 451.0, 'user_name': 'Lindsey Mcgee'}, page_content='User Lindsey Mcgee ordered Curtain (Yellow) (Home Goods) and Bluetooth Headset (Green) (Electronics) and Smartphone (Orange) (Electronics) on 2025-01-01 14:11:46'),\n",
       " Document(id='9f3e109d-32b1-4445-ab70-9c9483eff8aa', metadata={'categories': ['Electronics', 'Home Goods', 'Flower Type', 'Home Goods'], 'order_date': '2025-01-01 14:11:17', 'products': ['Bluetooth Headset (Pink)', 'Pitcher (Purple)', 'Rose (Black)', 'Pot (Pink)'], 'user_id': 477.0, 'user_name': 'Stacy Ortiz'}, page_content='User Stacy Ortiz ordered Bluetooth Headset (Pink) (Electronics) and Pitcher (Purple) (Home Goods) and Rose (Black) (Flower Type) and Pot (Pink) (Home Goods) on 2025-01-01 14:11:17'),\n",
       " Document(id='343bd047-462e-4992-bc4f-ce367ed156ec', metadata={'categories': ['Electronics'], 'order_date': '2025-01-01 14:11:20', 'products': ['Laptop (Orange)'], 'user_id': 356.0, 'user_name': 'Robert Leblanc'}, page_content='User Robert Leblanc ordered Laptop (Orange) (Electronics) on 2025-01-01 14:11:20'),\n",
       " Document(id='ed829588-a1e7-4907-b0e4-8b725d9edbd2', metadata={'categories': ['Jewelry', 'Electronics'], 'order_date': '2025-01-01 13:06:36', 'products': ['Necklace (Orange)', 'Smartwatch (Pink)'], 'user_id': 445.0, 'user_name': 'Kylie Hughes'}, page_content='User Kylie Hughes ordered Necklace (Orange) (Jewelry) and Smartwatch (Pink) (Electronics) on 2025-01-01 13:06:36'),\n",
       " Document(id='72a9cd90-5505-4594-aad9-4292c1298469', metadata={'categories': ['Clothing', 'Electronics', 'Jewelry', 'Clothing'], 'order_date': '2025-01-01 14:11:28', 'products': ['Winter Coat (Green)', 'Smartphone (Blue)', 'Earrings (Green)', 'Women Blazer (Yellow)'], 'user_id': 481.0, 'user_name': 'Andrew Castillo DDS'}, page_content='User Andrew Castillo DDS ordered Winter Coat (Green) (Clothing) and Smartphone (Blue) (Electronics) and Earrings (Green) (Jewelry) and Women Blazer (Yellow) (Clothing) on 2025-01-01 14:11:28'),\n",
       " Document(id='546b4a79-0baf-4e4c-9938-7173690e8f4f', metadata={'categories': ['Personal Care', 'Personal Care', 'Electronics', 'Home Goods'], 'order_date': '2025-01-01 14:11:34', 'products': ['Perfume (Blue)', 'Shampoo (Orange)', 'Bluetooth Headset (Black)', 'Lamp (Brown)'], 'user_id': 452.0, 'user_name': 'Jorge Wright'}, page_content='User Jorge Wright ordered Perfume (Blue) (Personal Care) and Shampoo (Orange) (Personal Care) and Bluetooth Headset (Black) (Electronics) and Lamp (Brown) (Home Goods) on 2025-01-01 14:11:34'),\n",
       " Document(id='f64ac4b6-0156-4dfd-a372-814e890eeb2d', metadata={'categories': ['Home Goods', 'Electronics', 'Home Goods', 'Flower Type'], 'order_date': '2025-01-01 14:14:36', 'products': ['Pot (Orange)', 'Bluetooth Headset (Yellow)', 'Table Clock (White)', 'Cactus (Pink)'], 'user_id': 521.0, 'user_name': 'John Mcdonald'}, page_content='User John Mcdonald ordered Pot (Orange) (Home Goods) and Bluetooth Headset (Yellow) (Electronics) and Table Clock (White) (Home Goods) and Cactus (Pink) (Flower Type) on 2025-01-01 14:14:36'),\n",
       " Document(id='43181f76-ecf3-477f-b1fd-ae0f633a9cc0', metadata={'categories': ['Electronics', 'Clothing'], 'order_date': '2025-01-01 14:16:55', 'products': ['Smartwatch (Pink)', 'Plus Size Coat (Green)'], 'user_id': 346.0, 'user_name': 'Jacob Fischer'}, page_content='User Jacob Fischer ordered Smartwatch (Pink) (Electronics) and Plus Size Coat (Green) (Clothing) on 2025-01-01 14:16:55'),\n",
       " Document(id='5d15da0b-5494-4920-9d96-31b3d49f369f', metadata={'categories': ['Clothing', 'Personal Care', 'Electronics'], 'order_date': '2025-01-01 14:16:41', 'products': ['Jeans (Pink)', 'Perfume (Purple)', 'Smartphone (Blue)'], 'user_id': 422.0, 'user_name': 'Allison Roberts'}, page_content='User Allison Roberts ordered Jeans (Pink) (Clothing) and Perfume (Purple) (Personal Care) and Smartphone (Blue) (Electronics) on 2025-01-01 14:16:41'),\n",
       " Document(id='8f584264-f645-4a34-a4d9-60bfc063b719', metadata={'categories': ['Electronics', 'Clothing', 'Clothing', 'Electronics'], 'order_date': '2025-01-01 14:09:34', 'products': ['keyword (Purple)', 'V-neck T-shirt (Yellow)', 'Plus Size Coat (Black)', 'Laptop (Blue)'], 'user_id': 386.0, 'user_name': 'Sylvia Chandler'}, page_content='User Sylvia Chandler ordered keyword (Purple) (Electronics) and V-neck T-shirt (Yellow) (Clothing) and Plus Size Coat (Black) (Clothing) and Laptop (Blue) (Electronics) on 2025-01-01 14:09:34'),\n",
       " Document(id='47b833f7-ccdf-4331-9d51-78d14ef92198', metadata={'categories': ['Personal Care', 'Jewelry', 'Electronics'], 'order_date': '2025-01-01 14:16:37', 'products': ['Perfume (Purple)', 'Ring (Orange)', 'mouse (Black)'], 'user_id': 483.0, 'user_name': 'Leslie Huber'}, page_content='User Leslie Huber ordered Perfume (Purple) (Personal Care) and Ring (Orange) (Jewelry) and mouse (Black) (Electronics) on 2025-01-01 14:16:37'),\n",
       " Document(id='e4953100-c17b-41e1-ba95-0cb66de47485', metadata={'categories': ['Electronics', 'Jewelry', 'Clothing', 'Home Goods'], 'order_date': '2025-01-01 14:12:29', 'products': ['mouse (Pink)', 'Ring (Red)', 'Patterned Shirt (Pink)', 'Pot (Blue)'], 'user_id': 481.0, 'user_name': 'Andrew Castillo DDS'}, page_content='User Andrew Castillo DDS ordered mouse (Pink) (Electronics) and Ring (Red) (Jewelry) and Patterned Shirt (Pink) (Clothing) and Pot (Blue) (Home Goods) on 2025-01-01 14:12:29'),\n",
       " Document(id='34566a80-7121-49e9-b6e3-9d3a49cd167b', metadata={'categories': ['Electronics'], 'order_date': '2025-01-01 14:16:30', 'products': ['Smartwatch (Pink)'], 'user_id': 379.0, 'user_name': 'Danielle Davis'}, page_content='User Danielle Davis ordered Smartwatch (Pink) (Electronics) on 2025-01-01 14:16:30'),\n",
       " Document(id='b93d23ce-5490-4ec5-86a0-a954d8f70434', metadata={'categories': ['Electronics', 'Personal Care', 'Flower Type', 'Electronics', 'Jewelry'], 'order_date': '2025-01-01 14:11:42', 'products': ['Bluetooth Headset (Pink)', 'Shampoo (White)', 'Orchid (Black)', 'Smartwatch (Green)', 'Earrings (Blue)'], 'user_id': 363.0, 'user_name': 'Michael Davies'}, page_content='User Michael Davies ordered Bluetooth Headset (Pink) (Electronics) and Shampoo (White) (Personal Care) and Orchid (Black) (Flower Type) and Smartwatch (Green) (Electronics) and Earrings (Blue) (Jewelry) on 2025-01-01 14:11:42'),\n",
       " Document(id='3a74ab73-7543-468d-95b4-974af612f570', metadata={'categories': ['Flower Type', 'Electronics'], 'order_date': '2025-01-01 14:14:24', 'products': ['Rose (Purple)', 'Bluetooth Headset (White)'], 'user_id': 499.0, 'user_name': 'Tina Green'}, page_content='User Tina Green ordered Rose (Purple) (Flower Type) and Bluetooth Headset (White) (Electronics) on 2025-01-01 14:14:24'),\n",
       " Document(id='791d9e28-2fb2-4575-acbf-bd5201e46f9f', metadata={'categories': ['Home Goods', 'Electronics', 'Home Goods'], 'order_date': '2025-01-01 14:10:28', 'products': ['Table Clock (White)', 'Smartphone (Red)', 'Pitcher (Brown)'], 'user_id': 387.0, 'user_name': 'Jeffery Johnson'}, page_content='User Jeffery Johnson ordered Table Clock (White) (Home Goods) and Smartphone (Red) (Electronics) and Pitcher (Brown) (Home Goods) on 2025-01-01 14:10:28'),\n",
       " Document(id='bf328b95-56ba-48a5-b6e3-14966cb241ef', metadata={'categories': ['Jewelry', 'Clothing', 'Home Goods', 'Electronics', 'Clothing'], 'order_date': '2025-01-01 14:13:01', 'products': ['Bracelet (Black)', 'Waterproof Coat (Orange)', 'Food Processor (Purple)', 'Smartwatch (Blue)', 'Plus Size Coat (Brown)'], 'user_id': 449.0, 'user_name': 'Patricia Dudley'}, page_content='User Patricia Dudley ordered Bracelet (Black) (Jewelry) and Waterproof Coat (Orange) (Clothing) and Food Processor (Purple) (Home Goods) and Smartwatch (Blue) (Electronics) and Plus Size Coat (Brown) (Clothing) on 2025-01-01 14:13:01'),\n",
       " Document(id='f8b9ac16-b266-4277-ae6a-2a873bb42247', metadata={'categories': ['Jewelry', 'Jewelry', 'Electronics', 'Home Goods', 'Clothing'], 'order_date': '2025-01-01 14:13:50', 'products': ['Bracelet (Black)', 'Earrings (Black)', 'Smartphone (Brown)', 'Table Clock (Black)', 'Wool Coat (Pink)'], 'user_id': 445.0, 'user_name': 'Kylie Hughes'}, page_content='User Kylie Hughes ordered Bracelet (Black) (Jewelry) and Earrings (Black) (Jewelry) and Smartphone (Brown) (Electronics) and Table Clock (Black) (Home Goods) and Wool Coat (Pink) (Clothing) on 2025-01-01 14:13:50'),\n",
       " Document(id='6488ccb2-cc29-4d3f-8ea2-464b7e10e5ec', metadata={'categories': ['Personal Care', 'Electronics', 'Jewelry'], 'order_date': '2025-01-01 14:12:48', 'products': ['Toothbrush (Green)', 'mouse (Orange)', 'Ring (Blue)'], 'user_id': 369.0, 'user_name': 'Brianna Hartman'}, page_content='User Brianna Hartman ordered Toothbrush (Green) (Personal Care) and mouse (Orange) (Electronics) and Ring (Blue) (Jewelry) on 2025-01-01 14:12:48'),\n",
       " Document(id='b7513e2b-c558-4ca0-81e4-ade5eb3776c4', metadata={'categories': ['Jewelry', 'Home Goods', 'Clothing', 'Personal Care'], 'order_date': '2024-12-30 10:24:03', 'products': ['Ring (Blue)', 'Table Clock (Black)', 'Straight Jeans (Purple)', 'Shampoo (Blue)'], 'user_id': 438.0, 'user_name': 'Jeremy Taylor'}, page_content='User Jeremy Taylor ordered Ring (Blue) (Jewelry) and Table Clock (Black) (Home Goods) and Straight Jeans (Purple) (Clothing) and Shampoo (Blue) (Personal Care) on 2024-12-30 10:24:03'),\n",
       " Document(id='efc5746c-c857-4d93-9e72-45cc2785b6a1', metadata={'categories': ['Electronics', 'Jewelry', 'Personal Care', 'Jewelry', 'Electronics'], 'order_date': '2024-12-30 10:23:48', 'products': ['Powerbank (Pink)', 'Necklace (Brown)', 'Toothbrush (Green)', 'Earrings (Yellow)', 'Smartphone (Green)'], 'user_id': 353.0, 'user_name': 'Matthew Stuart'}, page_content='User Matthew Stuart ordered Powerbank (Pink) (Electronics) and Necklace (Brown) (Jewelry) and Toothbrush (Green) (Personal Care) and Earrings (Yellow) (Jewelry) and Smartphone (Green) (Electronics) on 2024-12-30 10:23:48'),\n",
       " Document(id='01a7b7c8-02a7-4f1f-9115-b5cde144760b', metadata={'categories': ['Electronics', 'Personal Care', 'Jewelry'], 'order_date': '2025-01-01 14:10:50', 'products': ['mouse (White)', 'Perfume (Purple)', 'Ring (Green)'], 'user_id': 481.0, 'user_name': 'Andrew Castillo DDS'}, page_content='User Andrew Castillo DDS ordered mouse (White) (Electronics) and Perfume (Purple) (Personal Care) and Ring (Green) (Jewelry) on 2025-01-01 14:10:50'),\n",
       " Document(id='e09224a1-ce43-4432-be72-3d3812e193ec', metadata={'categories': ['Electronics', 'Home Goods'], 'order_date': '2025-01-01 14:11:10', 'products': ['mouse (Black)', 'Curtain (White)'], 'user_id': 359.0, 'user_name': 'Henry Rivera'}, page_content='User Henry Rivera ordered mouse (Black) (Electronics) and Curtain (White) (Home Goods) on 2025-01-01 14:11:10'),\n",
       " Document(id='11514c3b-d2b0-4916-8d81-92ec23717d61', metadata={'categories': ['Jewelry', 'Personal Care', 'Personal Care', 'Electronics', 'Flower Type'], 'order_date': '2025-01-01 14:13:45', 'products': ['Bracelet (Black)', 'Toothbrush (Pink)', 'Perfume (Purple)', 'Laptop (Red)', 'Rose (Blue)'], 'user_id': 465.0, 'user_name': 'Michael Myers'}, page_content='User Michael Myers ordered Bracelet (Black) (Jewelry) and Toothbrush (Pink) (Personal Care) and Perfume (Purple) (Personal Care) and Laptop (Red) (Electronics) and Rose (Blue) (Flower Type) on 2025-01-01 14:13:45'),\n",
       " Document(id='b98553da-3992-423c-940c-8f0ca1055e83', metadata={'categories': ['Jewelry', 'Electronics', 'Flower Type', 'Home Goods'], 'order_date': '2024-12-30 10:24:49', 'products': ['Earrings (Purple)', 'Smartwatch (Blue)', 'Orchid (White)', 'Carpet (Pink)'], 'user_id': 378.0, 'user_name': 'Stephanie Fernandez'}, page_content='User Stephanie Fernandez ordered Earrings (Purple) (Jewelry) and Smartwatch (Blue) (Electronics) and Orchid (White) (Flower Type) and Carpet (Pink) (Home Goods) on 2024-12-30 10:24:49'),\n",
       " Document(id='3c603cfb-da1d-4d71-92c3-8e497134c6d7', metadata={'categories': ['Jewelry', 'Clothing', 'Electronics'], 'order_date': '2025-01-01 14:13:40', 'products': ['Necklace (Blue)', 'Plus Size Coat (Green)', 'mouse (Purple)'], 'user_id': 375.0, 'user_name': 'Lori Gay'}, page_content='User Lori Gay ordered Necklace (Blue) (Jewelry) and Plus Size Coat (Green) (Clothing) and mouse (Purple) (Electronics) on 2025-01-01 14:13:40'),\n",
       " Document(id='d0b6d75c-9714-44e8-ad5f-b614ee6f2aee', metadata={'categories': ['Personal Care', 'Clothing', 'Personal Care', 'Home Goods', 'Electronics'], 'order_date': '2024-12-30 10:24:28', 'products': ['Body Lotion (Purple)', 'Straight Jeans (Purple)', 'Perfume (Green)', 'Lamp (Black)', 'keyword (Yellow)'], 'user_id': 366.0, 'user_name': 'Jacqueline Johnson'}, page_content='User Jacqueline Johnson ordered Body Lotion (Purple) (Personal Care) and Straight Jeans (Purple) (Clothing) and Perfume (Green) (Personal Care) and Lamp (Black) (Home Goods) and keyword (Yellow) (Electronics) on 2024-12-30 10:24:28'),\n",
       " Document(id='2a297942-b242-44b2-bef0-73afe7e9d167', metadata={'categories': ['Personal Care', 'Flower Type', 'Home Goods', 'Electronics', 'Flower Type'], 'order_date': '2025-01-01 14:11:07', 'products': ['Perfume (White)', 'Rose (Green)', 'Pitcher (Orange)', 'Smartwatch (Red)', 'Cactus (Green)'], 'user_id': 483.0, 'user_name': 'Leslie Huber'}, page_content='User Leslie Huber ordered Perfume (White) (Personal Care) and Rose (Green) (Flower Type) and Pitcher (Orange) (Home Goods) and Smartwatch (Red) (Electronics) and Cactus (Green) (Flower Type) on 2025-01-01 14:11:07'),\n",
       " Document(id='4ed2b554-d06c-4eae-a94a-75192bff93e4', metadata={'categories': ['Personal Care', 'Home Goods', 'Electronics'], 'order_date': '2025-01-01 14:09:48', 'products': ['Shampoo (Orange)', 'Carpet (Blue)', 'Laptop (Orange)'], 'user_id': 429.0, 'user_name': 'Holly Lee'}, page_content='User Holly Lee ordered Shampoo (Orange) (Personal Care) and Carpet (Blue) (Home Goods) and Laptop (Orange) (Electronics) on 2025-01-01 14:09:48'),\n",
       " Document(id='6dd0462a-e876-408f-b58c-be53c98356e7', metadata={'categories': ['Personal Care', 'Clothing', 'Electronics', 'Clothing', 'Home Goods'], 'order_date': '2025-01-01 14:14:43', 'products': ['Body Lotion (White)', 'Wool Coat (Pink)', 'Smartphone (Red)', 'Plus Size Coat (Green)', 'Curtain (White)'], 'user_id': 345.0, 'user_name': 'Maria Alvarez'}, page_content='User Maria Alvarez ordered Body Lotion (White) (Personal Care) and Wool Coat (Pink) (Clothing) and Smartphone (Red) (Electronics) and Plus Size Coat (Green) (Clothing) and Curtain (White) (Home Goods) on 2025-01-01 14:14:43'),\n",
       " Document(id='998c41f0-314d-4b25-b6ab-9976f686da79', metadata={'categories': ['Jewelry', 'Electronics', 'Personal Care', 'Home Goods'], 'order_date': '2025-01-01 14:13:36', 'products': ['Earrings (Purple)', 'keyword (Pink)', 'Shampoo (Yellow)', 'Knife Set (Orange)'], 'user_id': 460.0, 'user_name': 'Kevin Bird'}, page_content='User Kevin Bird ordered Earrings (Purple) (Jewelry) and keyword (Pink) (Electronics) and Shampoo (Yellow) (Personal Care) and Knife Set (Orange) (Home Goods) on 2025-01-01 14:13:36'),\n",
       " Document(id='f83ead54-fdc2-4bb1-bab6-d1d45a2f231b', metadata={'categories': ['Jewelry'], 'order_date': '2025-01-01 14:16:15', 'products': ['Ring (Orange)'], 'user_id': 480.0, 'user_name': 'Jaime Vargas'}, page_content='User Jaime Vargas ordered Ring (Orange) (Jewelry) on 2025-01-01 14:16:15'),\n",
       " Document(id='70e5f113-c563-4cf3-b980-d0f428869097', metadata={'categories': ['Jewelry', 'Personal Care'], 'order_date': '2025-01-01 13:06:25', 'products': ['Necklace (Purple)', 'Shampoo (Orange)'], 'user_id': 370.0, 'user_name': 'Bradley Maldonado'}, page_content='User Bradley Maldonado ordered Necklace (Purple) (Jewelry) and Shampoo (Orange) (Personal Care) on 2025-01-01 13:06:25'),\n",
       " Document(id='56012c52-f23f-4164-aa5e-5c9cdcaea382', metadata={'categories': ['Personal Care', 'Personal Care', 'Home Goods', 'Electronics', 'Clothing'], 'order_date': '2025-01-01 14:12:15', 'products': ['Shampoo (Orange)', 'Toothbrush (Orange)', 'Lamp (Brown)', 'Smartwatch (Purple)', 'Plus Size Coat (Blue)'], 'user_id': 475.0, 'user_name': 'Amy Walker'}, page_content='User Amy Walker ordered Shampoo (Orange) (Personal Care) and Toothbrush (Orange) (Personal Care) and Lamp (Brown) (Home Goods) and Smartwatch (Purple) (Electronics) and Plus Size Coat (Blue) (Clothing) on 2025-01-01 14:12:15'),\n",
       " Document(id='4ea48799-fac8-4f76-ad56-63fe2f9288fa', metadata={'categories': ['Clothing'], 'order_date': '2025-01-01 14:12:52', 'products': ['Shirt (Purple)'], 'user_id': 462.0, 'user_name': 'Thomas Campos'}, page_content='User Thomas Campos ordered Shirt (Purple) (Clothing) on 2025-01-01 14:12:52'),\n",
       " Document(id='e727dd49-2658-4ba4-ab98-0e6ff4a803c5', metadata={'categories': ['Electronics', 'Jewelry', 'Home Goods', 'Personal Care', 'Jewelry'], 'order_date': '2025-01-01 14:14:48', 'products': ['keyword (White)', 'Earrings (White)', 'Table Clock (Orange)', 'Toothbrush (Orange)', 'Bracelet (Green)'], 'user_id': 495.0, 'user_name': 'Felicia Jones'}, page_content='User Felicia Jones ordered keyword (White) (Electronics) and Earrings (White) (Jewelry) and Table Clock (Orange) (Home Goods) and Toothbrush (Orange) (Personal Care) and Bracelet (Green) (Jewelry) on 2025-01-01 14:14:48'),\n",
       " Document(id='efbc5214-dfbf-49de-96cd-7c86e6975eda', metadata={'categories': ['Home Goods', 'Electronics'], 'order_date': '2025-01-01 14:14:21', 'products': ['Food Processor (Brown)', 'Laptop (Yellow)'], 'user_id': 495.0, 'user_name': 'Felicia Jones'}, page_content='User Felicia Jones ordered Food Processor (Brown) (Home Goods) and Laptop (Yellow) (Electronics) on 2025-01-01 14:14:21'),\n",
       " Document(id='cde1f099-1c79-4b61-8870-572129b9da8d', metadata={'categories': ['Home Goods', 'Jewelry'], 'order_date': '2025-01-01 14:14:01', 'products': ['Carpet (Pink)', 'Ring (Blue)'], 'user_id': 385.0, 'user_name': 'John Perry'}, page_content='User John Perry ordered Carpet (Pink) (Home Goods) and Ring (Blue) (Jewelry) on 2025-01-01 14:14:01'),\n",
       " Document(id='71fc349e-adb8-42b7-b4dc-df21eca3f982', metadata={'categories': ['Electronics', 'Jewelry'], 'order_date': '2025-01-01 13:06:50', 'products': ['Laptop (Red)', 'Necklace (Purple)'], 'user_id': 389.0, 'user_name': 'Andrea Young'}, page_content='User Andrea Young ordered Laptop (Red) (Electronics) and Necklace (Purple) (Jewelry) on 2025-01-01 13:06:50'),\n",
       " Document(id='73da495a-8692-4e0a-a6c1-0c61c17a90fa', metadata={'categories': ['Flower Type', 'Jewelry', 'Electronics', 'Electronics'], 'order_date': '2024-12-30 10:24:06', 'products': ['Rose (Green)', 'Necklace (White)', 'Bluetooth Headset (Red)', 'Smartwatch (Green)'], 'user_id': 364.0, 'user_name': 'Dr. Jeffrey Warner'}, page_content='User Dr. Jeffrey Warner ordered Rose (Green) (Flower Type) and Necklace (White) (Jewelry) and Bluetooth Headset (Red) (Electronics) and Smartwatch (Green) (Electronics) on 2024-12-30 10:24:06'),\n",
       " Document(id='efd3936f-2ba8-4cd2-84e5-ba672be35f00', metadata={'categories': ['Clothing', 'Electronics'], 'order_date': '2025-01-01 14:11:39', 'products': ['Plus Size Coat (Blue)', 'mouse (White)'], 'user_id': 452.0, 'user_name': 'Jorge Wright'}, page_content='User Jorge Wright ordered Plus Size Coat (Blue) (Clothing) and mouse (White) (Electronics) on 2025-01-01 14:11:39'),\n",
       " Document(id='5adafd15-f577-45f6-aeef-dde726e6320b', metadata={'categories': ['Jewelry', 'Personal Care'], 'order_date': '2025-01-01 13:06:42', 'products': ['Earrings (Blue)', 'Toothbrush (Black)'], 'user_id': 452.0, 'user_name': 'Jorge Wright'}, page_content='User Jorge Wright ordered Earrings (Blue) (Jewelry) and Toothbrush (Black) (Personal Care) on 2025-01-01 13:06:42'),\n",
       " Document(id='19817fbc-14c1-418a-bdbb-c05a5cfb5980', metadata={'categories': ['Jewelry', 'Clothing', 'Home Goods', 'Home Goods'], 'order_date': '2025-01-01 14:11:49', 'products': ['Ring (Orange)', 'Women Blazer (Yellow)', 'Knife Set (Red)', 'Curtain (Brown)'], 'user_id': 404.0, 'user_name': 'Jason Martinez'}, page_content='User Jason Martinez ordered Ring (Orange) (Jewelry) and Women Blazer (Yellow) (Clothing) and Knife Set (Red) (Home Goods) and Curtain (Brown) (Home Goods) on 2025-01-01 14:11:49'),\n",
       " Document(id='c05f76b2-26e7-4330-ab65-9e21c0ba1238', metadata={'categories': ['Personal Care', 'Flower Type', 'Clothing', 'Personal Care'], 'order_date': '2025-01-01 14:15:50', 'products': ['Toothbrush (Black)', 'Ficus (Orange)', 'Straight Jeans (White)', 'Body Lotion (White)'], 'user_id': 517.0, 'user_name': 'Paul Richards'}, page_content='User Paul Richards ordered Toothbrush (Black) (Personal Care) and Ficus (Orange) (Flower Type) and Straight Jeans (White) (Clothing) and Body Lotion (White) (Personal Care) on 2025-01-01 14:15:50'),\n",
       " Document(id='d9809e31-a005-4d38-b28c-927264ab7e14', metadata={'categories': ['Home Goods', 'Jewelry', 'Personal Care', 'Personal Care'], 'order_date': '2024-12-30 10:24:37', 'products': ['Carpet (Orange)', 'Bracelet (Orange)', 'Toothbrush (Yellow)', 'Toothbrush (Red)'], 'user_id': 399.0, 'user_name': 'Erik Glenn'}, page_content='User Erik Glenn ordered Carpet (Orange) (Home Goods) and Bracelet (Orange) (Jewelry) and Toothbrush (Yellow) (Personal Care) and Toothbrush (Red) (Personal Care) on 2024-12-30 10:24:37'),\n",
       " Document(id='fad297fd-e32b-4ed4-9709-396f1b160918', metadata={'categories': ['Flower Type', 'Clothing', 'Electronics'], 'order_date': '2025-01-01 14:10:37', 'products': ['Orchid (Brown)', 'T-shirt (Orange)', 'Laptop (Brown)'], 'user_id': 347.0, 'user_name': 'John Rodriguez'}, page_content='User John Rodriguez ordered Orchid (Brown) (Flower Type) and T-shirt (Orange) (Clothing) and Laptop (Brown) (Electronics) on 2025-01-01 14:10:37'),\n",
       " Document(id='49050f6d-f618-4582-9036-08b5ebed3b38', metadata={'categories': ['Clothing', 'Personal Care', 'Jewelry', 'Jewelry'], 'order_date': '2025-01-01 14:11:31', 'products': ['Wool Sweater (Black)', 'Body Lotion (White)', 'Necklace (Purple)', 'Necklace (White)'], 'user_id': 472.0, 'user_name': 'Alexandria Mcdonald'}, page_content='User Alexandria Mcdonald ordered Wool Sweater (Black) (Clothing) and Body Lotion (White) (Personal Care) and Necklace (Purple) (Jewelry) and Necklace (White) (Jewelry) on 2025-01-01 14:11:31'),\n",
       " Document(id='309667be-f0ad-41f9-9ef3-abc66573e5e1', metadata={'categories': ['Jewelry'], 'order_date': '2025-01-01 14:10:19', 'products': ['Bracelet (Black)'], 'user_id': 426.0, 'user_name': 'Cynthia Andrade'}, page_content='User Cynthia Andrade ordered Bracelet (Black) (Jewelry) on 2025-01-01 14:10:19'),\n",
       " Document(id='f8a3c767-7b77-41c0-b2ae-69d185054dcb', metadata={'categories': ['Home Goods', 'Jewelry', 'Electronics', 'Flower Type', 'Personal Care'], 'order_date': '2025-01-01 14:09:57', 'products': ['Lamp (Brown)', 'Earrings (Purple)', 'Smartphone (Red)', 'Succulent (Purple)', 'Shampoo (Yellow)'], 'user_id': 393.0, 'user_name': 'Dr. Marie Williams'}, page_content='User Dr. Marie Williams ordered Lamp (Brown) (Home Goods) and Earrings (Purple) (Jewelry) and Smartphone (Red) (Electronics) and Succulent (Purple) (Flower Type) and Shampoo (Yellow) (Personal Care) on 2025-01-01 14:09:57'),\n",
       " Document(id='e7e7f4bc-6ad5-470e-afb2-cc3366e03ddf', metadata={'categories': ['Personal Care', 'Home Goods', 'Electronics', 'Home Goods', 'Personal Care'], 'order_date': '2025-01-01 14:13:15', 'products': ['Perfume (Brown)', 'Food Processor (White)', 'mouse (Blue)', 'Carpet (Pink)', 'Shampoo (Brown)'], 'user_id': 486.0, 'user_name': 'Javier Wheeler'}, page_content='User Javier Wheeler ordered Perfume (Brown) (Personal Care) and Food Processor (White) (Home Goods) and mouse (Blue) (Electronics) and Carpet (Pink) (Home Goods) and Shampoo (Brown) (Personal Care) on 2025-01-01 14:13:15'),\n",
       " Document(id='e0c7bfaf-e951-4d48-8d38-0693716c1468', metadata={'categories': ['Home Goods', 'Jewelry', 'Electronics', 'Flower Type'], 'order_date': '2025-01-01 14:14:06', 'products': ['Knife Set (Green)', 'Necklace (Orange)', 'Powerbank (Yellow)', 'Orchid (White)'], 'user_id': 447.0, 'user_name': 'Carrie Williams'}, page_content='User Carrie Williams ordered Knife Set (Green) (Home Goods) and Necklace (Orange) (Jewelry) and Powerbank (Yellow) (Electronics) and Orchid (White) (Flower Type) on 2025-01-01 14:14:06'),\n",
       " Document(id='cba16f05-b724-4bf6-8ce2-ac30f2a65aa3', metadata={'categories': ['Personal Care', 'Personal Care', 'Personal Care'], 'order_date': '2025-01-01 14:12:24', 'products': ['Toothbrush (Purple)', 'Toothbrush (Orange)', 'Body Lotion (Purple)'], 'user_id': 494.0, 'user_name': 'Andrea Thomas'}, page_content='User Andrea Thomas ordered Toothbrush (Purple) (Personal Care) and Toothbrush (Orange) (Personal Care) and Body Lotion (Purple) (Personal Care) on 2025-01-01 14:12:24'),\n",
       " Document(id='a23216be-61f9-4b21-97c8-a259c53d9f47', metadata={'categories': ['Electronics', 'Flower Type'], 'order_date': '2025-01-01 14:13:04', 'products': ['Laptop (Blue)', 'Tulip (White)'], 'user_id': 489.0, 'user_name': 'Patrick Sellers'}, page_content='User Patrick Sellers ordered Laptop (Blue) (Electronics) and Tulip (White) (Flower Type) on 2025-01-01 14:13:04'),\n",
       " Document(id='7d6c4a8c-dcae-42ee-94ca-209cbcbfaa09', metadata={'categories': ['Home Goods', 'Electronics'], 'order_date': '2025-01-01 14:14:51', 'products': ['Carpet (Orange)', 'Powerbank (Pink)'], 'user_id': 443.0, 'user_name': 'Shane Walker'}, page_content='User Shane Walker ordered Carpet (Orange) (Home Goods) and Powerbank (Pink) (Electronics) on 2025-01-01 14:14:51'),\n",
       " Document(id='1b7802fd-53bc-45f6-af5e-370d25a3fe94', metadata={'categories': ['Clothing', 'Jewelry'], 'order_date': '2025-01-01 14:15:41', 'products': ['Winter Coat (Blue)', 'Bracelet (Blue)'], 'user_id': 403.0, 'user_name': 'Shane Lang'}, page_content='User Shane Lang ordered Winter Coat (Blue) (Clothing) and Bracelet (Blue) (Jewelry) on 2025-01-01 14:15:41'),\n",
       " Document(id='bd0611f7-1894-457e-8760-3ffcbbad460a', metadata={'categories': ['Home Goods', 'Jewelry'], 'order_date': '2025-01-01 14:16:52', 'products': ['Pot (Orange)', 'Bracelet (Red)'], 'user_id': 469.0, 'user_name': 'Gail Mckinney'}, page_content='User Gail Mckinney ordered Pot (Orange) (Home Goods) and Bracelet (Red) (Jewelry) on 2025-01-01 14:16:52'),\n",
       " Document(id='981c144c-bf9a-4a8d-b2cd-26024e043225', metadata={'categories': ['Flower Type', 'Electronics'], 'order_date': '2025-01-01 14:15:31', 'products': ['Tulip (Green)', 'Powerbank (Orange)'], 'user_id': 526.0, 'user_name': 'Teresa Reese'}, page_content='User Teresa Reese ordered Tulip (Green) (Flower Type) and Powerbank (Orange) (Electronics) on 2025-01-01 14:15:31'),\n",
       " Document(id='ee80d500-22cc-4a26-a74e-47ebceb14601', metadata={'categories': ['Home Goods', 'Jewelry', 'Jewelry'], 'order_date': '2025-01-01 14:12:33', 'products': ['Lamp (Red)', 'Earrings (Purple)', 'Earrings (Blue)'], 'user_id': 444.0, 'user_name': 'Tiffany Chen'}, page_content='User Tiffany Chen ordered Lamp (Red) (Home Goods) and Earrings (Purple) (Jewelry) and Earrings (Blue) (Jewelry) on 2025-01-01 14:12:33'),\n",
       " Document(id='9774c510-43c9-4c9c-a529-fa055576aa56', metadata={'categories': ['Jewelry', 'Clothing', 'Flower Type', 'Personal Care'], 'order_date': '2025-01-01 14:13:18', 'products': ['Ring (Red)', 'Wool Coat (Yellow)', 'Daisy (Brown)', 'Perfume (White)'], 'user_id': 474.0, 'user_name': 'Sean Lee'}, page_content='User Sean Lee ordered Ring (Red) (Jewelry) and Wool Coat (Yellow) (Clothing) and Daisy (Brown) (Flower Type) and Perfume (White) (Personal Care) on 2025-01-01 14:13:18'),\n",
       " Document(id='3f7c875c-b4e4-45fd-b9ff-90eef38428d1', metadata={'categories': ['Personal Care'], 'order_date': '2025-01-01 14:13:07', 'products': ['Toothbrush (Orange)'], 'user_id': 513.0, 'user_name': 'Mrs. Sabrina Delgado MD'}, page_content='User Mrs. Sabrina Delgado MD ordered Toothbrush (Orange) (Personal Care) on 2025-01-01 14:13:07'),\n",
       " Document(id='9cd3ef6c-a166-46b6-9384-310fd96c1ddd', metadata={'categories': ['Home Goods', 'Jewelry', 'Home Goods', 'Clothing', 'Clothing'], 'order_date': '2025-01-01 14:14:17', 'products': ['Pitcher (Purple)', 'Necklace (Yellow)', 'Pot (Purple)', 'Mom Jeans (Brown)', 'Short Sleeve Shirt (Purple)'], 'user_id': 466.0, 'user_name': 'Diana Nunez'}, page_content='User Diana Nunez ordered Pitcher (Purple) (Home Goods) and Necklace (Yellow) (Jewelry) and Pot (Purple) (Home Goods) and Mom Jeans (Brown) (Clothing) and Short Sleeve Shirt (Purple) (Clothing) on 2025-01-01 14:14:17'),\n",
       " Document(id='f3266447-69a0-4f19-a17d-2c335c6399bd', metadata={'categories': ['Electronics', 'Flower Type'], 'order_date': '2025-01-01 14:10:55', 'products': ['Laptop (Purple)', 'Cactus (White)'], 'user_id': 347.0, 'user_name': 'John Rodriguez'}, page_content='User John Rodriguez ordered Laptop (Purple) (Electronics) and Cactus (White) (Flower Type) on 2025-01-01 14:10:55'),\n",
       " Document(id='99459d43-99f9-413a-a653-14a8295228ea', metadata={'categories': ['Home Goods', 'Home Goods', 'Personal Care', 'Jewelry'], 'order_date': '2025-01-01 14:10:23', 'products': ['Knife Set (Pink)', 'Pitcher (White)', 'Perfume (Orange)', 'Earrings (Purple)'], 'user_id': 474.0, 'user_name': 'Sean Lee'}, page_content='User Sean Lee ordered Knife Set (Pink) (Home Goods) and Pitcher (White) (Home Goods) and Perfume (Orange) (Personal Care) and Earrings (Purple) (Jewelry) on 2025-01-01 14:10:23'),\n",
       " Document(id='ac708d12-c4af-4502-a73a-e2816df44109', metadata={'categories': ['Jewelry', 'Electronics', 'Flower Type'], 'order_date': '2025-01-01 14:12:11', 'products': ['Necklace (Blue)', 'Powerbank (Brown)', 'Succulent (Black)'], 'user_id': 346.0, 'user_name': 'Jacob Fischer'}, page_content='User Jacob Fischer ordered Necklace (Blue) (Jewelry) and Powerbank (Brown) (Electronics) and Succulent (Black) (Flower Type) on 2025-01-01 14:12:11'),\n",
       " Document(id='13427e79-2b66-4b23-9aa9-8e739c630bc9', metadata={'categories': ['Home Goods', 'Electronics'], 'order_date': '2024-12-30 10:23:52', 'products': ['Table Clock (Pink)', 'keyword (Green)'], 'user_id': 417.0, 'user_name': 'Rachel Brown'}, page_content='User Rachel Brown ordered Table Clock (Pink) (Home Goods) and keyword (Green) (Electronics) on 2024-12-30 10:23:52'),\n",
       " Document(id='b7af9869-2866-4c22-96ba-5c12c51d00c5', metadata={'categories': ['Jewelry', 'Personal Care', 'Home Goods', 'Home Goods', 'Home Goods'], 'order_date': '2025-01-01 14:15:59', 'products': ['Ring (Orange)', 'Body Lotion (White)', 'Knife Set (Red)', 'Table Clock (White)', 'Food Processor (White)'], 'user_id': 451.0, 'user_name': 'Lindsey Mcgee'}, page_content='User Lindsey Mcgee ordered Ring (Orange) (Jewelry) and Body Lotion (White) (Personal Care) and Knife Set (Red) (Home Goods) and Table Clock (White) (Home Goods) and Food Processor (White) (Home Goods) on 2025-01-01 14:15:59'),\n",
       " Document(id='99441533-c696-4655-985d-ff4ba4d06ab7', metadata={'categories': ['Home Goods', 'Home Goods', 'Home Goods', 'Electronics', 'Clothing'], 'order_date': '2025-01-01 14:11:24', 'products': ['Curtain (Red)', 'Curtain (Brown)', 'Knife Set (Red)', 'Laptop (Orange)', 'Winter Coat (Purple)'], 'user_id': 381.0, 'user_name': 'Katherine Williams'}, page_content='User Katherine Williams ordered Curtain (Red) (Home Goods) and Curtain (Brown) (Home Goods) and Knife Set (Red) (Home Goods) and Laptop (Orange) (Electronics) and Winter Coat (Purple) (Clothing) on 2025-01-01 14:11:24'),\n",
       " Document(id='1275fb19-b1e4-4265-b27b-673968b8a622', metadata={'categories': ['Home Goods', 'Personal Care', 'Jewelry'], 'order_date': '2024-12-30 10:24:25', 'products': ['Pot (White)', 'Toothbrush (Brown)', 'Necklace (Orange)'], 'user_id': 453.0, 'user_name': 'Carl Smith'}, page_content='User Carl Smith ordered Pot (White) (Home Goods) and Toothbrush (Brown) (Personal Care) and Necklace (Orange) (Jewelry) on 2024-12-30 10:24:25'),\n",
       " Document(id='ecf1643d-33cd-4552-87b6-dddc3fa11ef4', metadata={'categories': ['Personal Care', 'Home Goods'], 'order_date': '2025-01-01 13:06:45', 'products': ['Shampoo (Yellow)', 'Knife Set (Red)'], 'user_id': 404.0, 'user_name': 'Jason Martinez'}, page_content='User Jason Martinez ordered Shampoo (Yellow) (Personal Care) and Knife Set (Red) (Home Goods) on 2025-01-01 13:06:45'),\n",
       " Document(id='0ca70d39-4440-445c-beb8-7dc11e075b2c', metadata={'categories': ['Jewelry', 'Home Goods', 'Flower Type', 'Personal Care', 'Flower Type'], 'order_date': '2025-01-01 14:14:39', 'products': ['Bracelet (Green)', 'Carpet (Pink)', 'Begonia (Yellow)', 'Perfume (White)', 'Rose (Black)'], 'user_id': 426.0, 'user_name': 'Cynthia Andrade'}, page_content='User Cynthia Andrade ordered Bracelet (Green) (Jewelry) and Carpet (Pink) (Home Goods) and Begonia (Yellow) (Flower Type) and Perfume (White) (Personal Care) and Rose (Black) (Flower Type) on 2025-01-01 14:14:39'),\n",
       " Document(id='17840261-0466-4cea-9be0-db94dc19dbb2', metadata={'categories': ['Clothing', 'Jewelry'], 'order_date': '2025-01-01 14:11:54', 'products': ['Wool Coat (Black)', 'Necklace (Blue)'], 'user_id': 455.0, 'user_name': 'Ryan Cummings'}, page_content='User Ryan Cummings ordered Wool Coat (Black) (Clothing) and Necklace (Blue) (Jewelry) on 2025-01-01 14:11:54'),\n",
       " Document(id='5ca6ea27-cfe1-4b4b-a0e9-da6d95621030', metadata={'categories': ['Home Goods', 'Personal Care', 'Home Goods', 'Home Goods'], 'order_date': '2025-01-01 14:09:44', 'products': ['Table Clock (Orange)', 'Shampoo (Orange)', 'Carpet (Orange)', 'Pot (Pink)'], 'user_id': 439.0, 'user_name': 'Elizabeth Murphy'}, page_content='User Elizabeth Murphy ordered Table Clock (Orange) (Home Goods) and Shampoo (Orange) (Personal Care) and Carpet (Orange) (Home Goods) and Pot (Pink) (Home Goods) on 2025-01-01 14:09:44'),\n",
       " Document(id='c1dbb275-675c-410f-b664-79638fa72075', metadata={'categories': ['Home Goods', 'Flower Type', 'Personal Care', 'Clothing'], 'order_date': '2025-01-01 14:13:31', 'products': ['Food Processor (Orange)', 'Tulip (White)', 'Perfume (Yellow)', 'Winter Coat (Green)'], 'user_id': 363.0, 'user_name': 'Michael Davies'}, page_content='User Michael Davies ordered Food Processor (Orange) (Home Goods) and Tulip (White) (Flower Type) and Perfume (Yellow) (Personal Care) and Winter Coat (Green) (Clothing) on 2025-01-01 14:13:31'),\n",
       " Document(id='470e1346-ceed-4e75-8f8c-29783bd4eaac', metadata={'categories': ['Jewelry', 'Flower Type', 'Personal Care', 'Jewelry'], 'order_date': '2025-01-01 14:11:14', 'products': ['Necklace (Red)', 'Rose (Yellow)', 'Toothbrush (Purple)', 'Ring (Red)'], 'user_id': 458.0, 'user_name': 'Sherry Valentine'}, page_content='User Sherry Valentine ordered Necklace (Red) (Jewelry) and Rose (Yellow) (Flower Type) and Toothbrush (Purple) (Personal Care) and Ring (Red) (Jewelry) on 2025-01-01 14:11:14'),\n",
       " Document(id='c99924e6-979f-40a7-9a00-07d7005782f8', metadata={'categories': ['Jewelry'], 'order_date': '2024-12-30 10:24:57', 'products': ['Necklace (Yellow)'], 'user_id': 445.0, 'user_name': 'Kylie Hughes'}, page_content='User Kylie Hughes ordered Necklace (Yellow) (Jewelry) on 2024-12-30 10:24:57'),\n",
       " Document(id='61f7c3c1-1b74-4b45-a333-62a438d7f2ca', metadata={'categories': ['Personal Care', 'Flower Type'], 'order_date': '2025-01-01 14:16:33', 'products': ['Toothbrush (Orange)', 'Tulip (Pink)'], 'user_id': 543.0, 'user_name': 'Deborah Young'}, page_content='User Deborah Young ordered Toothbrush (Orange) (Personal Care) and Tulip (Pink) (Flower Type) on 2025-01-01 14:16:33'),\n",
       " Document(id='6d280170-b34c-48cb-bdd8-5c6920cbcb4c', metadata={'categories': ['Jewelry', 'Clothing'], 'order_date': '2025-01-01 14:12:45', 'products': ['Ring (Blue)', 'Plus Size Coat (Green)'], 'user_id': 420.0, 'user_name': 'Steven York'}, page_content='User Steven York ordered Ring (Blue) (Jewelry) and Plus Size Coat (Green) (Clothing) on 2025-01-01 14:12:45'),\n",
       " Document(id='29cbc988-3846-4ece-82f7-a03d922214f2', metadata={'categories': ['Clothing', 'Home Goods', 'Home Goods'], 'order_date': '2025-01-01 14:15:38', 'products': ['Wool Coat (Yellow)', 'Carpet (Purple)', 'Lamp (Black)'], 'user_id': 522.0, 'user_name': 'Christine James'}, page_content='User Christine James ordered Wool Coat (Yellow) (Clothing) and Carpet (Purple) (Home Goods) and Lamp (Black) (Home Goods) on 2025-01-01 14:15:38'),\n",
       " Document(id='1fd7632d-5721-47a1-89b6-fafdacd4d45a', metadata={'categories': ['Flower Type', 'Personal Care', 'Electronics', 'Jewelry'], 'order_date': '2025-01-01 14:15:00', 'products': ['Ficus (Orange)', 'Shampoo (White)', 'Powerbank (Purple)', 'Earrings (Green)'], 'user_id': 469.0, 'user_name': 'Gail Mckinney'}, page_content='User Gail Mckinney ordered Ficus (Orange) (Flower Type) and Shampoo (White) (Personal Care) and Powerbank (Purple) (Electronics) and Earrings (Green) (Jewelry) on 2025-01-01 14:15:00'),\n",
       " Document(id='7bdb7165-91b9-4dc2-a836-eb71e8f27cd5', metadata={'categories': ['Flower Type', 'Personal Care', 'Flower Type', 'Electronics'], 'order_date': '2024-12-30 10:24:33', 'products': ['Ficus (White)', 'Shampoo (Yellow)', 'Cactus (Orange)', 'mouse (Purple)'], 'user_id': 372.0, 'user_name': 'Jon Gill'}, page_content='User Jon Gill ordered Ficus (White) (Flower Type) and Shampoo (Yellow) (Personal Care) and Cactus (Orange) (Flower Type) and mouse (Purple) (Electronics) on 2024-12-30 10:24:33'),\n",
       " Document(id='e34fac7d-4974-450a-bcd3-3d3ccf93f00e', metadata={'categories': ['Clothing', 'Flower Type', 'Home Goods'], 'order_date': '2025-01-01 14:10:45', 'products': ['Wool Sweater (White)', 'Succulent (Yellow)', 'Food Processor (Brown)'], 'user_id': 387.0, 'user_name': 'Jeffery Johnson'}, page_content='User Jeffery Johnson ordered Wool Sweater (White) (Clothing) and Succulent (Yellow) (Flower Type) and Food Processor (Brown) (Home Goods) on 2025-01-01 14:10:45'),\n",
       " Document(id='0e6c334f-e2a7-4e66-827f-c63f4eec5648', metadata={'categories': ['Jewelry'], 'order_date': '2025-01-01 14:10:59', 'products': ['Necklace (Purple)'], 'user_id': 431.0, 'user_name': 'Derek Holt'}, page_content='User Derek Holt ordered Necklace (Purple) (Jewelry) on 2025-01-01 14:10:59'),\n",
       " Document(id='43ede347-8434-41b4-909e-45aa0755d497', metadata={'categories': ['Home Goods', 'Clothing', 'Clothing'], 'order_date': '2024-12-30 10:24:10', 'products': ['Knife Set (Orange)', 'Mom Jeans (Brown)', 'Wool Coat (Yellow)'], 'user_id': 350.0, 'user_name': 'Cheryl Fuller'}, page_content='User Cheryl Fuller ordered Knife Set (Orange) (Home Goods) and Mom Jeans (Brown) (Clothing) and Wool Coat (Yellow) (Clothing) on 2024-12-30 10:24:10'),\n",
       " Document(id='d2152d96-5382-4406-84a8-79842f1a2398', metadata={'categories': ['Home Goods', 'Personal Care', 'Home Goods', 'Clothing'], 'order_date': '2025-01-01 14:13:54', 'products': ['Food Processor (Brown)', 'Shampoo (Purple)', 'Lamp (Brown)', 'Patterned Shirt (Brown)'], 'user_id': 368.0, 'user_name': 'Katherine Manning'}, page_content='User Katherine Manning ordered Food Processor (Brown) (Home Goods) and Shampoo (Purple) (Personal Care) and Lamp (Brown) (Home Goods) and Patterned Shirt (Brown) (Clothing) on 2025-01-01 14:13:54')]"
      ]
     },
     "execution_count": 35,
     "metadata": {},
     "output_type": "execute_result"
    }
   ],
   "source": [
    "retriever.get_relevant_documents(query)"
   ]
  },
  {
   "cell_type": "code",
   "execution_count": 17,
   "metadata": {},
   "outputs": [
    {
     "name": "stdout",
     "output_type": "stream",
     "text": [
      "{'categories': ['Electronics'], 'order_date': '2025-01-01 14:11:59', 'products': ['Smartphone (Yellow)'], 'user_id': 350.0, 'user_name': 'Cheryl Fuller'}\n",
      "\n",
      "{'categories': ['Electronics', 'Electronics'], 'order_date': '2025-01-01 13:06:39', 'products': ['Powerbank (Purple)', 'Smartphone (Red)'], 'user_id': 349.0, 'user_name': 'Marcus Williams'}\n",
      "\n",
      "{'categories': ['Home Goods', 'Electronics'], 'order_date': '2025-01-01 14:12:02', 'products': ['Table Clock (Orange)', 'Smartphone (Blue)'], 'user_id': 431.0, 'user_name': 'Derek Holt'}\n"
     ]
    }
   ],
   "source": [
    "def format_docs(docs):\n",
    "    return \"\\n\\n\".join(str(doc.metadata) for doc in docs)\n",
    "\n",
    "retrieved_docs = retriever.invoke(query)\n",
    "print(format_docs(retrieved_docs))"
   ]
  },
  {
   "cell_type": "code",
   "execution_count": 20,
   "metadata": {},
   "outputs": [],
   "source": [
    "#prompt template\n",
    "\n",
    "template = \"\"\" You are an expert assistant specialized in answering questions related to e-commerce datas. Please analyze the e-commerce data and provide a clear and accurate answer accurately\n",
    "\n",
    "Guidlines:\n",
    "1. provide concise and information answer, analyze the e-commerce data\n",
    "2. if the question is beyond the scope of provided information, say: I dont know.\n",
    "3. maintain a professional and helpfull tone \n",
    "\n",
    "Context : {context}\n",
    "\n",
    "Questions : {question}\n",
    "\n",
    "\n",
    "Answer:\n",
    "\"\"\""
   ]
  },
  {
   "cell_type": "code",
   "execution_count": 34,
   "metadata": {},
   "outputs": [
    {
     "name": "stdout",
     "output_type": "stream",
     "text": [
      " You are an expert assistant specialized in answering questions related to e-commerce datas. Please analyze the e-commerce data and provide a clear and accurate answer accurately\n",
      "\n",
      "Guidlines:\n",
      "1. provide concise and information answer\n",
      "2. if the question is beyond the scope of provided information, say: I dont know.\n",
      "3. maintain a professional and helpfull tone \n",
      "\n",
      "Context : {'categories': ['Electronics'], 'order_date': '2025-01-01 14:11:59', 'products': ['Smartphone (Yellow)'], 'user_id': 350.0, 'user_name': 'Cheryl Fuller'}\n",
      "\n",
      "{'categories': ['Electronics', 'Electronics'], 'order_date': '2025-01-01 13:06:39', 'products': ['Powerbank (Purple)', 'Smartphone (Red)'], 'user_id': 349.0, 'user_name': 'Marcus Williams'}\n",
      "\n",
      "{'categories': ['Home Goods', 'Electronics'], 'order_date': '2025-01-01 14:12:02', 'products': ['Table Clock (Orange)', 'Smartphone (Blue)'], 'user_id': 431.0, 'user_name': 'Derek Holt'}\n",
      "\n",
      "Questions : can you say the names of users that bougth a smartphone\n",
      "\n",
      "\n",
      "Answer:\n",
      "\n"
     ]
    }
   ],
   "source": [
    "prompt = template.format(context = format_docs(retrieved_docs), question = \"can you say the names of users that bougth a smartphone\")\n",
    "print(prompt)"
   ]
  },
  {
   "cell_type": "code",
   "execution_count": 27,
   "metadata": {},
   "outputs": [],
   "source": [
    "from langchain_core.prompts import PromptTemplate\n",
    "from langchain_core.runnables import RunnablePassthrough\n",
    "from langchain_core.output_parsers import StrOutputParser\n",
    "from langchain_openai import ChatOpenAI\n",
    "\n",
    "llm = ChatOpenAI(api_key= os.getenv(\"OPENAI_API_KEY\"), model=\"gpt-3.5-turbo\", temperature=0)"
   ]
  },
  {
   "cell_type": "code",
   "execution_count": 30,
   "metadata": {},
   "outputs": [],
   "source": [
    "query = \"can you say the names of users that bougth a smartphone\""
   ]
  },
  {
   "cell_type": "code",
   "execution_count": 31,
   "metadata": {},
   "outputs": [],
   "source": [
    "custom_rag_template = PromptTemplate.from_template(template)\n",
    "\n",
    "custom_rag_chain = (\n",
    "    {\"context\": retriever | format_docs, \"question\": RunnablePassthrough()}\n",
    "    | custom_rag_template\n",
    "    | llm\n",
    "    | StrOutputParser()\n",
    ")"
   ]
  },
  {
   "cell_type": "code",
   "execution_count": 32,
   "metadata": {},
   "outputs": [
    {
     "data": {
      "text/plain": [
       "'The users who bought a smartphone are:\\n1. Cheryl Fuller\\n2. Marcus Williams\\n3. Mr. Joseph Taylor\\n4. Derek Holt\\n5. Thomas Cooper\\n6. Nancy Morales\\n7. William Velasquez\\n8. Cynthia Andrade\\n9. Jacob Fischer\\n10. John Rodriguez\\n11. Cheryl Fuller'"
      ]
     },
     "execution_count": 32,
     "metadata": {},
     "output_type": "execute_result"
    }
   ],
   "source": [
    "custom_rag_chain.invoke(query)"
   ]
  },
  {
   "cell_type": "code",
   "execution_count": 37,
   "metadata": {},
   "outputs": [],
   "source": [
    "import gradio as gr\n",
    "\n",
    "def llm_response(query, memory= None):\n",
    "    return custom_rag_chain.invoke(query)"
   ]
  },
  {
   "cell_type": "code",
   "execution_count": 39,
   "metadata": {},
   "outputs": [
    {
     "name": "stdout",
     "output_type": "stream",
     "text": [
      "* Running on local URL:  http://127.0.0.1:7860\n",
      "\n",
      "To create a public link, set `share=True` in `launch()`.\n"
     ]
    },
    {
     "data": {
      "text/html": [
       "<div><iframe src=\"http://127.0.0.1:7860/\" width=\"100%\" height=\"500\" allow=\"autoplay; camera; microphone; clipboard-read; clipboard-write;\" frameborder=\"0\" allowfullscreen></iframe></div>"
      ],
      "text/plain": [
       "<IPython.core.display.HTML object>"
      ]
     },
     "metadata": {},
     "output_type": "display_data"
    },
    {
     "data": {
      "text/plain": []
     },
     "execution_count": 39,
     "metadata": {},
     "output_type": "execute_result"
    }
   ],
   "source": [
    "with gr.Blocks() as rag_demo:\n",
    "    gr.Markdown(\"# RAG Demo\")\n",
    "    chatbot = gr.Chatbot(height=300)\n",
    "    textbox = gr.Textbox(placeholder=\"Enter query here\", scale=5)\n",
    "    clear_btn = gr.Button(\"Clear\")\n",
    "    undo_btn = gr.Button(\"Undo\")\n",
    "    retry_btn = gr.Button(\"Retry\")\n",
    "    submit_btn = gr.Button(\"Submit\")\n",
    "    \n",
    "    # Submit işlemi\n",
    "    def submit(user_query, chat_history):\n",
    "        response = llm_response(user_query)\n",
    "        chat_history.append((user_query, response))\n",
    "        return chat_history, \"\"\n",
    "    \n",
    "    # Undo işlemi\n",
    "    def undo(chat_history):\n",
    "        if chat_history:\n",
    "            chat_history.pop()\n",
    "        return chat_history\n",
    "    \n",
    "    # Clear işlemi\n",
    "    def clear():\n",
    "        return [], \"\"\n",
    "\n",
    "    # Bağlantılar\n",
    "    submit_btn.click(submit, inputs=[textbox, chatbot], outputs=[chatbot, textbox])\n",
    "    undo_btn.click(undo, inputs=chatbot, outputs=chatbot)\n",
    "    clear_btn.click(clear, outputs=[chatbot, textbox])\n",
    "\n",
    "rag_demo.launch()"
   ]
  },
  {
   "cell_type": "code",
   "execution_count": null,
   "metadata": {},
   "outputs": [],
   "source": [
    "custom_rag_chain.invoke()"
   ]
  },
  {
   "cell_type": "code",
   "execution_count": 42,
   "metadata": {},
   "outputs": [],
   "source": [
    "from langchain.prompts.chat import ChatPromptTemplate, MessagesPlaceholder\n",
    "\n",
    "contextualised_system_prompt = (\n",
    "    \"Given a chat history and the latest user question \"\n",
    "    \"which might reference context in the chat history, \"\n",
    "    \"formulate a standalone question which can be understood \"\n",
    "    \"without the chat history. Do NOT answer the question, \"\n",
    "    \"just reformulate it if needed and otherwise return it as is.\"\n",
    ")\n",
    "\n",
    "contextualised_template = ChatPromptTemplate.from_messages(\n",
    "    [\n",
    "        (\"system\", contextualised_system_prompt),\n",
    "        MessagesPlaceholder(\"chat_history\"),\n",
    "        (\"human\", \"{input}\")\n",
    "    ]\n",
    ")"
   ]
  },
  {
   "cell_type": "code",
   "execution_count": 43,
   "metadata": {},
   "outputs": [],
   "source": [
    "#create history\n",
    "from langchain.chains import create_history_aware_retriever\n",
    "\n",
    "history_aware_retriever = create_history_aware_retriever(llm, retriever, contextualised_template)"
   ]
  },
  {
   "cell_type": "code",
   "execution_count": 44,
   "metadata": {},
   "outputs": [],
   "source": [
    "#create_system_prompt\n",
    "\n",
    "#prompt template\n",
    "\n",
    "system_prompt_tmeplate = \"\"\" You are an expert assistant specialized in answering questions related to e-commerce datas. Please analyze the e-commerce data and provide a clear and accurate answer accurately\n",
    "\n",
    "Guidlines:\n",
    "1. Review the data and respond based on the information requested\n",
    "2. If the question is beyond your knowledge or the information provided, say \"I don't know.\" \n",
    "3. Be specific in your responses\n",
    "4. Use a professional and helpful tone.\n",
    "\n",
    "Context : {context}\n",
    "\n",
    "\"\"\"\n",
    "\n",
    "\n",
    "system_prompt_tmeplate = ChatPromptTemplate.from_messages(\n",
    "    [\n",
    "        (\"system\", system_prompt_tmeplate),\n",
    "        MessagesPlaceholder(\"chat_history\"),\n",
    "        (\"human\", \"{input}\")\n",
    "    ]\n",
    ")\n",
    "\n"
   ]
  },
  {
   "cell_type": "code",
   "execution_count": 45,
   "metadata": {},
   "outputs": [],
   "source": [
    "# create questions answer chain rag chain\n",
    "from langchain.chains.combine_documents import create_stuff_documents_chain\n",
    "from langchain.chains import create_retrieval_chain\n",
    "\n",
    "question_answer_chain = create_stuff_documents_chain(llm, system_prompt_tmeplate)\n",
    "rag_chain = create_retrieval_chain( history_aware_retriever, question_answer_chain) #runnable\n",
    "\n"
   ]
  },
  {
   "cell_type": "code",
   "execution_count": 46,
   "metadata": {},
   "outputs": [],
   "source": [
    "#managing chat history\n",
    "from langchain_core.chat_history import BaseChatMessageHistory\n",
    "from langchain_community.chat_message_histories import ChatMessageHistory\n",
    "from langchain_core.runnables.history import RunnableWithMessageHistory\n",
    "store = {}\n",
    "\n",
    "def get_session_history(session_id: str) -> BaseChatMessageHistory:\n",
    "    if session_id not in store:\n",
    "        store[session_id] = ChatMessageHistory()\n",
    "\n",
    "\n",
    "    return store[session_id]\n",
    "\n",
    "conversational_rag_chain = RunnableWithMessageHistory(\n",
    "    rag_chain,\n",
    "    get_session_history,\n",
    "    input_messages_key=\"input\",\n",
    "    history_messages_key=\"chat_history\",\n",
    "    output_messages_key=\"answer\"\n",
    ")"
   ]
  },
  {
   "cell_type": "code",
   "execution_count": 47,
   "metadata": {},
   "outputs": [],
   "source": [
    "import pprint\n",
    "\n",
    "def conversational_chain(query):\n",
    "    answer = conversational_rag_chain.invoke(\n",
    "        {\"input\": query},\n",
    "        config={\n",
    "            \"configurable\": {\"session_id\": \"MySessionId0001\"}     \n",
    "        }\n",
    "    )\n",
    "    pprint.pprint(answer)\n",
    "    return answer"
   ]
  },
  {
   "cell_type": "code",
   "execution_count": 52,
   "metadata": {},
   "outputs": [
    {
     "name": "stdout",
     "output_type": "stream",
     "text": [
      "{'answer': 'User Jason Martinez has placed two orders.',\n",
      " 'chat_history': [HumanMessage(content='who bougth a jean?', additional_kwargs={}, response_metadata={}),\n",
      "                  AIMessage(content='The following users bought jeans:\\n\\n1. Calvin Harrell ordered Straight Jeans (White) (Clothing) on 2025-01-01 14:14:32\\n2. Cheryl Fuller ordered Mom Jeans (Brown) (Clothing) and Wool Coat (Yellow) (Clothing) on 2024-12-30 10:24:10\\n3. Allison Roberts ordered Jeans (Pink) (Clothing) on 2025-01-01 14:16:41\\n4. Diana Nunez ordered Mom Jeans (Brown) (Clothing) and Short Sleeve Shirt (Purple) (Clothing) on 2025-01-01 14:14:17\\n5. Kylie Hughes ordered Wool Coat (Pink) (Clothing) on 2025-01-01 14:13:50\\n6. Carrie Williams ordered Men Blazer (Pink) (Clothing) on 2025-01-01 14:15:11\\n7. Amy Walker ordered Plus Size Coat (Blue) (Clothing) on 2025-01-01 14:12:15\\n8. Kathleen Miller ordered V-neck T-shirt (Brown) (Clothing) on 2025-01-01 14:14:55\\n9. Jacob Fischer ordered Plus Size Coat (Green) (Clothing) on 2025-01-01 14:16:55\\n10. Joseph Guzman ordered Wool Sweater (White) (Clothing) on 2025-01-01 14:15:16\\n11. Kylie Hughes ordered Waterproof Coat (Blue) (Clothing) on 2025-01-01 14:15:54\\n12. Patricia Dudley ordered Waterproof Coat (Orange) (Clothing) on 2025-01-01 14:13:01\\n13. Leslie Huber ordered Wool Coat (Yellow) (Clothing) on 2025-01-01 14:15:38\\n14. Elizabeth Murphy ordered Wool Coat (Pink) (Clothing) on 2025-01-01 13:06:28\\n15. Michael Myers ordered Wool Coat (Yellow) (Clothing) on 2025-01-01 14:13:18\\n16. April Brown ordered Wool Coat (Black) (Clothing) on 2024-12-30 10:24:15\\n17. Katherine Williams ordered Wool Coat (Yellow) (Clothing) on 2025-01-01 14:11:24\\n18. Mrs. Sabrina Delgado MD ordered Wool Coat (Black) (Clothing) on 2025-01-01 14:13:26\\n\\nThese are the users who bought jeans from the e-commerce platform.', additional_kwargs={}, response_metadata={}),\n",
      "                  HumanMessage(content='How many orders has User Calvin Harrell placed?', additional_kwargs={}, response_metadata={}),\n",
      "                  AIMessage(content='User Calvin Harrell has placed one order. He ordered Straight Jeans (White) (Clothing), Daisy (Red) (Flower Type), and Orchid (Pink) (Flower Type) on 2025-01-01 14:14:32.', additional_kwargs={}, response_metadata={}),\n",
      "                  HumanMessage(content='How many orders has User Jason Martinez placed?', additional_kwargs={}, response_metadata={}),\n",
      "                  AIMessage(content='User Jason Martinez has placed two orders. \\n\\n1. Jason Martinez ordered Shampoo (Yellow) (Personal Care) and Knife Set (Red) (Home Goods) on 2025-01-01 13:06:45.\\n2. Jason Martinez ordered Ring (Orange) (Jewelry), Women Blazer (Yellow) (Clothing), Knife Set (Red) (Home Goods), and Curtain (Brown) (Home Goods) on 2025-01-01 14:11:49.', additional_kwargs={}, response_metadata={}),\n",
      "                  HumanMessage(content='How many orders has User Jason Martinez placed?', additional_kwargs={}, response_metadata={}),\n",
      "                  AIMessage(content='User Jason Martinez has placed two orders.', additional_kwargs={}, response_metadata={})],\n",
      " 'context': [Document(id='ecf1643d-33cd-4552-87b6-dddc3fa11ef4', metadata={'categories': ['Personal Care', 'Home Goods'], 'order_date': '2025-01-01 13:06:45', 'products': ['Shampoo (Yellow)', 'Knife Set (Red)'], 'user_id': 404.0, 'user_name': 'Jason Martinez'}, page_content='User Jason Martinez ordered Shampoo (Yellow) (Personal Care) and Knife Set (Red) (Home Goods) on 2025-01-01 13:06:45'),\n",
      "             Document(id='4ea48799-fac8-4f76-ad56-63fe2f9288fa', metadata={'categories': ['Clothing'], 'order_date': '2025-01-01 14:12:52', 'products': ['Shirt (Purple)'], 'user_id': 462.0, 'user_name': 'Thomas Campos'}, page_content='User Thomas Campos ordered Shirt (Purple) (Clothing) on 2025-01-01 14:12:52'),\n",
      "             Document(id='01e11017-2050-442a-9535-ec247467df47', metadata={'categories': ['Electronics', 'Home Goods', 'Jewelry'], 'order_date': '2024-12-30 10:23:58', 'products': ['Smartphone (Purple)', 'Pitcher (Purple)', 'Necklace (Blue)'], 'user_id': 377.0, 'user_name': 'Thomas Cooper'}, page_content='User Thomas Cooper ordered Smartphone (Purple) (Electronics) and Pitcher (Purple) (Home Goods) and Necklace (Blue) (Jewelry) on 2024-12-30 10:23:58'),\n",
      "             Document(id='fad297fd-e32b-4ed4-9709-396f1b160918', metadata={'categories': ['Flower Type', 'Clothing', 'Electronics'], 'order_date': '2025-01-01 14:10:37', 'products': ['Orchid (Brown)', 'T-shirt (Orange)', 'Laptop (Brown)'], 'user_id': 347.0, 'user_name': 'John Rodriguez'}, page_content='User John Rodriguez ordered Orchid (Brown) (Flower Type) and T-shirt (Orange) (Clothing) and Laptop (Brown) (Electronics) on 2025-01-01 14:10:37'),\n",
      "             Document(id='cde1f099-1c79-4b61-8870-572129b9da8d', metadata={'categories': ['Home Goods', 'Jewelry'], 'order_date': '2025-01-01 14:14:01', 'products': ['Carpet (Pink)', 'Ring (Blue)'], 'user_id': 385.0, 'user_name': 'John Perry'}, page_content='User John Perry ordered Carpet (Pink) (Home Goods) and Ring (Blue) (Jewelry) on 2025-01-01 14:14:01'),\n",
      "             Document(id='1b7802fd-53bc-45f6-af5e-370d25a3fe94', metadata={'categories': ['Clothing', 'Jewelry'], 'order_date': '2025-01-01 14:15:41', 'products': ['Winter Coat (Blue)', 'Bracelet (Blue)'], 'user_id': 403.0, 'user_name': 'Shane Lang'}, page_content='User Shane Lang ordered Winter Coat (Blue) (Clothing) and Bracelet (Blue) (Jewelry) on 2025-01-01 14:15:41'),\n",
      "             Document(id='998c41f0-314d-4b25-b6ab-9976f686da79', metadata={'categories': ['Jewelry', 'Electronics', 'Personal Care', 'Home Goods'], 'order_date': '2025-01-01 14:13:36', 'products': ['Earrings (Purple)', 'keyword (Pink)', 'Shampoo (Yellow)', 'Knife Set (Orange)'], 'user_id': 460.0, 'user_name': 'Kevin Bird'}, page_content='User Kevin Bird ordered Earrings (Purple) (Jewelry) and keyword (Pink) (Electronics) and Shampoo (Yellow) (Personal Care) and Knife Set (Orange) (Home Goods) on 2025-01-01 14:13:36'),\n",
      "             Document(id='19817fbc-14c1-418a-bdbb-c05a5cfb5980', metadata={'categories': ['Jewelry', 'Clothing', 'Home Goods', 'Home Goods'], 'order_date': '2025-01-01 14:11:49', 'products': ['Ring (Orange)', 'Women Blazer (Yellow)', 'Knife Set (Red)', 'Curtain (Brown)'], 'user_id': 404.0, 'user_name': 'Jason Martinez'}, page_content='User Jason Martinez ordered Ring (Orange) (Jewelry) and Women Blazer (Yellow) (Clothing) and Knife Set (Red) (Home Goods) and Curtain (Brown) (Home Goods) on 2025-01-01 14:11:49'),\n",
      "             Document(id='7d6c4a8c-dcae-42ee-94ca-209cbcbfaa09', metadata={'categories': ['Home Goods', 'Electronics'], 'order_date': '2025-01-01 14:14:51', 'products': ['Carpet (Orange)', 'Powerbank (Pink)'], 'user_id': 443.0, 'user_name': 'Shane Walker'}, page_content='User Shane Walker ordered Carpet (Orange) (Home Goods) and Powerbank (Pink) (Electronics) on 2025-01-01 14:14:51'),\n",
      "             Document(id='5adafd15-f577-45f6-aeef-dde726e6320b', metadata={'categories': ['Jewelry', 'Personal Care'], 'order_date': '2025-01-01 13:06:42', 'products': ['Earrings (Blue)', 'Toothbrush (Black)'], 'user_id': 452.0, 'user_name': 'Jorge Wright'}, page_content='User Jorge Wright ordered Earrings (Blue) (Jewelry) and Toothbrush (Black) (Personal Care) on 2025-01-01 13:06:42'),\n",
      "             Document(id='01a7b7c8-02a7-4f1f-9115-b5cde144760b', metadata={'categories': ['Electronics', 'Personal Care', 'Jewelry'], 'order_date': '2025-01-01 14:10:50', 'products': ['mouse (White)', 'Perfume (Purple)', 'Ring (Green)'], 'user_id': 481.0, 'user_name': 'Andrew Castillo DDS'}, page_content='User Andrew Castillo DDS ordered mouse (White) (Electronics) and Perfume (Purple) (Personal Care) and Ring (Green) (Jewelry) on 2025-01-01 14:10:50'),\n",
      "             Document(id='7fba87a3-31a4-4cf3-a313-43cdab377bd5', metadata={'categories': ['Home Goods'], 'order_date': '2025-01-01 13:06:59', 'products': ['Pitcher (Purple)'], 'user_id': 348.0, 'user_name': 'Christina Martinez'}, page_content='User Christina Martinez ordered Pitcher (Purple) (Home Goods) on 2025-01-01 13:06:59'),\n",
      "             Document(id='e4953100-c17b-41e1-ba95-0cb66de47485', metadata={'categories': ['Electronics', 'Jewelry', 'Clothing', 'Home Goods'], 'order_date': '2025-01-01 14:12:29', 'products': ['mouse (Pink)', 'Ring (Red)', 'Patterned Shirt (Pink)', 'Pot (Blue)'], 'user_id': 481.0, 'user_name': 'Andrew Castillo DDS'}, page_content='User Andrew Castillo DDS ordered mouse (Pink) (Electronics) and Ring (Red) (Jewelry) and Patterned Shirt (Pink) (Clothing) and Pot (Blue) (Home Goods) on 2025-01-01 14:12:29'),\n",
      "             Document(id='b3578991-f9dd-4e5d-a4e7-b33ab5b1d567', metadata={'categories': ['Home Goods', 'Electronics'], 'order_date': '2025-01-01 14:12:02', 'products': ['Table Clock (Orange)', 'Smartphone (Blue)'], 'user_id': 431.0, 'user_name': 'Derek Holt'}, page_content='User Derek Holt ordered Table Clock (Orange) (Home Goods) and Smartphone (Blue) (Electronics) on 2025-01-01 14:12:02'),\n",
      "             Document(id='6d280170-b34c-48cb-bdd8-5c6920cbcb4c', metadata={'categories': ['Jewelry', 'Clothing'], 'order_date': '2025-01-01 14:12:45', 'products': ['Ring (Blue)', 'Plus Size Coat (Green)'], 'user_id': 420.0, 'user_name': 'Steven York'}, page_content='User Steven York ordered Ring (Blue) (Jewelry) and Plus Size Coat (Green) (Clothing) on 2025-01-01 14:12:45'),\n",
      "             Document(id='f3266447-69a0-4f19-a17d-2c335c6399bd', metadata={'categories': ['Electronics', 'Flower Type'], 'order_date': '2025-01-01 14:10:55', 'products': ['Laptop (Purple)', 'Cactus (White)'], 'user_id': 347.0, 'user_name': 'John Rodriguez'}, page_content='User John Rodriguez ordered Laptop (Purple) (Electronics) and Cactus (White) (Flower Type) on 2025-01-01 14:10:55'),\n",
      "             Document(id='efd3936f-2ba8-4cd2-84e5-ba672be35f00', metadata={'categories': ['Clothing', 'Electronics'], 'order_date': '2025-01-01 14:11:39', 'products': ['Plus Size Coat (Blue)', 'mouse (White)'], 'user_id': 452.0, 'user_name': 'Jorge Wright'}, page_content='User Jorge Wright ordered Plus Size Coat (Blue) (Clothing) and mouse (White) (Electronics) on 2025-01-01 14:11:39'),\n",
      "             Document(id='b7513e2b-c558-4ca0-81e4-ade5eb3776c4', metadata={'categories': ['Jewelry', 'Home Goods', 'Clothing', 'Personal Care'], 'order_date': '2024-12-30 10:24:03', 'products': ['Ring (Blue)', 'Table Clock (Black)', 'Straight Jeans (Purple)', 'Shampoo (Blue)'], 'user_id': 438.0, 'user_name': 'Jeremy Taylor'}, page_content='User Jeremy Taylor ordered Ring (Blue) (Jewelry) and Table Clock (Black) (Home Goods) and Straight Jeans (Purple) (Clothing) and Shampoo (Blue) (Personal Care) on 2024-12-30 10:24:03'),\n",
      "             Document(id='43181f76-ecf3-477f-b1fd-ae0f633a9cc0', metadata={'categories': ['Electronics', 'Clothing'], 'order_date': '2025-01-01 14:16:55', 'products': ['Smartwatch (Pink)', 'Plus Size Coat (Green)'], 'user_id': 346.0, 'user_name': 'Jacob Fischer'}, page_content='User Jacob Fischer ordered Smartwatch (Pink) (Electronics) and Plus Size Coat (Green) (Clothing) on 2025-01-01 14:16:55'),\n",
      "             Document(id='11514c3b-d2b0-4916-8d81-92ec23717d61', metadata={'categories': ['Jewelry', 'Personal Care', 'Personal Care', 'Electronics', 'Flower Type'], 'order_date': '2025-01-01 14:13:45', 'products': ['Bracelet (Black)', 'Toothbrush (Pink)', 'Perfume (Purple)', 'Laptop (Red)', 'Rose (Blue)'], 'user_id': 465.0, 'user_name': 'Michael Myers'}, page_content='User Michael Myers ordered Bracelet (Black) (Jewelry) and Toothbrush (Pink) (Personal Care) and Perfume (Purple) (Personal Care) and Laptop (Red) (Electronics) and Rose (Blue) (Flower Type) on 2025-01-01 14:13:45'),\n",
      "             Document(id='5d15da0b-5494-4920-9d96-31b3d49f369f', metadata={'categories': ['Clothing', 'Personal Care', 'Electronics'], 'order_date': '2025-01-01 14:16:41', 'products': ['Jeans (Pink)', 'Perfume (Purple)', 'Smartphone (Blue)'], 'user_id': 422.0, 'user_name': 'Allison Roberts'}, page_content='User Allison Roberts ordered Jeans (Pink) (Clothing) and Perfume (Purple) (Personal Care) and Smartphone (Blue) (Electronics) on 2025-01-01 14:16:41'),\n",
      "             Document(id='c1dbb275-675c-410f-b664-79638fa72075', metadata={'categories': ['Home Goods', 'Flower Type', 'Personal Care', 'Clothing'], 'order_date': '2025-01-01 14:13:31', 'products': ['Food Processor (Orange)', 'Tulip (White)', 'Perfume (Yellow)', 'Winter Coat (Green)'], 'user_id': 363.0, 'user_name': 'Michael Davies'}, page_content='User Michael Davies ordered Food Processor (Orange) (Home Goods) and Tulip (White) (Flower Type) and Perfume (Yellow) (Personal Care) and Winter Coat (Green) (Clothing) on 2025-01-01 14:13:31'),\n",
      "             Document(id='efbc5214-dfbf-49de-96cd-7c86e6975eda', metadata={'categories': ['Home Goods', 'Electronics'], 'order_date': '2025-01-01 14:14:21', 'products': ['Food Processor (Brown)', 'Laptop (Yellow)'], 'user_id': 495.0, 'user_name': 'Felicia Jones'}, page_content='User Felicia Jones ordered Food Processor (Brown) (Home Goods) and Laptop (Yellow) (Electronics) on 2025-01-01 14:14:21'),\n",
      "             Document(id='f7f30b23-0e6b-449c-90bb-815d1d3fc10a', metadata={'categories': ['Home Goods', 'Personal Care', 'Flower Type'], 'order_date': '2024-12-30 10:24:46', 'products': ['Table Clock (Black)', 'Perfume (Yellow)', 'Succulent (Brown)'], 'user_id': 459.0, 'user_name': 'Daniel Taylor'}, page_content='User Daniel Taylor ordered Table Clock (Black) (Home Goods) and Perfume (Yellow) (Personal Care) and Succulent (Brown) (Flower Type) on 2024-12-30 10:24:46'),\n",
      "             Document(id='f83ead54-fdc2-4bb1-bab6-d1d45a2f231b', metadata={'categories': ['Jewelry'], 'order_date': '2025-01-01 14:16:15', 'products': ['Ring (Orange)'], 'user_id': 480.0, 'user_name': 'Jaime Vargas'}, page_content='User Jaime Vargas ordered Ring (Orange) (Jewelry) on 2025-01-01 14:16:15'),\n",
      "             Document(id='72a9cd90-5505-4594-aad9-4292c1298469', metadata={'categories': ['Clothing', 'Electronics', 'Jewelry', 'Clothing'], 'order_date': '2025-01-01 14:11:28', 'products': ['Winter Coat (Green)', 'Smartphone (Blue)', 'Earrings (Green)', 'Women Blazer (Yellow)'], 'user_id': 481.0, 'user_name': 'Andrew Castillo DDS'}, page_content='User Andrew Castillo DDS ordered Winter Coat (Green) (Clothing) and Smartphone (Blue) (Electronics) and Earrings (Green) (Jewelry) and Women Blazer (Yellow) (Clothing) on 2025-01-01 14:11:28'),\n",
      "             Document(id='1bf7c049-87b0-4d5d-be4e-8df5c13b861d', metadata={'categories': ['Electronics', 'Home Goods'], 'order_date': '2025-01-01 14:12:56', 'products': ['Smartphone (Blue)', 'Food Processor (Purple)'], 'user_id': 398.0, 'user_name': 'Mr. Joseph Taylor'}, page_content='User Mr. Joseph Taylor ordered Smartphone (Blue) (Electronics) and Food Processor (Purple) (Home Goods) on 2025-01-01 14:12:56'),\n",
      "             Document(id='17840261-0466-4cea-9be0-db94dc19dbb2', metadata={'categories': ['Clothing', 'Jewelry'], 'order_date': '2025-01-01 14:11:54', 'products': ['Wool Coat (Black)', 'Necklace (Blue)'], 'user_id': 455.0, 'user_name': 'Ryan Cummings'}, page_content='User Ryan Cummings ordered Wool Coat (Black) (Clothing) and Necklace (Blue) (Jewelry) on 2025-01-01 14:11:54'),\n",
      "             Document(id='a23216be-61f9-4b21-97c8-a259c53d9f47', metadata={'categories': ['Electronics', 'Flower Type'], 'order_date': '2025-01-01 14:13:04', 'products': ['Laptop (Blue)', 'Tulip (White)'], 'user_id': 489.0, 'user_name': 'Patrick Sellers'}, page_content='User Patrick Sellers ordered Laptop (Blue) (Electronics) and Tulip (White) (Flower Type) on 2025-01-01 14:13:04'),\n",
      "             Document(id='93cd7556-6e93-488b-a850-21afe83d389e', metadata={'categories': ['Home Goods', 'Clothing'], 'order_date': '2025-01-01 13:06:28', 'products': ['Lamp (Brown)', 'Wool Coat (Pink)'], 'user_id': 439.0, 'user_name': 'Elizabeth Murphy'}, page_content='User Elizabeth Murphy ordered Lamp (Brown) (Home Goods) and Wool Coat (Pink) (Clothing) on 2025-01-01 13:06:28'),\n",
      "             Document(id='49050f6d-f618-4582-9036-08b5ebed3b38', metadata={'categories': ['Clothing', 'Personal Care', 'Jewelry', 'Jewelry'], 'order_date': '2025-01-01 14:11:31', 'products': ['Wool Sweater (Black)', 'Body Lotion (White)', 'Necklace (Purple)', 'Necklace (White)'], 'user_id': 472.0, 'user_name': 'Alexandria Mcdonald'}, page_content='User Alexandria Mcdonald ordered Wool Sweater (Black) (Clothing) and Body Lotion (White) (Personal Care) and Necklace (Purple) (Jewelry) and Necklace (White) (Jewelry) on 2025-01-01 14:11:31'),\n",
      "             Document(id='71fc349e-adb8-42b7-b4dc-df21eca3f982', metadata={'categories': ['Electronics', 'Jewelry'], 'order_date': '2025-01-01 13:06:50', 'products': ['Laptop (Red)', 'Necklace (Purple)'], 'user_id': 389.0, 'user_name': 'Andrea Young'}, page_content='User Andrea Young ordered Laptop (Red) (Electronics) and Necklace (Purple) (Jewelry) on 2025-01-01 13:06:50'),\n",
      "             Document(id='9cd3ef6c-a166-46b6-9384-310fd96c1ddd', metadata={'categories': ['Home Goods', 'Jewelry', 'Home Goods', 'Clothing', 'Clothing'], 'order_date': '2025-01-01 14:14:17', 'products': ['Pitcher (Purple)', 'Necklace (Yellow)', 'Pot (Purple)', 'Mom Jeans (Brown)', 'Short Sleeve Shirt (Purple)'], 'user_id': 466.0, 'user_name': 'Diana Nunez'}, page_content='User Diana Nunez ordered Pitcher (Purple) (Home Goods) and Necklace (Yellow) (Jewelry) and Pot (Purple) (Home Goods) and Mom Jeans (Brown) (Clothing) and Short Sleeve Shirt (Purple) (Clothing) on 2025-01-01 14:14:17'),\n",
      "             Document(id='d2bcff40-8880-4103-a5ba-9d2311fb9f92', metadata={'categories': ['Clothing', 'Flower Type'], 'order_date': '2025-01-01 14:16:27', 'products': ['Shirt (Purple)', 'Orchid (Brown)'], 'user_id': 439.0, 'user_name': 'Elizabeth Murphy'}, page_content='User Elizabeth Murphy ordered Shirt (Purple) (Clothing) and Orchid (Brown) (Flower Type) on 2025-01-01 14:16:27'),\n",
      "             Document(id='e09224a1-ce43-4432-be72-3d3812e193ec', metadata={'categories': ['Electronics', 'Home Goods'], 'order_date': '2025-01-01 14:11:10', 'products': ['mouse (Black)', 'Curtain (White)'], 'user_id': 359.0, 'user_name': 'Henry Rivera'}, page_content='User Henry Rivera ordered mouse (Black) (Electronics) and Curtain (White) (Home Goods) on 2025-01-01 14:11:10'),\n",
      "             Document(id='ac708d12-c4af-4502-a73a-e2816df44109', metadata={'categories': ['Jewelry', 'Electronics', 'Flower Type'], 'order_date': '2025-01-01 14:12:11', 'products': ['Necklace (Blue)', 'Powerbank (Brown)', 'Succulent (Black)'], 'user_id': 346.0, 'user_name': 'Jacob Fischer'}, page_content='User Jacob Fischer ordered Necklace (Blue) (Jewelry) and Powerbank (Brown) (Electronics) and Succulent (Black) (Flower Type) on 2025-01-01 14:12:11'),\n",
      "             Document(id='1275fb19-b1e4-4265-b27b-673968b8a622', metadata={'categories': ['Home Goods', 'Personal Care', 'Jewelry'], 'order_date': '2024-12-30 10:24:25', 'products': ['Pot (White)', 'Toothbrush (Brown)', 'Necklace (Orange)'], 'user_id': 453.0, 'user_name': 'Carl Smith'}, page_content='User Carl Smith ordered Pot (White) (Home Goods) and Toothbrush (Brown) (Personal Care) and Necklace (Orange) (Jewelry) on 2024-12-30 10:24:25'),\n",
      "             Document(id='f64ac4b6-0156-4dfd-a372-814e890eeb2d', metadata={'categories': ['Home Goods', 'Electronics', 'Home Goods', 'Flower Type'], 'order_date': '2025-01-01 14:14:36', 'products': ['Pot (Orange)', 'Bluetooth Headset (Yellow)', 'Table Clock (White)', 'Cactus (Pink)'], 'user_id': 521.0, 'user_name': 'John Mcdonald'}, page_content='User John Mcdonald ordered Pot (Orange) (Home Goods) and Bluetooth Headset (Yellow) (Electronics) and Table Clock (White) (Home Goods) and Cactus (Pink) (Flower Type) on 2025-01-01 14:14:36'),\n",
      "             Document(id='f82b77dc-0f3d-4aa0-b1e8-6ff7e60924a8', metadata={'categories': ['Clothing'], 'order_date': '2025-01-01 14:15:21', 'products': ['Mom Jeans (Black)'], 'user_id': 487.0, 'user_name': 'Matthew Miller'}, page_content='User Matthew Miller ordered Mom Jeans (Black) (Clothing) on 2025-01-01 14:15:21'),\n",
      "             Document(id='e34fac7d-4974-450a-bcd3-3d3ccf93f00e', metadata={'categories': ['Clothing', 'Flower Type', 'Home Goods'], 'order_date': '2025-01-01 14:10:45', 'products': ['Wool Sweater (White)', 'Succulent (Yellow)', 'Food Processor (Brown)'], 'user_id': 387.0, 'user_name': 'Jeffery Johnson'}, page_content='User Jeffery Johnson ordered Wool Sweater (White) (Clothing) and Succulent (Yellow) (Flower Type) and Food Processor (Brown) (Home Goods) on 2025-01-01 14:10:45'),\n",
      "             Document(id='546b4a79-0baf-4e4c-9938-7173690e8f4f', metadata={'categories': ['Personal Care', 'Personal Care', 'Electronics', 'Home Goods'], 'order_date': '2025-01-01 14:11:34', 'products': ['Perfume (Blue)', 'Shampoo (Orange)', 'Bluetooth Headset (Black)', 'Lamp (Brown)'], 'user_id': 452.0, 'user_name': 'Jorge Wright'}, page_content='User Jorge Wright ordered Perfume (Blue) (Personal Care) and Shampoo (Orange) (Personal Care) and Bluetooth Headset (Black) (Electronics) and Lamp (Brown) (Home Goods) on 2025-01-01 14:11:34'),\n",
      "             Document(id='c05f76b2-26e7-4330-ab65-9e21c0ba1238', metadata={'categories': ['Personal Care', 'Flower Type', 'Clothing', 'Personal Care'], 'order_date': '2025-01-01 14:15:50', 'products': ['Toothbrush (Black)', 'Ficus (Orange)', 'Straight Jeans (White)', 'Body Lotion (White)'], 'user_id': 517.0, 'user_name': 'Paul Richards'}, page_content='User Paul Richards ordered Toothbrush (Black) (Personal Care) and Ficus (Orange) (Flower Type) and Straight Jeans (White) (Clothing) and Body Lotion (White) (Personal Care) on 2025-01-01 14:15:50'),\n",
      "             Document(id='791d9e28-2fb2-4575-acbf-bd5201e46f9f', metadata={'categories': ['Home Goods', 'Electronics', 'Home Goods'], 'order_date': '2025-01-01 14:10:28', 'products': ['Table Clock (White)', 'Smartphone (Red)', 'Pitcher (Brown)'], 'user_id': 387.0, 'user_name': 'Jeffery Johnson'}, page_content='User Jeffery Johnson ordered Table Clock (White) (Home Goods) and Smartphone (Red) (Electronics) and Pitcher (Brown) (Home Goods) on 2025-01-01 14:10:28'),\n",
      "             Document(id='d0b6d75c-9714-44e8-ad5f-b614ee6f2aee', metadata={'categories': ['Personal Care', 'Clothing', 'Personal Care', 'Home Goods', 'Electronics'], 'order_date': '2024-12-30 10:24:28', 'products': ['Body Lotion (Purple)', 'Straight Jeans (Purple)', 'Perfume (Green)', 'Lamp (Black)', 'keyword (Yellow)'], 'user_id': 366.0, 'user_name': 'Jacqueline Johnson'}, page_content='User Jacqueline Johnson ordered Body Lotion (Purple) (Personal Care) and Straight Jeans (Purple) (Clothing) and Perfume (Green) (Personal Care) and Lamp (Black) (Home Goods) and keyword (Yellow) (Electronics) on 2024-12-30 10:24:28'),\n",
      "             Document(id='1eba1520-5e2f-4842-b717-c30df8138972', metadata={'categories': ['Flower Type', 'Personal Care', 'Flower Type', 'Home Goods', 'Clothing'], 'order_date': '2025-01-01 14:15:26', 'products': ['Cactus (Orange)', 'Perfume (White)', 'Begonia (Yellow)', 'Pot (Green)', 'Women Blazer (White)'], 'user_id': 460.0, 'user_name': 'Kevin Bird'}, page_content='User Kevin Bird ordered Cactus (Orange) (Flower Type) and Perfume (White) (Personal Care) and Begonia (Yellow) (Flower Type) and Pot (Green) (Home Goods) and Women Blazer (White) (Clothing) on 2025-01-01 14:15:26'),\n",
      "             Document(id='9fa3a35b-5ad9-4ad9-ab4a-12efa7232b25', metadata={'categories': ['Electronics', 'Personal Care'], 'order_date': '2025-01-01 14:16:18', 'products': ['Smartwatch (Pink)', 'Toothbrush (Yellow)'], 'user_id': 382.0, 'user_name': 'Bryan Chavez'}, page_content='User Bryan Chavez ordered Smartwatch (Pink) (Electronics) and Toothbrush (Yellow) (Personal Care) on 2025-01-01 14:16:18'),\n",
      "             Document(id='4ed2b554-d06c-4eae-a94a-75192bff93e4', metadata={'categories': ['Personal Care', 'Home Goods', 'Electronics'], 'order_date': '2025-01-01 14:09:48', 'products': ['Shampoo (Orange)', 'Carpet (Blue)', 'Laptop (Orange)'], 'user_id': 429.0, 'user_name': 'Holly Lee'}, page_content='User Holly Lee ordered Shampoo (Orange) (Personal Care) and Carpet (Blue) (Home Goods) and Laptop (Orange) (Electronics) on 2025-01-01 14:09:48'),\n",
      "             Document(id='ee80d500-22cc-4a26-a74e-47ebceb14601', metadata={'categories': ['Home Goods', 'Jewelry', 'Jewelry'], 'order_date': '2025-01-01 14:12:33', 'products': ['Lamp (Red)', 'Earrings (Purple)', 'Earrings (Blue)'], 'user_id': 444.0, 'user_name': 'Tiffany Chen'}, page_content='User Tiffany Chen ordered Lamp (Red) (Home Goods) and Earrings (Purple) (Jewelry) and Earrings (Blue) (Jewelry) on 2025-01-01 14:12:33'),\n",
      "             Document(id='bd0611f7-1894-457e-8760-3ffcbbad460a', metadata={'categories': ['Home Goods', 'Jewelry'], 'order_date': '2025-01-01 14:16:52', 'products': ['Pot (Orange)', 'Bracelet (Red)'], 'user_id': 469.0, 'user_name': 'Gail Mckinney'}, page_content='User Gail Mckinney ordered Pot (Orange) (Home Goods) and Bracelet (Red) (Jewelry) on 2025-01-01 14:16:52'),\n",
      "             Document(id='bc3e9004-8ea1-4af9-9500-2bdf170be418', metadata={'categories': ['Electronics', 'Personal Care', 'Jewelry'], 'order_date': '2025-01-01 14:15:35', 'products': ['Bluetooth Headset (Green)', 'Perfume (White)', 'Ring (Red)'], 'user_id': 510.0, 'user_name': 'Angela Guzman'}, page_content='User Angela Guzman ordered Bluetooth Headset (Green) (Electronics) and Perfume (White) (Personal Care) and Ring (Red) (Jewelry) on 2025-01-01 14:15:35'),\n",
      "             Document(id='b98553da-3992-423c-940c-8f0ca1055e83', metadata={'categories': ['Jewelry', 'Electronics', 'Flower Type', 'Home Goods'], 'order_date': '2024-12-30 10:24:49', 'products': ['Earrings (Purple)', 'Smartwatch (Blue)', 'Orchid (White)', 'Carpet (Pink)'], 'user_id': 378.0, 'user_name': 'Stephanie Fernandez'}, page_content='User Stephanie Fernandez ordered Earrings (Purple) (Jewelry) and Smartwatch (Blue) (Electronics) and Orchid (White) (Flower Type) and Carpet (Pink) (Home Goods) on 2024-12-30 10:24:49'),\n",
      "             Document(id='7c0d1951-9994-4bc6-a1aa-2fa0b7b5e717', metadata={'categories': ['Electronics', 'Flower Type', 'Electronics'], 'order_date': '2025-01-01 14:16:44', 'products': ['Laptop (Orange)', 'Ficus (White)', 'Smartphone (Brown)'], 'user_id': 508.0, 'user_name': 'Marcus Vazquez'}, page_content='User Marcus Vazquez ordered Laptop (Orange) (Electronics) and Ficus (White) (Flower Type) and Smartphone (Brown) (Electronics) on 2025-01-01 14:16:44'),\n",
      "             Document(id='bf328b95-56ba-48a5-b6e3-14966cb241ef', metadata={'categories': ['Jewelry', 'Clothing', 'Home Goods', 'Electronics', 'Clothing'], 'order_date': '2025-01-01 14:13:01', 'products': ['Bracelet (Black)', 'Waterproof Coat (Orange)', 'Food Processor (Purple)', 'Smartwatch (Blue)', 'Plus Size Coat (Brown)'], 'user_id': 449.0, 'user_name': 'Patricia Dudley'}, page_content='User Patricia Dudley ordered Bracelet (Black) (Jewelry) and Waterproof Coat (Orange) (Clothing) and Food Processor (Purple) (Home Goods) and Smartwatch (Blue) (Electronics) and Plus Size Coat (Brown) (Clothing) on 2025-01-01 14:13:01'),\n",
      "             Document(id='f13b9519-9fbb-4c10-9e1a-d38dc785af67', metadata={'categories': ['Clothing'], 'order_date': '2025-01-01 14:15:16', 'products': ['Wool Sweater (White)'], 'user_id': 471.0, 'user_name': 'Joseph Guzman'}, page_content='User Joseph Guzman ordered Wool Sweater (White) (Clothing) on 2025-01-01 14:15:16'),\n",
      "             Document(id='343bd047-462e-4992-bc4f-ce367ed156ec', metadata={'categories': ['Electronics'], 'order_date': '2025-01-01 14:11:20', 'products': ['Laptop (Orange)'], 'user_id': 356.0, 'user_name': 'Robert Leblanc'}, page_content='User Robert Leblanc ordered Laptop (Orange) (Electronics) on 2025-01-01 14:11:20'),\n",
      "             Document(id='8a2237c7-03fe-48fa-be88-9fb9b9dadf8f', metadata={'categories': ['Home Goods'], 'order_date': '2025-01-01 14:16:07', 'products': ['Lamp (Red)'], 'user_id': 472.0, 'user_name': 'Alexandria Mcdonald'}, page_content='User Alexandria Mcdonald ordered Lamp (Red) (Home Goods) on 2025-01-01 14:16:07'),\n",
      "             Document(id='dfb1b495-4881-4a9a-8ac9-af5f7d6169aa', metadata={'categories': ['Clothing', 'Electronics', 'Electronics', 'Jewelry'], 'order_date': '2025-01-01 14:11:02', 'products': ['Wool Coat (Yellow)', 'Bluetooth Headset (Red)', 'Bluetooth Headset (Purple)', 'Necklace (Green)'], 'user_id': 355.0, 'user_name': 'William Velasquez'}, page_content='User William Velasquez ordered Wool Coat (Yellow) (Clothing) and Bluetooth Headset (Red) (Electronics) and Bluetooth Headset (Purple) (Electronics) and Necklace (Green) (Jewelry) on 2025-01-01 14:11:02'),\n",
      "             Document(id='43ede347-8434-41b4-909e-45aa0755d497', metadata={'categories': ['Home Goods', 'Clothing', 'Clothing'], 'order_date': '2024-12-30 10:24:10', 'products': ['Knife Set (Orange)', 'Mom Jeans (Brown)', 'Wool Coat (Yellow)'], 'user_id': 350.0, 'user_name': 'Cheryl Fuller'}, page_content='User Cheryl Fuller ordered Knife Set (Orange) (Home Goods) and Mom Jeans (Brown) (Clothing) and Wool Coat (Yellow) (Clothing) on 2024-12-30 10:24:10'),\n",
      "             Document(id='ed829588-a1e7-4907-b0e4-8b725d9edbd2', metadata={'categories': ['Jewelry', 'Electronics'], 'order_date': '2025-01-01 13:06:36', 'products': ['Necklace (Orange)', 'Smartwatch (Pink)'], 'user_id': 445.0, 'user_name': 'Kylie Hughes'}, page_content='User Kylie Hughes ordered Necklace (Orange) (Jewelry) and Smartwatch (Pink) (Electronics) on 2025-01-01 13:06:36'),\n",
      "             Document(id='8640bcfd-2fab-4d9c-93f7-1de72a8ef010', metadata={'categories': ['Clothing', 'Home Goods'], 'order_date': '2025-01-01 14:12:42', 'products': ['Plus Size Coat (Brown)', 'Curtain (Yellow)'], 'user_id': 350.0, 'user_name': 'Cheryl Fuller'}, page_content='User Cheryl Fuller ordered Plus Size Coat (Brown) (Clothing) and Curtain (Yellow) (Home Goods) on 2025-01-01 14:12:42'),\n",
      "             Document(id='0e6c334f-e2a7-4e66-827f-c63f4eec5648', metadata={'categories': ['Jewelry'], 'order_date': '2025-01-01 14:10:59', 'products': ['Necklace (Purple)'], 'user_id': 431.0, 'user_name': 'Derek Holt'}, page_content='User Derek Holt ordered Necklace (Purple) (Jewelry) on 2025-01-01 14:10:59'),\n",
      "             Document(id='133d28ee-0d53-4247-9219-1128877fafa3', metadata={'categories': ['Clothing', 'Flower Type'], 'order_date': '2025-01-01 14:10:10', 'products': ['Plus Size Coat (Red)', 'Orchid (Brown)'], 'user_id': 459.0, 'user_name': 'Daniel Taylor'}, page_content='User Daniel Taylor ordered Plus Size Coat (Red) (Clothing) and Orchid (Brown) (Flower Type) on 2025-01-01 14:10:10'),\n",
      "             Document(id='6dd0462a-e876-408f-b58c-be53c98356e7', metadata={'categories': ['Personal Care', 'Clothing', 'Electronics', 'Clothing', 'Home Goods'], 'order_date': '2025-01-01 14:14:43', 'products': ['Body Lotion (White)', 'Wool Coat (Pink)', 'Smartphone (Red)', 'Plus Size Coat (Green)', 'Curtain (White)'], 'user_id': 345.0, 'user_name': 'Maria Alvarez'}, page_content='User Maria Alvarez ordered Body Lotion (White) (Personal Care) and Wool Coat (Pink) (Clothing) and Smartphone (Red) (Electronics) and Plus Size Coat (Green) (Clothing) and Curtain (White) (Home Goods) on 2025-01-01 14:14:43'),\n",
      "             Document(id='5b85b4a2-e35e-4fd3-8fff-a060648edeb0', metadata={'categories': ['Personal Care', 'Flower Type', 'Clothing', 'Home Goods', 'Flower Type'], 'order_date': '2025-01-01 14:10:01', 'products': ['Shampoo (Red)', 'Begonia (Blue)', 'Winter Coat (Green)', 'Lamp (Purple)', 'Daisy (Green)'], 'user_id': 450.0, 'user_name': 'John Stephens'}, page_content='User John Stephens ordered Shampoo (Red) (Personal Care) and Begonia (Blue) (Flower Type) and Winter Coat (Green) (Clothing) and Lamp (Purple) (Home Goods) and Daisy (Green) (Flower Type) on 2025-01-01 14:10:01'),\n",
      "             Document(id='e7e7f4bc-6ad5-470e-afb2-cc3366e03ddf', metadata={'categories': ['Personal Care', 'Home Goods', 'Electronics', 'Home Goods', 'Personal Care'], 'order_date': '2025-01-01 14:13:15', 'products': ['Perfume (Brown)', 'Food Processor (White)', 'mouse (Blue)', 'Carpet (Pink)', 'Shampoo (Brown)'], 'user_id': 486.0, 'user_name': 'Javier Wheeler'}, page_content='User Javier Wheeler ordered Perfume (Brown) (Personal Care) and Food Processor (White) (Home Goods) and mouse (Blue) (Electronics) and Carpet (Pink) (Home Goods) and Shampoo (Brown) (Personal Care) on 2025-01-01 14:13:15'),\n",
      "             Document(id='6ca5433b-15df-4a97-9892-c926768020c7', metadata={'categories': ['Personal Care'], 'order_date': '2024-12-30 10:24:42', 'products': ['Perfume (Purple)'], 'user_id': 387.0, 'user_name': 'Jeffery Johnson'}, page_content='User Jeffery Johnson ordered Perfume (Purple) (Personal Care) on 2024-12-30 10:24:42'),\n",
      "             Document(id='47b833f7-ccdf-4331-9d51-78d14ef92198', metadata={'categories': ['Personal Care', 'Jewelry', 'Electronics'], 'order_date': '2025-01-01 14:16:37', 'products': ['Perfume (Purple)', 'Ring (Orange)', 'mouse (Black)'], 'user_id': 483.0, 'user_name': 'Leslie Huber'}, page_content='User Leslie Huber ordered Perfume (Purple) (Personal Care) and Ring (Orange) (Jewelry) and mouse (Black) (Electronics) on 2025-01-01 14:16:37'),\n",
      "             Document(id='5ca6ea27-cfe1-4b4b-a0e9-da6d95621030', metadata={'categories': ['Home Goods', 'Personal Care', 'Home Goods', 'Home Goods'], 'order_date': '2025-01-01 14:09:44', 'products': ['Table Clock (Orange)', 'Shampoo (Orange)', 'Carpet (Orange)', 'Pot (Pink)'], 'user_id': 439.0, 'user_name': 'Elizabeth Murphy'}, page_content='User Elizabeth Murphy ordered Table Clock (Orange) (Home Goods) and Shampoo (Orange) (Personal Care) and Carpet (Orange) (Home Goods) and Pot (Pink) (Home Goods) on 2025-01-01 14:09:44'),\n",
      "             Document(id='70e5f113-c563-4cf3-b980-d0f428869097', metadata={'categories': ['Jewelry', 'Personal Care'], 'order_date': '2025-01-01 13:06:25', 'products': ['Necklace (Purple)', 'Shampoo (Orange)'], 'user_id': 370.0, 'user_name': 'Bradley Maldonado'}, page_content='User Bradley Maldonado ordered Necklace (Purple) (Jewelry) and Shampoo (Orange) (Personal Care) on 2025-01-01 13:06:25'),\n",
      "             Document(id='228ecdaa-eaa8-4ee0-a6e3-cb664f72f93f', metadata={'categories': ['Home Goods'], 'order_date': '2025-01-01 14:16:23', 'products': ['Pot (Orange)'], 'user_id': 481.0, 'user_name': 'Andrew Castillo DDS'}, page_content='User Andrew Castillo DDS ordered Pot (Orange) (Home Goods) on 2025-01-01 14:16:23'),\n",
      "             Document(id='29cbc988-3846-4ece-82f7-a03d922214f2', metadata={'categories': ['Clothing', 'Home Goods', 'Home Goods'], 'order_date': '2025-01-01 14:15:38', 'products': ['Wool Coat (Yellow)', 'Carpet (Purple)', 'Lamp (Black)'], 'user_id': 522.0, 'user_name': 'Christine James'}, page_content='User Christine James ordered Wool Coat (Yellow) (Clothing) and Carpet (Purple) (Home Goods) and Lamp (Black) (Home Goods) on 2025-01-01 14:15:38'),\n",
      "             Document(id='9774c510-43c9-4c9c-a529-fa055576aa56', metadata={'categories': ['Jewelry', 'Clothing', 'Flower Type', 'Personal Care'], 'order_date': '2025-01-01 14:13:18', 'products': ['Ring (Red)', 'Wool Coat (Yellow)', 'Daisy (Brown)', 'Perfume (White)'], 'user_id': 474.0, 'user_name': 'Sean Lee'}, page_content='User Sean Lee ordered Ring (Red) (Jewelry) and Wool Coat (Yellow) (Clothing) and Daisy (Brown) (Flower Type) and Perfume (White) (Personal Care) on 2025-01-01 14:13:18'),\n",
      "             Document(id='ad969408-8f8e-4701-badb-8c529bae69f5', metadata={'categories': ['Flower Type', 'Personal Care'], 'order_date': '2025-01-01 14:14:28', 'products': ['Daisy (Green)', 'Body Lotion (Black)'], 'user_id': 381.0, 'user_name': 'Katherine Williams'}, page_content='User Katherine Williams ordered Daisy (Green) (Flower Type) and Body Lotion (Black) (Personal Care) on 2025-01-01 14:14:28'),\n",
      "             Document(id='e6e9e94b-9c58-4a54-bd40-3915879c9a52', metadata={'categories': ['Home Goods', 'Home Goods', 'Clothing'], 'order_date': '2024-12-30 10:24:15', 'products': ['Food Processor (Yellow)', 'Knife Set (Green)', 'Wool Coat (Black)'], 'user_id': 440.0, 'user_name': 'April Brown'}, page_content='User April Brown ordered Food Processor (Yellow) (Home Goods) and Knife Set (Green) (Home Goods) and Wool Coat (Black) (Clothing) on 2024-12-30 10:24:15'),\n",
      "             Document(id='99459d43-99f9-413a-a653-14a8295228ea', metadata={'categories': ['Home Goods', 'Home Goods', 'Personal Care', 'Jewelry'], 'order_date': '2025-01-01 14:10:23', 'products': ['Knife Set (Pink)', 'Pitcher (White)', 'Perfume (Orange)', 'Earrings (Purple)'], 'user_id': 474.0, 'user_name': 'Sean Lee'}, page_content='User Sean Lee ordered Knife Set (Pink) (Home Goods) and Pitcher (White) (Home Goods) and Perfume (Orange) (Personal Care) and Earrings (Purple) (Jewelry) on 2025-01-01 14:10:23'),\n",
      "             Document(id='1ba4d839-c6db-46d7-8bc1-3ceb7c350295', metadata={'categories': ['Home Goods'], 'order_date': '2025-01-01 14:13:12', 'products': ['Knife Set (Green)'], 'user_id': 363.0, 'user_name': 'Michael Davies'}, page_content='User Michael Davies ordered Knife Set (Green) (Home Goods) on 2025-01-01 14:13:12'),\n",
      "             Document(id='3c603cfb-da1d-4d71-92c3-8e497134c6d7', metadata={'categories': ['Jewelry', 'Clothing', 'Electronics'], 'order_date': '2025-01-01 14:13:40', 'products': ['Necklace (Blue)', 'Plus Size Coat (Green)', 'mouse (Purple)'], 'user_id': 375.0, 'user_name': 'Lori Gay'}, page_content='User Lori Gay ordered Necklace (Blue) (Jewelry) and Plus Size Coat (Green) (Clothing) and mouse (Purple) (Electronics) on 2025-01-01 14:13:40'),\n",
      "             Document(id='67b17925-57de-4c8d-8ff3-49462b385a3a', metadata={'categories': ['Electronics'], 'order_date': '2025-01-01 14:11:59', 'products': ['Smartphone (Yellow)'], 'user_id': 350.0, 'user_name': 'Cheryl Fuller'}, page_content='User Cheryl Fuller ordered Smartphone (Yellow) (Electronics) on 2025-01-01 14:11:59'),\n",
      "             Document(id='f8b9ac16-b266-4277-ae6a-2a873bb42247', metadata={'categories': ['Jewelry', 'Jewelry', 'Electronics', 'Home Goods', 'Clothing'], 'order_date': '2025-01-01 14:13:50', 'products': ['Bracelet (Black)', 'Earrings (Black)', 'Smartphone (Brown)', 'Table Clock (Black)', 'Wool Coat (Pink)'], 'user_id': 445.0, 'user_name': 'Kylie Hughes'}, page_content='User Kylie Hughes ordered Bracelet (Black) (Jewelry) and Earrings (Black) (Jewelry) and Smartphone (Brown) (Electronics) and Table Clock (Black) (Home Goods) and Wool Coat (Pink) (Clothing) on 2025-01-01 14:13:50'),\n",
      "             Document(id='cd680f12-3a86-47cb-b8af-df2ac9d12b10', metadata={'categories': ['Flower Type', 'Jewelry'], 'order_date': '2025-01-01 14:14:09', 'products': ['Orchid (Black)', 'Earrings (White)'], 'user_id': 513.0, 'user_name': 'Mrs. Sabrina Delgado MD'}, page_content='User Mrs. Sabrina Delgado MD ordered Orchid (Black) (Flower Type) and Earrings (White) (Jewelry) on 2025-01-01 14:14:09'),\n",
      "             Document(id='5364cbf0-7dc0-42a5-8c87-e1f0ef8da0b2', metadata={'categories': ['Flower Type', 'Flower Type', 'Jewelry'], 'order_date': '2025-01-01 14:10:06', 'products': ['Orchid (Purple)', 'Cactus (White)', 'Earrings (Green)'], 'user_id': 432.0, 'user_name': 'Christopher Nguyen'}, page_content='User Christopher Nguyen ordered Orchid (Purple) (Flower Type) and Cactus (White) (Flower Type) and Earrings (Green) (Jewelry) on 2025-01-01 14:10:06'),\n",
      "             Document(id='2376c944-12f7-4258-9155-da8b0d980bef', metadata={'categories': ['Home Goods', 'Home Goods'], 'order_date': '2025-01-01 14:15:03', 'products': ['Table Clock (Orange)', 'Table Clock (White)'], 'user_id': 494.0, 'user_name': 'Andrea Thomas'}, page_content='User Andrea Thomas ordered Table Clock (Orange) (Home Goods) and Table Clock (White) (Home Goods) on 2025-01-01 14:15:03'),\n",
      "             Document(id='d2152d96-5382-4406-84a8-79842f1a2398', metadata={'categories': ['Home Goods', 'Personal Care', 'Home Goods', 'Clothing'], 'order_date': '2025-01-01 14:13:54', 'products': ['Food Processor (Brown)', 'Shampoo (Purple)', 'Lamp (Brown)', 'Patterned Shirt (Brown)'], 'user_id': 368.0, 'user_name': 'Katherine Manning'}, page_content='User Katherine Manning ordered Food Processor (Brown) (Home Goods) and Shampoo (Purple) (Personal Care) and Lamp (Brown) (Home Goods) and Patterned Shirt (Brown) (Clothing) on 2025-01-01 14:13:54'),\n",
      "             Document(id='13427e79-2b66-4b23-9aa9-8e739c630bc9', metadata={'categories': ['Home Goods', 'Electronics'], 'order_date': '2024-12-30 10:23:52', 'products': ['Table Clock (Pink)', 'keyword (Green)'], 'user_id': 417.0, 'user_name': 'Rachel Brown'}, page_content='User Rachel Brown ordered Table Clock (Pink) (Home Goods) and keyword (Green) (Electronics) on 2024-12-30 10:23:52'),\n",
      "             Document(id='11f33146-7d89-40e6-8081-cfc3ed4bc35f', metadata={'categories': ['Flower Type', 'Jewelry'], 'order_date': '2025-01-01 14:16:47', 'products': ['Begonia (Red)', 'Ring (Red)'], 'user_id': 391.0, 'user_name': 'Julie Huffman'}, page_content='User Julie Huffman ordered Begonia (Red) (Flower Type) and Ring (Red) (Jewelry) on 2025-01-01 14:16:47'),\n",
      "             Document(id='e1823ec1-6d96-4503-8a1e-73f6fadc879d', metadata={'categories': ['Electronics', 'Jewelry', 'Clothing', 'Personal Care'], 'order_date': '2025-01-01 14:15:11', 'products': ['Bluetooth Headset (Black)', 'Earrings (Blue)', 'Men Blazer (Pink)', 'Shampoo (Yellow)'], 'user_id': 447.0, 'user_name': 'Carrie Williams'}, page_content='User Carrie Williams ordered Bluetooth Headset (Black) (Electronics) and Earrings (Blue) (Jewelry) and Men Blazer (Pink) (Clothing) and Shampoo (Yellow) (Personal Care) on 2025-01-01 14:15:11'),\n",
      "             Document(id='e0f831e0-347c-4580-9b1c-5792cccbfa8c', metadata={'categories': ['Clothing', 'Home Goods', 'Flower Type', 'Clothing', 'Flower Type'], 'order_date': '2024-12-30 10:24:20', 'products': ['V-neck T-shirt (Brown)', 'Food Processor (White)', 'Rose (Blue)', 'Wool Sweater (Red)', 'Succulent (White)'], 'user_id': 433.0, 'user_name': 'Kathleen Miller'}, page_content='User Kathleen Miller ordered V-neck T-shirt (Brown) (Clothing) and Food Processor (White) (Home Goods) and Rose (Blue) (Flower Type) and Wool Sweater (Red) (Clothing) and Succulent (White) (Flower Type) on 2024-12-30 10:24:20'),\n",
      "             Document(id='d9809e31-a005-4d38-b28c-927264ab7e14', metadata={'categories': ['Home Goods', 'Jewelry', 'Personal Care', 'Personal Care'], 'order_date': '2024-12-30 10:24:37', 'products': ['Carpet (Orange)', 'Bracelet (Orange)', 'Toothbrush (Yellow)', 'Toothbrush (Red)'], 'user_id': 399.0, 'user_name': 'Erik Glenn'}, page_content='User Erik Glenn ordered Carpet (Orange) (Home Goods) and Bracelet (Orange) (Jewelry) and Toothbrush (Yellow) (Personal Care) and Toothbrush (Red) (Personal Care) on 2024-12-30 10:24:37'),\n",
      "             Document(id='2a297942-b242-44b2-bef0-73afe7e9d167', metadata={'categories': ['Personal Care', 'Flower Type', 'Home Goods', 'Electronics', 'Flower Type'], 'order_date': '2025-01-01 14:11:07', 'products': ['Perfume (White)', 'Rose (Green)', 'Pitcher (Orange)', 'Smartwatch (Red)', 'Cactus (Green)'], 'user_id': 483.0, 'user_name': 'Leslie Huber'}, page_content='User Leslie Huber ordered Perfume (White) (Personal Care) and Rose (Green) (Flower Type) and Pitcher (Orange) (Home Goods) and Smartwatch (Red) (Electronics) and Cactus (Green) (Flower Type) on 2025-01-01 14:11:07'),\n",
      "             Document(id='e727dd49-2658-4ba4-ab98-0e6ff4a803c5', metadata={'categories': ['Electronics', 'Jewelry', 'Home Goods', 'Personal Care', 'Jewelry'], 'order_date': '2025-01-01 14:14:48', 'products': ['keyword (White)', 'Earrings (White)', 'Table Clock (Orange)', 'Toothbrush (Orange)', 'Bracelet (Green)'], 'user_id': 495.0, 'user_name': 'Felicia Jones'}, page_content='User Felicia Jones ordered keyword (White) (Electronics) and Earrings (White) (Jewelry) and Table Clock (Orange) (Home Goods) and Toothbrush (Orange) (Personal Care) and Bracelet (Green) (Jewelry) on 2025-01-01 14:14:48'),\n",
      "             Document(id='3e3faf0b-c2c7-4c03-9603-d99511559adf', metadata={'categories': ['Jewelry', 'Personal Care'], 'order_date': '2025-01-01 14:09:53', 'products': ['Ring (Purple)', 'Perfume (White)'], 'user_id': 423.0, 'user_name': 'Lisa Smith'}, page_content='User Lisa Smith ordered Ring (Purple) (Jewelry) and Perfume (White) (Personal Care) on 2025-01-01 14:09:53'),\n",
      "             Document(id='309667be-f0ad-41f9-9ef3-abc66573e5e1', metadata={'categories': ['Jewelry'], 'order_date': '2025-01-01 14:10:19', 'products': ['Bracelet (Black)'], 'user_id': 426.0, 'user_name': 'Cynthia Andrade'}, page_content='User Cynthia Andrade ordered Bracelet (Black) (Jewelry) on 2025-01-01 14:10:19'),\n",
      "             Document(id='c99924e6-979f-40a7-9a00-07d7005782f8', metadata={'categories': ['Jewelry'], 'order_date': '2024-12-30 10:24:57', 'products': ['Necklace (Yellow)'], 'user_id': 445.0, 'user_name': 'Kylie Hughes'}, page_content='User Kylie Hughes ordered Necklace (Yellow) (Jewelry) on 2024-12-30 10:24:57'),\n",
      "             Document(id='981c144c-bf9a-4a8d-b2cd-26024e043225', metadata={'categories': ['Flower Type', 'Electronics'], 'order_date': '2025-01-01 14:15:31', 'products': ['Tulip (Green)', 'Powerbank (Orange)'], 'user_id': 526.0, 'user_name': 'Teresa Reese'}, page_content='User Teresa Reese ordered Tulip (Green) (Flower Type) and Powerbank (Orange) (Electronics) on 2025-01-01 14:15:31'),\n",
      "             Document(id='a043e2cb-6dd6-42f9-980a-c4ad2f979a31', metadata={'categories': ['Home Goods', 'Flower Type'], 'order_date': '2025-01-01 14:12:07', 'products': ['Carpet (Orange)', 'Tulip (Yellow)'], 'user_id': 397.0, 'user_name': 'Nina Webb'}, page_content='User Nina Webb ordered Carpet (Orange) (Home Goods) and Tulip (Yellow) (Flower Type) on 2025-01-01 14:12:07'),\n",
      "             Document(id='0f774f53-44c5-47ad-a755-ab4726282f6f', metadata={'categories': ['Clothing', 'Flower Type', 'Flower Type'], 'order_date': '2025-01-01 14:14:32', 'products': ['Straight Jeans (White)', 'Daisy (Red)', 'Orchid (Pink)'], 'user_id': 507.0, 'user_name': 'Calvin Harrell'}, page_content='User Calvin Harrell ordered Straight Jeans (White) (Clothing) and Daisy (Red) (Flower Type) and Orchid (Pink) (Flower Type) on 2025-01-01 14:14:32'),\n",
      "             Document(id='59b99d99-ad7f-4db5-becb-b1a0048f5227', metadata={'categories': ['Electronics', 'Electronics', 'Electronics', 'Home Goods', 'Clothing'], 'order_date': '2025-01-01 14:14:55', 'products': ['mouse (Pink)', 'Powerbank (Orange)', 'Smartwatch (Blue)', 'Knife Set (Orange)', 'V-neck T-shirt (Brown)'], 'user_id': 433.0, 'user_name': 'Kathleen Miller'}, page_content='User Kathleen Miller ordered mouse (Pink) (Electronics) and Powerbank (Orange) (Electronics) and Smartwatch (Blue) (Electronics) and Knife Set (Orange) (Home Goods) and V-neck T-shirt (Brown) (Clothing) on 2025-01-01 14:14:55'),\n",
      "             Document(id='b93d23ce-5490-4ec5-86a0-a954d8f70434', metadata={'categories': ['Electronics', 'Personal Care', 'Flower Type', 'Electronics', 'Jewelry'], 'order_date': '2025-01-01 14:11:42', 'products': ['Bluetooth Headset (Pink)', 'Shampoo (White)', 'Orchid (Black)', 'Smartwatch (Green)', 'Earrings (Blue)'], 'user_id': 363.0, 'user_name': 'Michael Davies'}, page_content='User Michael Davies ordered Bluetooth Headset (Pink) (Electronics) and Shampoo (White) (Personal Care) and Orchid (Black) (Flower Type) and Smartwatch (Green) (Electronics) and Earrings (Blue) (Jewelry) on 2025-01-01 14:11:42'),\n",
      "             Document(id='470e1346-ceed-4e75-8f8c-29783bd4eaac', metadata={'categories': ['Jewelry', 'Flower Type', 'Personal Care', 'Jewelry'], 'order_date': '2025-01-01 14:11:14', 'products': ['Necklace (Red)', 'Rose (Yellow)', 'Toothbrush (Purple)', 'Ring (Red)'], 'user_id': 458.0, 'user_name': 'Sherry Valentine'}, page_content='User Sherry Valentine ordered Necklace (Red) (Jewelry) and Rose (Yellow) (Flower Type) and Toothbrush (Purple) (Personal Care) and Ring (Red) (Jewelry) on 2025-01-01 14:11:14'),\n",
      "             Document(id='f2df82ee-6596-4f08-a44c-355d75c7e478', metadata={'categories': ['Home Goods', 'Flower Type', 'Clothing', 'Jewelry', 'Home Goods'], 'order_date': '2024-12-30 10:24:54', 'products': ['Carpet (Orange)', 'Cactus (Purple)', 'Wool Coat (Black)', 'Earrings (Red)', 'Carpet (Blue)'], 'user_id': 350.0, 'user_name': 'Cheryl Fuller'}, page_content='User Cheryl Fuller ordered Carpet (Orange) (Home Goods) and Cactus (Purple) (Flower Type) and Wool Coat (Black) (Clothing) and Earrings (Red) (Jewelry) and Carpet (Blue) (Home Goods) on 2024-12-30 10:24:54')],\n",
      " 'input': 'How many orders has User Jason Martinez placed?'}\n"
     ]
    },
    {
     "data": {
      "text/plain": [
       "{'input': 'How many orders has User Jason Martinez placed?',\n",
       " 'chat_history': [HumanMessage(content='who bougth a jean?', additional_kwargs={}, response_metadata={}),\n",
       "  AIMessage(content='The following users bought jeans:\\n\\n1. Calvin Harrell ordered Straight Jeans (White) (Clothing) on 2025-01-01 14:14:32\\n2. Cheryl Fuller ordered Mom Jeans (Brown) (Clothing) and Wool Coat (Yellow) (Clothing) on 2024-12-30 10:24:10\\n3. Allison Roberts ordered Jeans (Pink) (Clothing) on 2025-01-01 14:16:41\\n4. Diana Nunez ordered Mom Jeans (Brown) (Clothing) and Short Sleeve Shirt (Purple) (Clothing) on 2025-01-01 14:14:17\\n5. Kylie Hughes ordered Wool Coat (Pink) (Clothing) on 2025-01-01 14:13:50\\n6. Carrie Williams ordered Men Blazer (Pink) (Clothing) on 2025-01-01 14:15:11\\n7. Amy Walker ordered Plus Size Coat (Blue) (Clothing) on 2025-01-01 14:12:15\\n8. Kathleen Miller ordered V-neck T-shirt (Brown) (Clothing) on 2025-01-01 14:14:55\\n9. Jacob Fischer ordered Plus Size Coat (Green) (Clothing) on 2025-01-01 14:16:55\\n10. Joseph Guzman ordered Wool Sweater (White) (Clothing) on 2025-01-01 14:15:16\\n11. Kylie Hughes ordered Waterproof Coat (Blue) (Clothing) on 2025-01-01 14:15:54\\n12. Patricia Dudley ordered Waterproof Coat (Orange) (Clothing) on 2025-01-01 14:13:01\\n13. Leslie Huber ordered Wool Coat (Yellow) (Clothing) on 2025-01-01 14:15:38\\n14. Elizabeth Murphy ordered Wool Coat (Pink) (Clothing) on 2025-01-01 13:06:28\\n15. Michael Myers ordered Wool Coat (Yellow) (Clothing) on 2025-01-01 14:13:18\\n16. April Brown ordered Wool Coat (Black) (Clothing) on 2024-12-30 10:24:15\\n17. Katherine Williams ordered Wool Coat (Yellow) (Clothing) on 2025-01-01 14:11:24\\n18. Mrs. Sabrina Delgado MD ordered Wool Coat (Black) (Clothing) on 2025-01-01 14:13:26\\n\\nThese are the users who bought jeans from the e-commerce platform.', additional_kwargs={}, response_metadata={}),\n",
       "  HumanMessage(content='How many orders has User Calvin Harrell placed?', additional_kwargs={}, response_metadata={}),\n",
       "  AIMessage(content='User Calvin Harrell has placed one order. He ordered Straight Jeans (White) (Clothing), Daisy (Red) (Flower Type), and Orchid (Pink) (Flower Type) on 2025-01-01 14:14:32.', additional_kwargs={}, response_metadata={}),\n",
       "  HumanMessage(content='How many orders has User Jason Martinez placed?', additional_kwargs={}, response_metadata={}),\n",
       "  AIMessage(content='User Jason Martinez has placed two orders. \\n\\n1. Jason Martinez ordered Shampoo (Yellow) (Personal Care) and Knife Set (Red) (Home Goods) on 2025-01-01 13:06:45.\\n2. Jason Martinez ordered Ring (Orange) (Jewelry), Women Blazer (Yellow) (Clothing), Knife Set (Red) (Home Goods), and Curtain (Brown) (Home Goods) on 2025-01-01 14:11:49.', additional_kwargs={}, response_metadata={}),\n",
       "  HumanMessage(content='How many orders has User Jason Martinez placed?', additional_kwargs={}, response_metadata={}),\n",
       "  AIMessage(content='User Jason Martinez has placed two orders.', additional_kwargs={}, response_metadata={})],\n",
       " 'context': [Document(id='ecf1643d-33cd-4552-87b6-dddc3fa11ef4', metadata={'categories': ['Personal Care', 'Home Goods'], 'order_date': '2025-01-01 13:06:45', 'products': ['Shampoo (Yellow)', 'Knife Set (Red)'], 'user_id': 404.0, 'user_name': 'Jason Martinez'}, page_content='User Jason Martinez ordered Shampoo (Yellow) (Personal Care) and Knife Set (Red) (Home Goods) on 2025-01-01 13:06:45'),\n",
       "  Document(id='4ea48799-fac8-4f76-ad56-63fe2f9288fa', metadata={'categories': ['Clothing'], 'order_date': '2025-01-01 14:12:52', 'products': ['Shirt (Purple)'], 'user_id': 462.0, 'user_name': 'Thomas Campos'}, page_content='User Thomas Campos ordered Shirt (Purple) (Clothing) on 2025-01-01 14:12:52'),\n",
       "  Document(id='01e11017-2050-442a-9535-ec247467df47', metadata={'categories': ['Electronics', 'Home Goods', 'Jewelry'], 'order_date': '2024-12-30 10:23:58', 'products': ['Smartphone (Purple)', 'Pitcher (Purple)', 'Necklace (Blue)'], 'user_id': 377.0, 'user_name': 'Thomas Cooper'}, page_content='User Thomas Cooper ordered Smartphone (Purple) (Electronics) and Pitcher (Purple) (Home Goods) and Necklace (Blue) (Jewelry) on 2024-12-30 10:23:58'),\n",
       "  Document(id='fad297fd-e32b-4ed4-9709-396f1b160918', metadata={'categories': ['Flower Type', 'Clothing', 'Electronics'], 'order_date': '2025-01-01 14:10:37', 'products': ['Orchid (Brown)', 'T-shirt (Orange)', 'Laptop (Brown)'], 'user_id': 347.0, 'user_name': 'John Rodriguez'}, page_content='User John Rodriguez ordered Orchid (Brown) (Flower Type) and T-shirt (Orange) (Clothing) and Laptop (Brown) (Electronics) on 2025-01-01 14:10:37'),\n",
       "  Document(id='cde1f099-1c79-4b61-8870-572129b9da8d', metadata={'categories': ['Home Goods', 'Jewelry'], 'order_date': '2025-01-01 14:14:01', 'products': ['Carpet (Pink)', 'Ring (Blue)'], 'user_id': 385.0, 'user_name': 'John Perry'}, page_content='User John Perry ordered Carpet (Pink) (Home Goods) and Ring (Blue) (Jewelry) on 2025-01-01 14:14:01'),\n",
       "  Document(id='1b7802fd-53bc-45f6-af5e-370d25a3fe94', metadata={'categories': ['Clothing', 'Jewelry'], 'order_date': '2025-01-01 14:15:41', 'products': ['Winter Coat (Blue)', 'Bracelet (Blue)'], 'user_id': 403.0, 'user_name': 'Shane Lang'}, page_content='User Shane Lang ordered Winter Coat (Blue) (Clothing) and Bracelet (Blue) (Jewelry) on 2025-01-01 14:15:41'),\n",
       "  Document(id='998c41f0-314d-4b25-b6ab-9976f686da79', metadata={'categories': ['Jewelry', 'Electronics', 'Personal Care', 'Home Goods'], 'order_date': '2025-01-01 14:13:36', 'products': ['Earrings (Purple)', 'keyword (Pink)', 'Shampoo (Yellow)', 'Knife Set (Orange)'], 'user_id': 460.0, 'user_name': 'Kevin Bird'}, page_content='User Kevin Bird ordered Earrings (Purple) (Jewelry) and keyword (Pink) (Electronics) and Shampoo (Yellow) (Personal Care) and Knife Set (Orange) (Home Goods) on 2025-01-01 14:13:36'),\n",
       "  Document(id='19817fbc-14c1-418a-bdbb-c05a5cfb5980', metadata={'categories': ['Jewelry', 'Clothing', 'Home Goods', 'Home Goods'], 'order_date': '2025-01-01 14:11:49', 'products': ['Ring (Orange)', 'Women Blazer (Yellow)', 'Knife Set (Red)', 'Curtain (Brown)'], 'user_id': 404.0, 'user_name': 'Jason Martinez'}, page_content='User Jason Martinez ordered Ring (Orange) (Jewelry) and Women Blazer (Yellow) (Clothing) and Knife Set (Red) (Home Goods) and Curtain (Brown) (Home Goods) on 2025-01-01 14:11:49'),\n",
       "  Document(id='7d6c4a8c-dcae-42ee-94ca-209cbcbfaa09', metadata={'categories': ['Home Goods', 'Electronics'], 'order_date': '2025-01-01 14:14:51', 'products': ['Carpet (Orange)', 'Powerbank (Pink)'], 'user_id': 443.0, 'user_name': 'Shane Walker'}, page_content='User Shane Walker ordered Carpet (Orange) (Home Goods) and Powerbank (Pink) (Electronics) on 2025-01-01 14:14:51'),\n",
       "  Document(id='5adafd15-f577-45f6-aeef-dde726e6320b', metadata={'categories': ['Jewelry', 'Personal Care'], 'order_date': '2025-01-01 13:06:42', 'products': ['Earrings (Blue)', 'Toothbrush (Black)'], 'user_id': 452.0, 'user_name': 'Jorge Wright'}, page_content='User Jorge Wright ordered Earrings (Blue) (Jewelry) and Toothbrush (Black) (Personal Care) on 2025-01-01 13:06:42'),\n",
       "  Document(id='01a7b7c8-02a7-4f1f-9115-b5cde144760b', metadata={'categories': ['Electronics', 'Personal Care', 'Jewelry'], 'order_date': '2025-01-01 14:10:50', 'products': ['mouse (White)', 'Perfume (Purple)', 'Ring (Green)'], 'user_id': 481.0, 'user_name': 'Andrew Castillo DDS'}, page_content='User Andrew Castillo DDS ordered mouse (White) (Electronics) and Perfume (Purple) (Personal Care) and Ring (Green) (Jewelry) on 2025-01-01 14:10:50'),\n",
       "  Document(id='7fba87a3-31a4-4cf3-a313-43cdab377bd5', metadata={'categories': ['Home Goods'], 'order_date': '2025-01-01 13:06:59', 'products': ['Pitcher (Purple)'], 'user_id': 348.0, 'user_name': 'Christina Martinez'}, page_content='User Christina Martinez ordered Pitcher (Purple) (Home Goods) on 2025-01-01 13:06:59'),\n",
       "  Document(id='e4953100-c17b-41e1-ba95-0cb66de47485', metadata={'categories': ['Electronics', 'Jewelry', 'Clothing', 'Home Goods'], 'order_date': '2025-01-01 14:12:29', 'products': ['mouse (Pink)', 'Ring (Red)', 'Patterned Shirt (Pink)', 'Pot (Blue)'], 'user_id': 481.0, 'user_name': 'Andrew Castillo DDS'}, page_content='User Andrew Castillo DDS ordered mouse (Pink) (Electronics) and Ring (Red) (Jewelry) and Patterned Shirt (Pink) (Clothing) and Pot (Blue) (Home Goods) on 2025-01-01 14:12:29'),\n",
       "  Document(id='b3578991-f9dd-4e5d-a4e7-b33ab5b1d567', metadata={'categories': ['Home Goods', 'Electronics'], 'order_date': '2025-01-01 14:12:02', 'products': ['Table Clock (Orange)', 'Smartphone (Blue)'], 'user_id': 431.0, 'user_name': 'Derek Holt'}, page_content='User Derek Holt ordered Table Clock (Orange) (Home Goods) and Smartphone (Blue) (Electronics) on 2025-01-01 14:12:02'),\n",
       "  Document(id='6d280170-b34c-48cb-bdd8-5c6920cbcb4c', metadata={'categories': ['Jewelry', 'Clothing'], 'order_date': '2025-01-01 14:12:45', 'products': ['Ring (Blue)', 'Plus Size Coat (Green)'], 'user_id': 420.0, 'user_name': 'Steven York'}, page_content='User Steven York ordered Ring (Blue) (Jewelry) and Plus Size Coat (Green) (Clothing) on 2025-01-01 14:12:45'),\n",
       "  Document(id='f3266447-69a0-4f19-a17d-2c335c6399bd', metadata={'categories': ['Electronics', 'Flower Type'], 'order_date': '2025-01-01 14:10:55', 'products': ['Laptop (Purple)', 'Cactus (White)'], 'user_id': 347.0, 'user_name': 'John Rodriguez'}, page_content='User John Rodriguez ordered Laptop (Purple) (Electronics) and Cactus (White) (Flower Type) on 2025-01-01 14:10:55'),\n",
       "  Document(id='efd3936f-2ba8-4cd2-84e5-ba672be35f00', metadata={'categories': ['Clothing', 'Electronics'], 'order_date': '2025-01-01 14:11:39', 'products': ['Plus Size Coat (Blue)', 'mouse (White)'], 'user_id': 452.0, 'user_name': 'Jorge Wright'}, page_content='User Jorge Wright ordered Plus Size Coat (Blue) (Clothing) and mouse (White) (Electronics) on 2025-01-01 14:11:39'),\n",
       "  Document(id='b7513e2b-c558-4ca0-81e4-ade5eb3776c4', metadata={'categories': ['Jewelry', 'Home Goods', 'Clothing', 'Personal Care'], 'order_date': '2024-12-30 10:24:03', 'products': ['Ring (Blue)', 'Table Clock (Black)', 'Straight Jeans (Purple)', 'Shampoo (Blue)'], 'user_id': 438.0, 'user_name': 'Jeremy Taylor'}, page_content='User Jeremy Taylor ordered Ring (Blue) (Jewelry) and Table Clock (Black) (Home Goods) and Straight Jeans (Purple) (Clothing) and Shampoo (Blue) (Personal Care) on 2024-12-30 10:24:03'),\n",
       "  Document(id='43181f76-ecf3-477f-b1fd-ae0f633a9cc0', metadata={'categories': ['Electronics', 'Clothing'], 'order_date': '2025-01-01 14:16:55', 'products': ['Smartwatch (Pink)', 'Plus Size Coat (Green)'], 'user_id': 346.0, 'user_name': 'Jacob Fischer'}, page_content='User Jacob Fischer ordered Smartwatch (Pink) (Electronics) and Plus Size Coat (Green) (Clothing) on 2025-01-01 14:16:55'),\n",
       "  Document(id='11514c3b-d2b0-4916-8d81-92ec23717d61', metadata={'categories': ['Jewelry', 'Personal Care', 'Personal Care', 'Electronics', 'Flower Type'], 'order_date': '2025-01-01 14:13:45', 'products': ['Bracelet (Black)', 'Toothbrush (Pink)', 'Perfume (Purple)', 'Laptop (Red)', 'Rose (Blue)'], 'user_id': 465.0, 'user_name': 'Michael Myers'}, page_content='User Michael Myers ordered Bracelet (Black) (Jewelry) and Toothbrush (Pink) (Personal Care) and Perfume (Purple) (Personal Care) and Laptop (Red) (Electronics) and Rose (Blue) (Flower Type) on 2025-01-01 14:13:45'),\n",
       "  Document(id='5d15da0b-5494-4920-9d96-31b3d49f369f', metadata={'categories': ['Clothing', 'Personal Care', 'Electronics'], 'order_date': '2025-01-01 14:16:41', 'products': ['Jeans (Pink)', 'Perfume (Purple)', 'Smartphone (Blue)'], 'user_id': 422.0, 'user_name': 'Allison Roberts'}, page_content='User Allison Roberts ordered Jeans (Pink) (Clothing) and Perfume (Purple) (Personal Care) and Smartphone (Blue) (Electronics) on 2025-01-01 14:16:41'),\n",
       "  Document(id='c1dbb275-675c-410f-b664-79638fa72075', metadata={'categories': ['Home Goods', 'Flower Type', 'Personal Care', 'Clothing'], 'order_date': '2025-01-01 14:13:31', 'products': ['Food Processor (Orange)', 'Tulip (White)', 'Perfume (Yellow)', 'Winter Coat (Green)'], 'user_id': 363.0, 'user_name': 'Michael Davies'}, page_content='User Michael Davies ordered Food Processor (Orange) (Home Goods) and Tulip (White) (Flower Type) and Perfume (Yellow) (Personal Care) and Winter Coat (Green) (Clothing) on 2025-01-01 14:13:31'),\n",
       "  Document(id='efbc5214-dfbf-49de-96cd-7c86e6975eda', metadata={'categories': ['Home Goods', 'Electronics'], 'order_date': '2025-01-01 14:14:21', 'products': ['Food Processor (Brown)', 'Laptop (Yellow)'], 'user_id': 495.0, 'user_name': 'Felicia Jones'}, page_content='User Felicia Jones ordered Food Processor (Brown) (Home Goods) and Laptop (Yellow) (Electronics) on 2025-01-01 14:14:21'),\n",
       "  Document(id='f7f30b23-0e6b-449c-90bb-815d1d3fc10a', metadata={'categories': ['Home Goods', 'Personal Care', 'Flower Type'], 'order_date': '2024-12-30 10:24:46', 'products': ['Table Clock (Black)', 'Perfume (Yellow)', 'Succulent (Brown)'], 'user_id': 459.0, 'user_name': 'Daniel Taylor'}, page_content='User Daniel Taylor ordered Table Clock (Black) (Home Goods) and Perfume (Yellow) (Personal Care) and Succulent (Brown) (Flower Type) on 2024-12-30 10:24:46'),\n",
       "  Document(id='f83ead54-fdc2-4bb1-bab6-d1d45a2f231b', metadata={'categories': ['Jewelry'], 'order_date': '2025-01-01 14:16:15', 'products': ['Ring (Orange)'], 'user_id': 480.0, 'user_name': 'Jaime Vargas'}, page_content='User Jaime Vargas ordered Ring (Orange) (Jewelry) on 2025-01-01 14:16:15'),\n",
       "  Document(id='72a9cd90-5505-4594-aad9-4292c1298469', metadata={'categories': ['Clothing', 'Electronics', 'Jewelry', 'Clothing'], 'order_date': '2025-01-01 14:11:28', 'products': ['Winter Coat (Green)', 'Smartphone (Blue)', 'Earrings (Green)', 'Women Blazer (Yellow)'], 'user_id': 481.0, 'user_name': 'Andrew Castillo DDS'}, page_content='User Andrew Castillo DDS ordered Winter Coat (Green) (Clothing) and Smartphone (Blue) (Electronics) and Earrings (Green) (Jewelry) and Women Blazer (Yellow) (Clothing) on 2025-01-01 14:11:28'),\n",
       "  Document(id='1bf7c049-87b0-4d5d-be4e-8df5c13b861d', metadata={'categories': ['Electronics', 'Home Goods'], 'order_date': '2025-01-01 14:12:56', 'products': ['Smartphone (Blue)', 'Food Processor (Purple)'], 'user_id': 398.0, 'user_name': 'Mr. Joseph Taylor'}, page_content='User Mr. Joseph Taylor ordered Smartphone (Blue) (Electronics) and Food Processor (Purple) (Home Goods) on 2025-01-01 14:12:56'),\n",
       "  Document(id='17840261-0466-4cea-9be0-db94dc19dbb2', metadata={'categories': ['Clothing', 'Jewelry'], 'order_date': '2025-01-01 14:11:54', 'products': ['Wool Coat (Black)', 'Necklace (Blue)'], 'user_id': 455.0, 'user_name': 'Ryan Cummings'}, page_content='User Ryan Cummings ordered Wool Coat (Black) (Clothing) and Necklace (Blue) (Jewelry) on 2025-01-01 14:11:54'),\n",
       "  Document(id='a23216be-61f9-4b21-97c8-a259c53d9f47', metadata={'categories': ['Electronics', 'Flower Type'], 'order_date': '2025-01-01 14:13:04', 'products': ['Laptop (Blue)', 'Tulip (White)'], 'user_id': 489.0, 'user_name': 'Patrick Sellers'}, page_content='User Patrick Sellers ordered Laptop (Blue) (Electronics) and Tulip (White) (Flower Type) on 2025-01-01 14:13:04'),\n",
       "  Document(id='93cd7556-6e93-488b-a850-21afe83d389e', metadata={'categories': ['Home Goods', 'Clothing'], 'order_date': '2025-01-01 13:06:28', 'products': ['Lamp (Brown)', 'Wool Coat (Pink)'], 'user_id': 439.0, 'user_name': 'Elizabeth Murphy'}, page_content='User Elizabeth Murphy ordered Lamp (Brown) (Home Goods) and Wool Coat (Pink) (Clothing) on 2025-01-01 13:06:28'),\n",
       "  Document(id='49050f6d-f618-4582-9036-08b5ebed3b38', metadata={'categories': ['Clothing', 'Personal Care', 'Jewelry', 'Jewelry'], 'order_date': '2025-01-01 14:11:31', 'products': ['Wool Sweater (Black)', 'Body Lotion (White)', 'Necklace (Purple)', 'Necklace (White)'], 'user_id': 472.0, 'user_name': 'Alexandria Mcdonald'}, page_content='User Alexandria Mcdonald ordered Wool Sweater (Black) (Clothing) and Body Lotion (White) (Personal Care) and Necklace (Purple) (Jewelry) and Necklace (White) (Jewelry) on 2025-01-01 14:11:31'),\n",
       "  Document(id='71fc349e-adb8-42b7-b4dc-df21eca3f982', metadata={'categories': ['Electronics', 'Jewelry'], 'order_date': '2025-01-01 13:06:50', 'products': ['Laptop (Red)', 'Necklace (Purple)'], 'user_id': 389.0, 'user_name': 'Andrea Young'}, page_content='User Andrea Young ordered Laptop (Red) (Electronics) and Necklace (Purple) (Jewelry) on 2025-01-01 13:06:50'),\n",
       "  Document(id='9cd3ef6c-a166-46b6-9384-310fd96c1ddd', metadata={'categories': ['Home Goods', 'Jewelry', 'Home Goods', 'Clothing', 'Clothing'], 'order_date': '2025-01-01 14:14:17', 'products': ['Pitcher (Purple)', 'Necklace (Yellow)', 'Pot (Purple)', 'Mom Jeans (Brown)', 'Short Sleeve Shirt (Purple)'], 'user_id': 466.0, 'user_name': 'Diana Nunez'}, page_content='User Diana Nunez ordered Pitcher (Purple) (Home Goods) and Necklace (Yellow) (Jewelry) and Pot (Purple) (Home Goods) and Mom Jeans (Brown) (Clothing) and Short Sleeve Shirt (Purple) (Clothing) on 2025-01-01 14:14:17'),\n",
       "  Document(id='d2bcff40-8880-4103-a5ba-9d2311fb9f92', metadata={'categories': ['Clothing', 'Flower Type'], 'order_date': '2025-01-01 14:16:27', 'products': ['Shirt (Purple)', 'Orchid (Brown)'], 'user_id': 439.0, 'user_name': 'Elizabeth Murphy'}, page_content='User Elizabeth Murphy ordered Shirt (Purple) (Clothing) and Orchid (Brown) (Flower Type) on 2025-01-01 14:16:27'),\n",
       "  Document(id='e09224a1-ce43-4432-be72-3d3812e193ec', metadata={'categories': ['Electronics', 'Home Goods'], 'order_date': '2025-01-01 14:11:10', 'products': ['mouse (Black)', 'Curtain (White)'], 'user_id': 359.0, 'user_name': 'Henry Rivera'}, page_content='User Henry Rivera ordered mouse (Black) (Electronics) and Curtain (White) (Home Goods) on 2025-01-01 14:11:10'),\n",
       "  Document(id='ac708d12-c4af-4502-a73a-e2816df44109', metadata={'categories': ['Jewelry', 'Electronics', 'Flower Type'], 'order_date': '2025-01-01 14:12:11', 'products': ['Necklace (Blue)', 'Powerbank (Brown)', 'Succulent (Black)'], 'user_id': 346.0, 'user_name': 'Jacob Fischer'}, page_content='User Jacob Fischer ordered Necklace (Blue) (Jewelry) and Powerbank (Brown) (Electronics) and Succulent (Black) (Flower Type) on 2025-01-01 14:12:11'),\n",
       "  Document(id='1275fb19-b1e4-4265-b27b-673968b8a622', metadata={'categories': ['Home Goods', 'Personal Care', 'Jewelry'], 'order_date': '2024-12-30 10:24:25', 'products': ['Pot (White)', 'Toothbrush (Brown)', 'Necklace (Orange)'], 'user_id': 453.0, 'user_name': 'Carl Smith'}, page_content='User Carl Smith ordered Pot (White) (Home Goods) and Toothbrush (Brown) (Personal Care) and Necklace (Orange) (Jewelry) on 2024-12-30 10:24:25'),\n",
       "  Document(id='f64ac4b6-0156-4dfd-a372-814e890eeb2d', metadata={'categories': ['Home Goods', 'Electronics', 'Home Goods', 'Flower Type'], 'order_date': '2025-01-01 14:14:36', 'products': ['Pot (Orange)', 'Bluetooth Headset (Yellow)', 'Table Clock (White)', 'Cactus (Pink)'], 'user_id': 521.0, 'user_name': 'John Mcdonald'}, page_content='User John Mcdonald ordered Pot (Orange) (Home Goods) and Bluetooth Headset (Yellow) (Electronics) and Table Clock (White) (Home Goods) and Cactus (Pink) (Flower Type) on 2025-01-01 14:14:36'),\n",
       "  Document(id='f82b77dc-0f3d-4aa0-b1e8-6ff7e60924a8', metadata={'categories': ['Clothing'], 'order_date': '2025-01-01 14:15:21', 'products': ['Mom Jeans (Black)'], 'user_id': 487.0, 'user_name': 'Matthew Miller'}, page_content='User Matthew Miller ordered Mom Jeans (Black) (Clothing) on 2025-01-01 14:15:21'),\n",
       "  Document(id='e34fac7d-4974-450a-bcd3-3d3ccf93f00e', metadata={'categories': ['Clothing', 'Flower Type', 'Home Goods'], 'order_date': '2025-01-01 14:10:45', 'products': ['Wool Sweater (White)', 'Succulent (Yellow)', 'Food Processor (Brown)'], 'user_id': 387.0, 'user_name': 'Jeffery Johnson'}, page_content='User Jeffery Johnson ordered Wool Sweater (White) (Clothing) and Succulent (Yellow) (Flower Type) and Food Processor (Brown) (Home Goods) on 2025-01-01 14:10:45'),\n",
       "  Document(id='546b4a79-0baf-4e4c-9938-7173690e8f4f', metadata={'categories': ['Personal Care', 'Personal Care', 'Electronics', 'Home Goods'], 'order_date': '2025-01-01 14:11:34', 'products': ['Perfume (Blue)', 'Shampoo (Orange)', 'Bluetooth Headset (Black)', 'Lamp (Brown)'], 'user_id': 452.0, 'user_name': 'Jorge Wright'}, page_content='User Jorge Wright ordered Perfume (Blue) (Personal Care) and Shampoo (Orange) (Personal Care) and Bluetooth Headset (Black) (Electronics) and Lamp (Brown) (Home Goods) on 2025-01-01 14:11:34'),\n",
       "  Document(id='c05f76b2-26e7-4330-ab65-9e21c0ba1238', metadata={'categories': ['Personal Care', 'Flower Type', 'Clothing', 'Personal Care'], 'order_date': '2025-01-01 14:15:50', 'products': ['Toothbrush (Black)', 'Ficus (Orange)', 'Straight Jeans (White)', 'Body Lotion (White)'], 'user_id': 517.0, 'user_name': 'Paul Richards'}, page_content='User Paul Richards ordered Toothbrush (Black) (Personal Care) and Ficus (Orange) (Flower Type) and Straight Jeans (White) (Clothing) and Body Lotion (White) (Personal Care) on 2025-01-01 14:15:50'),\n",
       "  Document(id='791d9e28-2fb2-4575-acbf-bd5201e46f9f', metadata={'categories': ['Home Goods', 'Electronics', 'Home Goods'], 'order_date': '2025-01-01 14:10:28', 'products': ['Table Clock (White)', 'Smartphone (Red)', 'Pitcher (Brown)'], 'user_id': 387.0, 'user_name': 'Jeffery Johnson'}, page_content='User Jeffery Johnson ordered Table Clock (White) (Home Goods) and Smartphone (Red) (Electronics) and Pitcher (Brown) (Home Goods) on 2025-01-01 14:10:28'),\n",
       "  Document(id='d0b6d75c-9714-44e8-ad5f-b614ee6f2aee', metadata={'categories': ['Personal Care', 'Clothing', 'Personal Care', 'Home Goods', 'Electronics'], 'order_date': '2024-12-30 10:24:28', 'products': ['Body Lotion (Purple)', 'Straight Jeans (Purple)', 'Perfume (Green)', 'Lamp (Black)', 'keyword (Yellow)'], 'user_id': 366.0, 'user_name': 'Jacqueline Johnson'}, page_content='User Jacqueline Johnson ordered Body Lotion (Purple) (Personal Care) and Straight Jeans (Purple) (Clothing) and Perfume (Green) (Personal Care) and Lamp (Black) (Home Goods) and keyword (Yellow) (Electronics) on 2024-12-30 10:24:28'),\n",
       "  Document(id='1eba1520-5e2f-4842-b717-c30df8138972', metadata={'categories': ['Flower Type', 'Personal Care', 'Flower Type', 'Home Goods', 'Clothing'], 'order_date': '2025-01-01 14:15:26', 'products': ['Cactus (Orange)', 'Perfume (White)', 'Begonia (Yellow)', 'Pot (Green)', 'Women Blazer (White)'], 'user_id': 460.0, 'user_name': 'Kevin Bird'}, page_content='User Kevin Bird ordered Cactus (Orange) (Flower Type) and Perfume (White) (Personal Care) and Begonia (Yellow) (Flower Type) and Pot (Green) (Home Goods) and Women Blazer (White) (Clothing) on 2025-01-01 14:15:26'),\n",
       "  Document(id='9fa3a35b-5ad9-4ad9-ab4a-12efa7232b25', metadata={'categories': ['Electronics', 'Personal Care'], 'order_date': '2025-01-01 14:16:18', 'products': ['Smartwatch (Pink)', 'Toothbrush (Yellow)'], 'user_id': 382.0, 'user_name': 'Bryan Chavez'}, page_content='User Bryan Chavez ordered Smartwatch (Pink) (Electronics) and Toothbrush (Yellow) (Personal Care) on 2025-01-01 14:16:18'),\n",
       "  Document(id='4ed2b554-d06c-4eae-a94a-75192bff93e4', metadata={'categories': ['Personal Care', 'Home Goods', 'Electronics'], 'order_date': '2025-01-01 14:09:48', 'products': ['Shampoo (Orange)', 'Carpet (Blue)', 'Laptop (Orange)'], 'user_id': 429.0, 'user_name': 'Holly Lee'}, page_content='User Holly Lee ordered Shampoo (Orange) (Personal Care) and Carpet (Blue) (Home Goods) and Laptop (Orange) (Electronics) on 2025-01-01 14:09:48'),\n",
       "  Document(id='ee80d500-22cc-4a26-a74e-47ebceb14601', metadata={'categories': ['Home Goods', 'Jewelry', 'Jewelry'], 'order_date': '2025-01-01 14:12:33', 'products': ['Lamp (Red)', 'Earrings (Purple)', 'Earrings (Blue)'], 'user_id': 444.0, 'user_name': 'Tiffany Chen'}, page_content='User Tiffany Chen ordered Lamp (Red) (Home Goods) and Earrings (Purple) (Jewelry) and Earrings (Blue) (Jewelry) on 2025-01-01 14:12:33'),\n",
       "  Document(id='bd0611f7-1894-457e-8760-3ffcbbad460a', metadata={'categories': ['Home Goods', 'Jewelry'], 'order_date': '2025-01-01 14:16:52', 'products': ['Pot (Orange)', 'Bracelet (Red)'], 'user_id': 469.0, 'user_name': 'Gail Mckinney'}, page_content='User Gail Mckinney ordered Pot (Orange) (Home Goods) and Bracelet (Red) (Jewelry) on 2025-01-01 14:16:52'),\n",
       "  Document(id='bc3e9004-8ea1-4af9-9500-2bdf170be418', metadata={'categories': ['Electronics', 'Personal Care', 'Jewelry'], 'order_date': '2025-01-01 14:15:35', 'products': ['Bluetooth Headset (Green)', 'Perfume (White)', 'Ring (Red)'], 'user_id': 510.0, 'user_name': 'Angela Guzman'}, page_content='User Angela Guzman ordered Bluetooth Headset (Green) (Electronics) and Perfume (White) (Personal Care) and Ring (Red) (Jewelry) on 2025-01-01 14:15:35'),\n",
       "  Document(id='b98553da-3992-423c-940c-8f0ca1055e83', metadata={'categories': ['Jewelry', 'Electronics', 'Flower Type', 'Home Goods'], 'order_date': '2024-12-30 10:24:49', 'products': ['Earrings (Purple)', 'Smartwatch (Blue)', 'Orchid (White)', 'Carpet (Pink)'], 'user_id': 378.0, 'user_name': 'Stephanie Fernandez'}, page_content='User Stephanie Fernandez ordered Earrings (Purple) (Jewelry) and Smartwatch (Blue) (Electronics) and Orchid (White) (Flower Type) and Carpet (Pink) (Home Goods) on 2024-12-30 10:24:49'),\n",
       "  Document(id='7c0d1951-9994-4bc6-a1aa-2fa0b7b5e717', metadata={'categories': ['Electronics', 'Flower Type', 'Electronics'], 'order_date': '2025-01-01 14:16:44', 'products': ['Laptop (Orange)', 'Ficus (White)', 'Smartphone (Brown)'], 'user_id': 508.0, 'user_name': 'Marcus Vazquez'}, page_content='User Marcus Vazquez ordered Laptop (Orange) (Electronics) and Ficus (White) (Flower Type) and Smartphone (Brown) (Electronics) on 2025-01-01 14:16:44'),\n",
       "  Document(id='bf328b95-56ba-48a5-b6e3-14966cb241ef', metadata={'categories': ['Jewelry', 'Clothing', 'Home Goods', 'Electronics', 'Clothing'], 'order_date': '2025-01-01 14:13:01', 'products': ['Bracelet (Black)', 'Waterproof Coat (Orange)', 'Food Processor (Purple)', 'Smartwatch (Blue)', 'Plus Size Coat (Brown)'], 'user_id': 449.0, 'user_name': 'Patricia Dudley'}, page_content='User Patricia Dudley ordered Bracelet (Black) (Jewelry) and Waterproof Coat (Orange) (Clothing) and Food Processor (Purple) (Home Goods) and Smartwatch (Blue) (Electronics) and Plus Size Coat (Brown) (Clothing) on 2025-01-01 14:13:01'),\n",
       "  Document(id='f13b9519-9fbb-4c10-9e1a-d38dc785af67', metadata={'categories': ['Clothing'], 'order_date': '2025-01-01 14:15:16', 'products': ['Wool Sweater (White)'], 'user_id': 471.0, 'user_name': 'Joseph Guzman'}, page_content='User Joseph Guzman ordered Wool Sweater (White) (Clothing) on 2025-01-01 14:15:16'),\n",
       "  Document(id='343bd047-462e-4992-bc4f-ce367ed156ec', metadata={'categories': ['Electronics'], 'order_date': '2025-01-01 14:11:20', 'products': ['Laptop (Orange)'], 'user_id': 356.0, 'user_name': 'Robert Leblanc'}, page_content='User Robert Leblanc ordered Laptop (Orange) (Electronics) on 2025-01-01 14:11:20'),\n",
       "  Document(id='8a2237c7-03fe-48fa-be88-9fb9b9dadf8f', metadata={'categories': ['Home Goods'], 'order_date': '2025-01-01 14:16:07', 'products': ['Lamp (Red)'], 'user_id': 472.0, 'user_name': 'Alexandria Mcdonald'}, page_content='User Alexandria Mcdonald ordered Lamp (Red) (Home Goods) on 2025-01-01 14:16:07'),\n",
       "  Document(id='dfb1b495-4881-4a9a-8ac9-af5f7d6169aa', metadata={'categories': ['Clothing', 'Electronics', 'Electronics', 'Jewelry'], 'order_date': '2025-01-01 14:11:02', 'products': ['Wool Coat (Yellow)', 'Bluetooth Headset (Red)', 'Bluetooth Headset (Purple)', 'Necklace (Green)'], 'user_id': 355.0, 'user_name': 'William Velasquez'}, page_content='User William Velasquez ordered Wool Coat (Yellow) (Clothing) and Bluetooth Headset (Red) (Electronics) and Bluetooth Headset (Purple) (Electronics) and Necklace (Green) (Jewelry) on 2025-01-01 14:11:02'),\n",
       "  Document(id='43ede347-8434-41b4-909e-45aa0755d497', metadata={'categories': ['Home Goods', 'Clothing', 'Clothing'], 'order_date': '2024-12-30 10:24:10', 'products': ['Knife Set (Orange)', 'Mom Jeans (Brown)', 'Wool Coat (Yellow)'], 'user_id': 350.0, 'user_name': 'Cheryl Fuller'}, page_content='User Cheryl Fuller ordered Knife Set (Orange) (Home Goods) and Mom Jeans (Brown) (Clothing) and Wool Coat (Yellow) (Clothing) on 2024-12-30 10:24:10'),\n",
       "  Document(id='ed829588-a1e7-4907-b0e4-8b725d9edbd2', metadata={'categories': ['Jewelry', 'Electronics'], 'order_date': '2025-01-01 13:06:36', 'products': ['Necklace (Orange)', 'Smartwatch (Pink)'], 'user_id': 445.0, 'user_name': 'Kylie Hughes'}, page_content='User Kylie Hughes ordered Necklace (Orange) (Jewelry) and Smartwatch (Pink) (Electronics) on 2025-01-01 13:06:36'),\n",
       "  Document(id='8640bcfd-2fab-4d9c-93f7-1de72a8ef010', metadata={'categories': ['Clothing', 'Home Goods'], 'order_date': '2025-01-01 14:12:42', 'products': ['Plus Size Coat (Brown)', 'Curtain (Yellow)'], 'user_id': 350.0, 'user_name': 'Cheryl Fuller'}, page_content='User Cheryl Fuller ordered Plus Size Coat (Brown) (Clothing) and Curtain (Yellow) (Home Goods) on 2025-01-01 14:12:42'),\n",
       "  Document(id='0e6c334f-e2a7-4e66-827f-c63f4eec5648', metadata={'categories': ['Jewelry'], 'order_date': '2025-01-01 14:10:59', 'products': ['Necklace (Purple)'], 'user_id': 431.0, 'user_name': 'Derek Holt'}, page_content='User Derek Holt ordered Necklace (Purple) (Jewelry) on 2025-01-01 14:10:59'),\n",
       "  Document(id='133d28ee-0d53-4247-9219-1128877fafa3', metadata={'categories': ['Clothing', 'Flower Type'], 'order_date': '2025-01-01 14:10:10', 'products': ['Plus Size Coat (Red)', 'Orchid (Brown)'], 'user_id': 459.0, 'user_name': 'Daniel Taylor'}, page_content='User Daniel Taylor ordered Plus Size Coat (Red) (Clothing) and Orchid (Brown) (Flower Type) on 2025-01-01 14:10:10'),\n",
       "  Document(id='6dd0462a-e876-408f-b58c-be53c98356e7', metadata={'categories': ['Personal Care', 'Clothing', 'Electronics', 'Clothing', 'Home Goods'], 'order_date': '2025-01-01 14:14:43', 'products': ['Body Lotion (White)', 'Wool Coat (Pink)', 'Smartphone (Red)', 'Plus Size Coat (Green)', 'Curtain (White)'], 'user_id': 345.0, 'user_name': 'Maria Alvarez'}, page_content='User Maria Alvarez ordered Body Lotion (White) (Personal Care) and Wool Coat (Pink) (Clothing) and Smartphone (Red) (Electronics) and Plus Size Coat (Green) (Clothing) and Curtain (White) (Home Goods) on 2025-01-01 14:14:43'),\n",
       "  Document(id='5b85b4a2-e35e-4fd3-8fff-a060648edeb0', metadata={'categories': ['Personal Care', 'Flower Type', 'Clothing', 'Home Goods', 'Flower Type'], 'order_date': '2025-01-01 14:10:01', 'products': ['Shampoo (Red)', 'Begonia (Blue)', 'Winter Coat (Green)', 'Lamp (Purple)', 'Daisy (Green)'], 'user_id': 450.0, 'user_name': 'John Stephens'}, page_content='User John Stephens ordered Shampoo (Red) (Personal Care) and Begonia (Blue) (Flower Type) and Winter Coat (Green) (Clothing) and Lamp (Purple) (Home Goods) and Daisy (Green) (Flower Type) on 2025-01-01 14:10:01'),\n",
       "  Document(id='e7e7f4bc-6ad5-470e-afb2-cc3366e03ddf', metadata={'categories': ['Personal Care', 'Home Goods', 'Electronics', 'Home Goods', 'Personal Care'], 'order_date': '2025-01-01 14:13:15', 'products': ['Perfume (Brown)', 'Food Processor (White)', 'mouse (Blue)', 'Carpet (Pink)', 'Shampoo (Brown)'], 'user_id': 486.0, 'user_name': 'Javier Wheeler'}, page_content='User Javier Wheeler ordered Perfume (Brown) (Personal Care) and Food Processor (White) (Home Goods) and mouse (Blue) (Electronics) and Carpet (Pink) (Home Goods) and Shampoo (Brown) (Personal Care) on 2025-01-01 14:13:15'),\n",
       "  Document(id='6ca5433b-15df-4a97-9892-c926768020c7', metadata={'categories': ['Personal Care'], 'order_date': '2024-12-30 10:24:42', 'products': ['Perfume (Purple)'], 'user_id': 387.0, 'user_name': 'Jeffery Johnson'}, page_content='User Jeffery Johnson ordered Perfume (Purple) (Personal Care) on 2024-12-30 10:24:42'),\n",
       "  Document(id='47b833f7-ccdf-4331-9d51-78d14ef92198', metadata={'categories': ['Personal Care', 'Jewelry', 'Electronics'], 'order_date': '2025-01-01 14:16:37', 'products': ['Perfume (Purple)', 'Ring (Orange)', 'mouse (Black)'], 'user_id': 483.0, 'user_name': 'Leslie Huber'}, page_content='User Leslie Huber ordered Perfume (Purple) (Personal Care) and Ring (Orange) (Jewelry) and mouse (Black) (Electronics) on 2025-01-01 14:16:37'),\n",
       "  Document(id='5ca6ea27-cfe1-4b4b-a0e9-da6d95621030', metadata={'categories': ['Home Goods', 'Personal Care', 'Home Goods', 'Home Goods'], 'order_date': '2025-01-01 14:09:44', 'products': ['Table Clock (Orange)', 'Shampoo (Orange)', 'Carpet (Orange)', 'Pot (Pink)'], 'user_id': 439.0, 'user_name': 'Elizabeth Murphy'}, page_content='User Elizabeth Murphy ordered Table Clock (Orange) (Home Goods) and Shampoo (Orange) (Personal Care) and Carpet (Orange) (Home Goods) and Pot (Pink) (Home Goods) on 2025-01-01 14:09:44'),\n",
       "  Document(id='70e5f113-c563-4cf3-b980-d0f428869097', metadata={'categories': ['Jewelry', 'Personal Care'], 'order_date': '2025-01-01 13:06:25', 'products': ['Necklace (Purple)', 'Shampoo (Orange)'], 'user_id': 370.0, 'user_name': 'Bradley Maldonado'}, page_content='User Bradley Maldonado ordered Necklace (Purple) (Jewelry) and Shampoo (Orange) (Personal Care) on 2025-01-01 13:06:25'),\n",
       "  Document(id='228ecdaa-eaa8-4ee0-a6e3-cb664f72f93f', metadata={'categories': ['Home Goods'], 'order_date': '2025-01-01 14:16:23', 'products': ['Pot (Orange)'], 'user_id': 481.0, 'user_name': 'Andrew Castillo DDS'}, page_content='User Andrew Castillo DDS ordered Pot (Orange) (Home Goods) on 2025-01-01 14:16:23'),\n",
       "  Document(id='29cbc988-3846-4ece-82f7-a03d922214f2', metadata={'categories': ['Clothing', 'Home Goods', 'Home Goods'], 'order_date': '2025-01-01 14:15:38', 'products': ['Wool Coat (Yellow)', 'Carpet (Purple)', 'Lamp (Black)'], 'user_id': 522.0, 'user_name': 'Christine James'}, page_content='User Christine James ordered Wool Coat (Yellow) (Clothing) and Carpet (Purple) (Home Goods) and Lamp (Black) (Home Goods) on 2025-01-01 14:15:38'),\n",
       "  Document(id='9774c510-43c9-4c9c-a529-fa055576aa56', metadata={'categories': ['Jewelry', 'Clothing', 'Flower Type', 'Personal Care'], 'order_date': '2025-01-01 14:13:18', 'products': ['Ring (Red)', 'Wool Coat (Yellow)', 'Daisy (Brown)', 'Perfume (White)'], 'user_id': 474.0, 'user_name': 'Sean Lee'}, page_content='User Sean Lee ordered Ring (Red) (Jewelry) and Wool Coat (Yellow) (Clothing) and Daisy (Brown) (Flower Type) and Perfume (White) (Personal Care) on 2025-01-01 14:13:18'),\n",
       "  Document(id='ad969408-8f8e-4701-badb-8c529bae69f5', metadata={'categories': ['Flower Type', 'Personal Care'], 'order_date': '2025-01-01 14:14:28', 'products': ['Daisy (Green)', 'Body Lotion (Black)'], 'user_id': 381.0, 'user_name': 'Katherine Williams'}, page_content='User Katherine Williams ordered Daisy (Green) (Flower Type) and Body Lotion (Black) (Personal Care) on 2025-01-01 14:14:28'),\n",
       "  Document(id='e6e9e94b-9c58-4a54-bd40-3915879c9a52', metadata={'categories': ['Home Goods', 'Home Goods', 'Clothing'], 'order_date': '2024-12-30 10:24:15', 'products': ['Food Processor (Yellow)', 'Knife Set (Green)', 'Wool Coat (Black)'], 'user_id': 440.0, 'user_name': 'April Brown'}, page_content='User April Brown ordered Food Processor (Yellow) (Home Goods) and Knife Set (Green) (Home Goods) and Wool Coat (Black) (Clothing) on 2024-12-30 10:24:15'),\n",
       "  Document(id='99459d43-99f9-413a-a653-14a8295228ea', metadata={'categories': ['Home Goods', 'Home Goods', 'Personal Care', 'Jewelry'], 'order_date': '2025-01-01 14:10:23', 'products': ['Knife Set (Pink)', 'Pitcher (White)', 'Perfume (Orange)', 'Earrings (Purple)'], 'user_id': 474.0, 'user_name': 'Sean Lee'}, page_content='User Sean Lee ordered Knife Set (Pink) (Home Goods) and Pitcher (White) (Home Goods) and Perfume (Orange) (Personal Care) and Earrings (Purple) (Jewelry) on 2025-01-01 14:10:23'),\n",
       "  Document(id='1ba4d839-c6db-46d7-8bc1-3ceb7c350295', metadata={'categories': ['Home Goods'], 'order_date': '2025-01-01 14:13:12', 'products': ['Knife Set (Green)'], 'user_id': 363.0, 'user_name': 'Michael Davies'}, page_content='User Michael Davies ordered Knife Set (Green) (Home Goods) on 2025-01-01 14:13:12'),\n",
       "  Document(id='3c603cfb-da1d-4d71-92c3-8e497134c6d7', metadata={'categories': ['Jewelry', 'Clothing', 'Electronics'], 'order_date': '2025-01-01 14:13:40', 'products': ['Necklace (Blue)', 'Plus Size Coat (Green)', 'mouse (Purple)'], 'user_id': 375.0, 'user_name': 'Lori Gay'}, page_content='User Lori Gay ordered Necklace (Blue) (Jewelry) and Plus Size Coat (Green) (Clothing) and mouse (Purple) (Electronics) on 2025-01-01 14:13:40'),\n",
       "  Document(id='67b17925-57de-4c8d-8ff3-49462b385a3a', metadata={'categories': ['Electronics'], 'order_date': '2025-01-01 14:11:59', 'products': ['Smartphone (Yellow)'], 'user_id': 350.0, 'user_name': 'Cheryl Fuller'}, page_content='User Cheryl Fuller ordered Smartphone (Yellow) (Electronics) on 2025-01-01 14:11:59'),\n",
       "  Document(id='f8b9ac16-b266-4277-ae6a-2a873bb42247', metadata={'categories': ['Jewelry', 'Jewelry', 'Electronics', 'Home Goods', 'Clothing'], 'order_date': '2025-01-01 14:13:50', 'products': ['Bracelet (Black)', 'Earrings (Black)', 'Smartphone (Brown)', 'Table Clock (Black)', 'Wool Coat (Pink)'], 'user_id': 445.0, 'user_name': 'Kylie Hughes'}, page_content='User Kylie Hughes ordered Bracelet (Black) (Jewelry) and Earrings (Black) (Jewelry) and Smartphone (Brown) (Electronics) and Table Clock (Black) (Home Goods) and Wool Coat (Pink) (Clothing) on 2025-01-01 14:13:50'),\n",
       "  Document(id='cd680f12-3a86-47cb-b8af-df2ac9d12b10', metadata={'categories': ['Flower Type', 'Jewelry'], 'order_date': '2025-01-01 14:14:09', 'products': ['Orchid (Black)', 'Earrings (White)'], 'user_id': 513.0, 'user_name': 'Mrs. Sabrina Delgado MD'}, page_content='User Mrs. Sabrina Delgado MD ordered Orchid (Black) (Flower Type) and Earrings (White) (Jewelry) on 2025-01-01 14:14:09'),\n",
       "  Document(id='5364cbf0-7dc0-42a5-8c87-e1f0ef8da0b2', metadata={'categories': ['Flower Type', 'Flower Type', 'Jewelry'], 'order_date': '2025-01-01 14:10:06', 'products': ['Orchid (Purple)', 'Cactus (White)', 'Earrings (Green)'], 'user_id': 432.0, 'user_name': 'Christopher Nguyen'}, page_content='User Christopher Nguyen ordered Orchid (Purple) (Flower Type) and Cactus (White) (Flower Type) and Earrings (Green) (Jewelry) on 2025-01-01 14:10:06'),\n",
       "  Document(id='2376c944-12f7-4258-9155-da8b0d980bef', metadata={'categories': ['Home Goods', 'Home Goods'], 'order_date': '2025-01-01 14:15:03', 'products': ['Table Clock (Orange)', 'Table Clock (White)'], 'user_id': 494.0, 'user_name': 'Andrea Thomas'}, page_content='User Andrea Thomas ordered Table Clock (Orange) (Home Goods) and Table Clock (White) (Home Goods) on 2025-01-01 14:15:03'),\n",
       "  Document(id='d2152d96-5382-4406-84a8-79842f1a2398', metadata={'categories': ['Home Goods', 'Personal Care', 'Home Goods', 'Clothing'], 'order_date': '2025-01-01 14:13:54', 'products': ['Food Processor (Brown)', 'Shampoo (Purple)', 'Lamp (Brown)', 'Patterned Shirt (Brown)'], 'user_id': 368.0, 'user_name': 'Katherine Manning'}, page_content='User Katherine Manning ordered Food Processor (Brown) (Home Goods) and Shampoo (Purple) (Personal Care) and Lamp (Brown) (Home Goods) and Patterned Shirt (Brown) (Clothing) on 2025-01-01 14:13:54'),\n",
       "  Document(id='13427e79-2b66-4b23-9aa9-8e739c630bc9', metadata={'categories': ['Home Goods', 'Electronics'], 'order_date': '2024-12-30 10:23:52', 'products': ['Table Clock (Pink)', 'keyword (Green)'], 'user_id': 417.0, 'user_name': 'Rachel Brown'}, page_content='User Rachel Brown ordered Table Clock (Pink) (Home Goods) and keyword (Green) (Electronics) on 2024-12-30 10:23:52'),\n",
       "  Document(id='11f33146-7d89-40e6-8081-cfc3ed4bc35f', metadata={'categories': ['Flower Type', 'Jewelry'], 'order_date': '2025-01-01 14:16:47', 'products': ['Begonia (Red)', 'Ring (Red)'], 'user_id': 391.0, 'user_name': 'Julie Huffman'}, page_content='User Julie Huffman ordered Begonia (Red) (Flower Type) and Ring (Red) (Jewelry) on 2025-01-01 14:16:47'),\n",
       "  Document(id='e1823ec1-6d96-4503-8a1e-73f6fadc879d', metadata={'categories': ['Electronics', 'Jewelry', 'Clothing', 'Personal Care'], 'order_date': '2025-01-01 14:15:11', 'products': ['Bluetooth Headset (Black)', 'Earrings (Blue)', 'Men Blazer (Pink)', 'Shampoo (Yellow)'], 'user_id': 447.0, 'user_name': 'Carrie Williams'}, page_content='User Carrie Williams ordered Bluetooth Headset (Black) (Electronics) and Earrings (Blue) (Jewelry) and Men Blazer (Pink) (Clothing) and Shampoo (Yellow) (Personal Care) on 2025-01-01 14:15:11'),\n",
       "  Document(id='e0f831e0-347c-4580-9b1c-5792cccbfa8c', metadata={'categories': ['Clothing', 'Home Goods', 'Flower Type', 'Clothing', 'Flower Type'], 'order_date': '2024-12-30 10:24:20', 'products': ['V-neck T-shirt (Brown)', 'Food Processor (White)', 'Rose (Blue)', 'Wool Sweater (Red)', 'Succulent (White)'], 'user_id': 433.0, 'user_name': 'Kathleen Miller'}, page_content='User Kathleen Miller ordered V-neck T-shirt (Brown) (Clothing) and Food Processor (White) (Home Goods) and Rose (Blue) (Flower Type) and Wool Sweater (Red) (Clothing) and Succulent (White) (Flower Type) on 2024-12-30 10:24:20'),\n",
       "  Document(id='d9809e31-a005-4d38-b28c-927264ab7e14', metadata={'categories': ['Home Goods', 'Jewelry', 'Personal Care', 'Personal Care'], 'order_date': '2024-12-30 10:24:37', 'products': ['Carpet (Orange)', 'Bracelet (Orange)', 'Toothbrush (Yellow)', 'Toothbrush (Red)'], 'user_id': 399.0, 'user_name': 'Erik Glenn'}, page_content='User Erik Glenn ordered Carpet (Orange) (Home Goods) and Bracelet (Orange) (Jewelry) and Toothbrush (Yellow) (Personal Care) and Toothbrush (Red) (Personal Care) on 2024-12-30 10:24:37'),\n",
       "  Document(id='2a297942-b242-44b2-bef0-73afe7e9d167', metadata={'categories': ['Personal Care', 'Flower Type', 'Home Goods', 'Electronics', 'Flower Type'], 'order_date': '2025-01-01 14:11:07', 'products': ['Perfume (White)', 'Rose (Green)', 'Pitcher (Orange)', 'Smartwatch (Red)', 'Cactus (Green)'], 'user_id': 483.0, 'user_name': 'Leslie Huber'}, page_content='User Leslie Huber ordered Perfume (White) (Personal Care) and Rose (Green) (Flower Type) and Pitcher (Orange) (Home Goods) and Smartwatch (Red) (Electronics) and Cactus (Green) (Flower Type) on 2025-01-01 14:11:07'),\n",
       "  Document(id='e727dd49-2658-4ba4-ab98-0e6ff4a803c5', metadata={'categories': ['Electronics', 'Jewelry', 'Home Goods', 'Personal Care', 'Jewelry'], 'order_date': '2025-01-01 14:14:48', 'products': ['keyword (White)', 'Earrings (White)', 'Table Clock (Orange)', 'Toothbrush (Orange)', 'Bracelet (Green)'], 'user_id': 495.0, 'user_name': 'Felicia Jones'}, page_content='User Felicia Jones ordered keyword (White) (Electronics) and Earrings (White) (Jewelry) and Table Clock (Orange) (Home Goods) and Toothbrush (Orange) (Personal Care) and Bracelet (Green) (Jewelry) on 2025-01-01 14:14:48'),\n",
       "  Document(id='3e3faf0b-c2c7-4c03-9603-d99511559adf', metadata={'categories': ['Jewelry', 'Personal Care'], 'order_date': '2025-01-01 14:09:53', 'products': ['Ring (Purple)', 'Perfume (White)'], 'user_id': 423.0, 'user_name': 'Lisa Smith'}, page_content='User Lisa Smith ordered Ring (Purple) (Jewelry) and Perfume (White) (Personal Care) on 2025-01-01 14:09:53'),\n",
       "  Document(id='309667be-f0ad-41f9-9ef3-abc66573e5e1', metadata={'categories': ['Jewelry'], 'order_date': '2025-01-01 14:10:19', 'products': ['Bracelet (Black)'], 'user_id': 426.0, 'user_name': 'Cynthia Andrade'}, page_content='User Cynthia Andrade ordered Bracelet (Black) (Jewelry) on 2025-01-01 14:10:19'),\n",
       "  Document(id='c99924e6-979f-40a7-9a00-07d7005782f8', metadata={'categories': ['Jewelry'], 'order_date': '2024-12-30 10:24:57', 'products': ['Necklace (Yellow)'], 'user_id': 445.0, 'user_name': 'Kylie Hughes'}, page_content='User Kylie Hughes ordered Necklace (Yellow) (Jewelry) on 2024-12-30 10:24:57'),\n",
       "  Document(id='981c144c-bf9a-4a8d-b2cd-26024e043225', metadata={'categories': ['Flower Type', 'Electronics'], 'order_date': '2025-01-01 14:15:31', 'products': ['Tulip (Green)', 'Powerbank (Orange)'], 'user_id': 526.0, 'user_name': 'Teresa Reese'}, page_content='User Teresa Reese ordered Tulip (Green) (Flower Type) and Powerbank (Orange) (Electronics) on 2025-01-01 14:15:31'),\n",
       "  Document(id='a043e2cb-6dd6-42f9-980a-c4ad2f979a31', metadata={'categories': ['Home Goods', 'Flower Type'], 'order_date': '2025-01-01 14:12:07', 'products': ['Carpet (Orange)', 'Tulip (Yellow)'], 'user_id': 397.0, 'user_name': 'Nina Webb'}, page_content='User Nina Webb ordered Carpet (Orange) (Home Goods) and Tulip (Yellow) (Flower Type) on 2025-01-01 14:12:07'),\n",
       "  Document(id='0f774f53-44c5-47ad-a755-ab4726282f6f', metadata={'categories': ['Clothing', 'Flower Type', 'Flower Type'], 'order_date': '2025-01-01 14:14:32', 'products': ['Straight Jeans (White)', 'Daisy (Red)', 'Orchid (Pink)'], 'user_id': 507.0, 'user_name': 'Calvin Harrell'}, page_content='User Calvin Harrell ordered Straight Jeans (White) (Clothing) and Daisy (Red) (Flower Type) and Orchid (Pink) (Flower Type) on 2025-01-01 14:14:32'),\n",
       "  Document(id='59b99d99-ad7f-4db5-becb-b1a0048f5227', metadata={'categories': ['Electronics', 'Electronics', 'Electronics', 'Home Goods', 'Clothing'], 'order_date': '2025-01-01 14:14:55', 'products': ['mouse (Pink)', 'Powerbank (Orange)', 'Smartwatch (Blue)', 'Knife Set (Orange)', 'V-neck T-shirt (Brown)'], 'user_id': 433.0, 'user_name': 'Kathleen Miller'}, page_content='User Kathleen Miller ordered mouse (Pink) (Electronics) and Powerbank (Orange) (Electronics) and Smartwatch (Blue) (Electronics) and Knife Set (Orange) (Home Goods) and V-neck T-shirt (Brown) (Clothing) on 2025-01-01 14:14:55'),\n",
       "  Document(id='b93d23ce-5490-4ec5-86a0-a954d8f70434', metadata={'categories': ['Electronics', 'Personal Care', 'Flower Type', 'Electronics', 'Jewelry'], 'order_date': '2025-01-01 14:11:42', 'products': ['Bluetooth Headset (Pink)', 'Shampoo (White)', 'Orchid (Black)', 'Smartwatch (Green)', 'Earrings (Blue)'], 'user_id': 363.0, 'user_name': 'Michael Davies'}, page_content='User Michael Davies ordered Bluetooth Headset (Pink) (Electronics) and Shampoo (White) (Personal Care) and Orchid (Black) (Flower Type) and Smartwatch (Green) (Electronics) and Earrings (Blue) (Jewelry) on 2025-01-01 14:11:42'),\n",
       "  Document(id='470e1346-ceed-4e75-8f8c-29783bd4eaac', metadata={'categories': ['Jewelry', 'Flower Type', 'Personal Care', 'Jewelry'], 'order_date': '2025-01-01 14:11:14', 'products': ['Necklace (Red)', 'Rose (Yellow)', 'Toothbrush (Purple)', 'Ring (Red)'], 'user_id': 458.0, 'user_name': 'Sherry Valentine'}, page_content='User Sherry Valentine ordered Necklace (Red) (Jewelry) and Rose (Yellow) (Flower Type) and Toothbrush (Purple) (Personal Care) and Ring (Red) (Jewelry) on 2025-01-01 14:11:14'),\n",
       "  Document(id='f2df82ee-6596-4f08-a44c-355d75c7e478', metadata={'categories': ['Home Goods', 'Flower Type', 'Clothing', 'Jewelry', 'Home Goods'], 'order_date': '2024-12-30 10:24:54', 'products': ['Carpet (Orange)', 'Cactus (Purple)', 'Wool Coat (Black)', 'Earrings (Red)', 'Carpet (Blue)'], 'user_id': 350.0, 'user_name': 'Cheryl Fuller'}, page_content='User Cheryl Fuller ordered Carpet (Orange) (Home Goods) and Cactus (Purple) (Flower Type) and Wool Coat (Black) (Clothing) and Earrings (Red) (Jewelry) and Carpet (Blue) (Home Goods) on 2024-12-30 10:24:54')],\n",
       " 'answer': 'User Jason Martinez has placed two orders.'}"
      ]
     },
     "execution_count": 52,
     "metadata": {},
     "output_type": "execute_result"
    }
   ],
   "source": [
    "conversational_chain(\"How many orders has User Jason Martinez placed?\")"
   ]
  },
  {
   "cell_type": "code",
   "execution_count": 53,
   "metadata": {},
   "outputs": [],
   "source": [
    "def conversational_chain(query):\n",
    "    answer = conversational_rag_chain.invoke(\n",
    "        {\"input\": query},\n",
    "        config={\n",
    "            \"configurable\": {\"session_id\": \"MySessionId0001\"}     \n",
    "        }\n",
    "    )[\"answer\"]\n",
    "    return answer"
   ]
  },
  {
   "cell_type": "code",
   "execution_count": 54,
   "metadata": {},
   "outputs": [
    {
     "data": {
      "text/plain": [
       "'User Jason Martinez has placed two orders.'"
      ]
     },
     "execution_count": 54,
     "metadata": {},
     "output_type": "execute_result"
    }
   ],
   "source": [
    "conversational_chain(\"How many orders has User Jason Martinez placed?\")"
   ]
  },
  {
   "cell_type": "code",
   "execution_count": null,
   "metadata": {},
   "outputs": [
    {
     "data": {
      "text/plain": [
       "{'indexes': [{'deletion_protection': 'disabled',\n",
       "              'dimension': 384,\n",
       "              'host': 'e-commerce-npkcsdw.svc.aped-4627-b74a.pinecone.io',\n",
       "              'metric': 'cosine',\n",
       "              'name': 'e-commerce',\n",
       "              'spec': {'serverless': {'cloud': 'aws', 'region': 'us-east-1'}},\n",
       "              'status': {'ready': True, 'state': 'Ready'}},\n",
       "             {'deletion_protection': 'disabled',\n",
       "              'dimension': 768,\n",
       "              'host': 'ecommerce-2-npkcsdw.svc.aped-4627-b74a.pinecone.io',\n",
       "              'metric': 'cosine',\n",
       "              'name': 'ecommerce-2',\n",
       "              'spec': {'serverless': {'cloud': 'aws', 'region': 'us-east-1'}},\n",
       "              'status': {'ready': True, 'state': 'Ready'}},\n",
       "             {'deletion_protection': 'disabled',\n",
       "              'dimension': 768,\n",
       "              'host': 'new-ecommerce-npkcsdw.svc.aped-4627-b74a.pinecone.io',\n",
       "              'metric': 'dotproduct',\n",
       "              'name': 'new-ecommerce',\n",
       "              'spec': {'serverless': {'cloud': 'aws', 'region': 'us-east-1'}},\n",
       "              'status': {'ready': True, 'state': 'Ready'}},\n",
       "             {'deletion_protection': 'disabled',\n",
       "              'dimension': 1536,\n",
       "              'host': 'web-log-datas-npkcsdw.svc.aped-4627-b74a.pinecone.io',\n",
       "              'metric': 'cosine',\n",
       "              'name': 'web-log-datas',\n",
       "              'spec': {'serverless': {'cloud': 'aws', 'region': 'us-east-1'}},\n",
       "              'status': {'ready': True, 'state': 'Ready'}}]}"
      ]
     },
     "execution_count": 2,
     "metadata": {},
     "output_type": "execute_result"
    }
   ],
   "source": [
    "from sentence_transformers import SentenceTransformer\n",
    "from pinecone import Pinecone\n",
    "import os\n",
    "from dotenv import load_dotenv\n",
    "import openai\n",
    "\n",
    "# Ortam değişkenlerini yükle\n",
    "load_dotenv()\n",
    "\n",
    "# Model ve Pinecone kurulumu\n",
    "pc = Pinecone(api_key=os.getenv(\"PINECONE_API_KEY\"))\n",
    "openai.api_key = os.getenv(\"OPENAI_API_KEY\")\n",
    "model = SentenceTransformer(\"sentence-transformers/all-mpnet-base-v2\")\n",
    "\n",
    "pc.list_indexes()"
   ]
  },
  {
   "cell_type": "code",
   "execution_count": null,
   "metadata": {},
   "outputs": [],
   "source": []
  }
 ],
 "metadata": {
  "kernelspec": {
   "display_name": "venv",
   "language": "python",
   "name": "python3"
  },
  "language_info": {
   "codemirror_mode": {
    "name": "ipython",
    "version": 3
   },
   "file_extension": ".py",
   "mimetype": "text/x-python",
   "name": "python",
   "nbconvert_exporter": "python",
   "pygments_lexer": "ipython3",
   "version": "3.12.2"
  }
 },
 "nbformat": 4,
 "nbformat_minor": 2
}
